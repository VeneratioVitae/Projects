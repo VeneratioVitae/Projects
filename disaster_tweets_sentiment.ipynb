{
  "cells": [
    {
      "cell_type": "markdown",
      "metadata": {
        "id": "view-in-github",
        "colab_type": "text"
      },
      "source": [
        "<a href=\"https://colab.research.google.com/github/VeneratioVitae/Projects/blob/main/disaster_tweets_sentiment.ipynb\" target=\"_parent\"><img src=\"https://colab.research.google.com/assets/colab-badge.svg\" alt=\"Open In Colab\"/></a>"
      ]
    },
    {
      "cell_type": "code",
      "execution_count": 1,
      "id": "a6b8db08",
      "metadata": {
        "execution": {
          "iopub.execute_input": "2022-01-21T14:47:04.040681Z",
          "iopub.status.busy": "2022-01-21T14:47:04.024899Z",
          "iopub.status.idle": "2022-01-21T14:47:33.095899Z",
          "shell.execute_reply": "2022-01-21T14:47:33.096450Z",
          "shell.execute_reply.started": "2022-01-21T14:31:25.231925Z"
        },
        "papermill": {
          "duration": 29.154765,
          "end_time": "2022-01-21T14:47:33.096826",
          "exception": false,
          "start_time": "2022-01-21T14:47:03.942061",
          "status": "completed"
        },
        "tags": [],
        "colab": {
          "base_uri": "https://localhost:8080/"
        },
        "id": "a6b8db08",
        "outputId": "b2c9f412-24e5-4940-b423-640cc7592b72"
      },
      "outputs": [
        {
          "output_type": "stream",
          "name": "stdout",
          "text": [
            "Collecting keybert\n",
            "  Downloading keybert-0.5.0.tar.gz (19 kB)\n",
            "Collecting sentence-transformers>=0.3.8\n",
            "  Downloading sentence-transformers-2.1.0.tar.gz (78 kB)\n",
            "\u001b[K     |████████████████████████████████| 78 kB 4.9 MB/s \n",
            "\u001b[?25hRequirement already satisfied: scikit-learn>=0.22.2 in /usr/local/lib/python3.7/dist-packages (from keybert) (1.0.2)\n",
            "Requirement already satisfied: numpy>=1.18.5 in /usr/local/lib/python3.7/dist-packages (from keybert) (1.19.5)\n",
            "Collecting rich>=10.4.0\n",
            "  Downloading rich-11.1.0-py3-none-any.whl (216 kB)\n",
            "\u001b[K     |████████████████████████████████| 216 kB 15.4 MB/s \n",
            "\u001b[?25hCollecting commonmark<0.10.0,>=0.9.0\n",
            "  Downloading commonmark-0.9.1-py2.py3-none-any.whl (51 kB)\n",
            "\u001b[K     |████████████████████████████████| 51 kB 8.8 MB/s \n",
            "\u001b[?25hRequirement already satisfied: pygments<3.0.0,>=2.6.0 in /usr/local/lib/python3.7/dist-packages (from rich>=10.4.0->keybert) (2.6.1)\n",
            "Collecting colorama<0.5.0,>=0.4.0\n",
            "  Downloading colorama-0.4.4-py2.py3-none-any.whl (16 kB)\n",
            "Requirement already satisfied: typing-extensions<5.0,>=3.7.4 in /usr/local/lib/python3.7/dist-packages (from rich>=10.4.0->keybert) (3.10.0.2)\n",
            "Requirement already satisfied: scipy>=1.1.0 in /usr/local/lib/python3.7/dist-packages (from scikit-learn>=0.22.2->keybert) (1.4.1)\n",
            "Requirement already satisfied: threadpoolctl>=2.0.0 in /usr/local/lib/python3.7/dist-packages (from scikit-learn>=0.22.2->keybert) (3.1.0)\n",
            "Requirement already satisfied: joblib>=0.11 in /usr/local/lib/python3.7/dist-packages (from scikit-learn>=0.22.2->keybert) (1.1.0)\n",
            "Collecting transformers<5.0.0,>=4.6.0\n",
            "  Downloading transformers-4.16.2-py3-none-any.whl (3.5 MB)\n",
            "\u001b[K     |████████████████████████████████| 3.5 MB 43.0 MB/s \n",
            "\u001b[?25hCollecting tokenizers>=0.10.3\n",
            "  Downloading tokenizers-0.11.4-cp37-cp37m-manylinux_2_12_x86_64.manylinux2010_x86_64.whl (6.8 MB)\n",
            "\u001b[K     |████████████████████████████████| 6.8 MB 37.7 MB/s \n",
            "\u001b[?25hRequirement already satisfied: tqdm in /usr/local/lib/python3.7/dist-packages (from sentence-transformers>=0.3.8->keybert) (4.62.3)\n",
            "Requirement already satisfied: torch>=1.6.0 in /usr/local/lib/python3.7/dist-packages (from sentence-transformers>=0.3.8->keybert) (1.10.0+cu111)\n",
            "Requirement already satisfied: torchvision in /usr/local/lib/python3.7/dist-packages (from sentence-transformers>=0.3.8->keybert) (0.11.1+cu111)\n",
            "Requirement already satisfied: nltk in /usr/local/lib/python3.7/dist-packages (from sentence-transformers>=0.3.8->keybert) (3.2.5)\n",
            "Collecting sentencepiece\n",
            "  Downloading sentencepiece-0.1.96-cp37-cp37m-manylinux_2_17_x86_64.manylinux2014_x86_64.whl (1.2 MB)\n",
            "\u001b[K     |████████████████████████████████| 1.2 MB 51.4 MB/s \n",
            "\u001b[?25hCollecting huggingface-hub\n",
            "  Downloading huggingface_hub-0.4.0-py3-none-any.whl (67 kB)\n",
            "\u001b[K     |████████████████████████████████| 67 kB 6.6 MB/s \n",
            "\u001b[?25hRequirement already satisfied: requests in /usr/local/lib/python3.7/dist-packages (from transformers<5.0.0,>=4.6.0->sentence-transformers>=0.3.8->keybert) (2.23.0)\n",
            "Collecting sacremoses\n",
            "  Downloading sacremoses-0.0.47-py2.py3-none-any.whl (895 kB)\n",
            "\u001b[K     |████████████████████████████████| 895 kB 52.2 MB/s \n",
            "\u001b[?25hRequirement already satisfied: importlib-metadata in /usr/local/lib/python3.7/dist-packages (from transformers<5.0.0,>=4.6.0->sentence-transformers>=0.3.8->keybert) (4.10.1)\n",
            "Requirement already satisfied: regex!=2019.12.17 in /usr/local/lib/python3.7/dist-packages (from transformers<5.0.0,>=4.6.0->sentence-transformers>=0.3.8->keybert) (2019.12.20)\n",
            "Requirement already satisfied: filelock in /usr/local/lib/python3.7/dist-packages (from transformers<5.0.0,>=4.6.0->sentence-transformers>=0.3.8->keybert) (3.4.2)\n",
            "Requirement already satisfied: packaging>=20.0 in /usr/local/lib/python3.7/dist-packages (from transformers<5.0.0,>=4.6.0->sentence-transformers>=0.3.8->keybert) (21.3)\n",
            "Collecting pyyaml>=5.1\n",
            "  Downloading PyYAML-6.0-cp37-cp37m-manylinux_2_5_x86_64.manylinux1_x86_64.manylinux_2_12_x86_64.manylinux2010_x86_64.whl (596 kB)\n",
            "\u001b[K     |████████████████████████████████| 596 kB 52.0 MB/s \n",
            "\u001b[?25hRequirement already satisfied: pyparsing!=3.0.5,>=2.0.2 in /usr/local/lib/python3.7/dist-packages (from packaging>=20.0->transformers<5.0.0,>=4.6.0->sentence-transformers>=0.3.8->keybert) (3.0.7)\n",
            "Requirement already satisfied: zipp>=0.5 in /usr/local/lib/python3.7/dist-packages (from importlib-metadata->transformers<5.0.0,>=4.6.0->sentence-transformers>=0.3.8->keybert) (3.7.0)\n",
            "Requirement already satisfied: six in /usr/local/lib/python3.7/dist-packages (from nltk->sentence-transformers>=0.3.8->keybert) (1.15.0)\n",
            "Requirement already satisfied: certifi>=2017.4.17 in /usr/local/lib/python3.7/dist-packages (from requests->transformers<5.0.0,>=4.6.0->sentence-transformers>=0.3.8->keybert) (2021.10.8)\n",
            "Requirement already satisfied: urllib3!=1.25.0,!=1.25.1,<1.26,>=1.21.1 in /usr/local/lib/python3.7/dist-packages (from requests->transformers<5.0.0,>=4.6.0->sentence-transformers>=0.3.8->keybert) (1.24.3)\n",
            "Requirement already satisfied: chardet<4,>=3.0.2 in /usr/local/lib/python3.7/dist-packages (from requests->transformers<5.0.0,>=4.6.0->sentence-transformers>=0.3.8->keybert) (3.0.4)\n",
            "Requirement already satisfied: idna<3,>=2.5 in /usr/local/lib/python3.7/dist-packages (from requests->transformers<5.0.0,>=4.6.0->sentence-transformers>=0.3.8->keybert) (2.10)\n",
            "Requirement already satisfied: click in /usr/local/lib/python3.7/dist-packages (from sacremoses->transformers<5.0.0,>=4.6.0->sentence-transformers>=0.3.8->keybert) (7.1.2)\n",
            "Requirement already satisfied: pillow!=8.3.0,>=5.3.0 in /usr/local/lib/python3.7/dist-packages (from torchvision->sentence-transformers>=0.3.8->keybert) (7.1.2)\n",
            "Building wheels for collected packages: keybert, sentence-transformers\n",
            "  Building wheel for keybert (setup.py) ... \u001b[?25l\u001b[?25hdone\n",
            "  Created wheel for keybert: filename=keybert-0.5.0-py3-none-any.whl size=20491 sha256=1193fad5696ad2b66b36fcea58ee12def2000ab26d03b1c753684ac8318aee03\n",
            "  Stored in directory: /root/.cache/pip/wheels/99/1f/3f/590d2997adbb2d0e1f82e8ee05d42d6910e92c3ed283015ff8\n",
            "  Building wheel for sentence-transformers (setup.py) ... \u001b[?25l\u001b[?25hdone\n",
            "  Created wheel for sentence-transformers: filename=sentence_transformers-2.1.0-py3-none-any.whl size=120999 sha256=0aefbf3509bf00806e6d579f6db586c5f22a9a2edcb663de6413104ba7020ceb\n",
            "  Stored in directory: /root/.cache/pip/wheels/90/f0/bb/ed1add84da70092ea526466eadc2bfb197c4bcb8d4fa5f7bad\n",
            "Successfully built keybert sentence-transformers\n",
            "Installing collected packages: pyyaml, tokenizers, sacremoses, huggingface-hub, transformers, sentencepiece, commonmark, colorama, sentence-transformers, rich, keybert\n",
            "  Attempting uninstall: pyyaml\n",
            "    Found existing installation: PyYAML 3.13\n",
            "    Uninstalling PyYAML-3.13:\n",
            "      Successfully uninstalled PyYAML-3.13\n",
            "Successfully installed colorama-0.4.4 commonmark-0.9.1 huggingface-hub-0.4.0 keybert-0.5.0 pyyaml-6.0 rich-11.1.0 sacremoses-0.0.47 sentence-transformers-2.1.0 sentencepiece-0.1.96 tokenizers-0.11.4 transformers-4.16.2\n",
            "[nltk_data] Downloading package stopwords to /root/nltk_data...\n",
            "[nltk_data]   Unzipping corpora/stopwords.zip.\n",
            "[nltk_data] Downloading package vader_lexicon to /root/nltk_data...\n"
          ]
        }
      ],
      "source": [
        "#importing libraries\n",
        "import pandas as pd\n",
        "import numpy as np\n",
        "from warnings import simplefilter\n",
        "simplefilter(\"ignore\")\n",
        "\n",
        "import matplotlib.pyplot as plt\n",
        "import seaborn as sns\n",
        "%matplotlib inline\n",
        "\n",
        "import chardet #evaluate encoding of csv\n",
        "! pip install keybert\n",
        "from keybert import KeyBERT\n",
        "import re\n",
        "import string\n",
        "import nltk\n",
        "nltk.download('stopwords')\n",
        "from nltk import word_tokenize\n",
        "from nltk.corpus import stopwords        \n",
        "from nltk.sentiment.vader import SentimentIntensityAnalyzer\n",
        "from nltk.stem import PorterStemmer\n",
        "nltk.download(\"vader_lexicon\") # load the Lexicon that quantifies polar sentiment (positive/negative)\n",
        "\n",
        "from sklearn.preprocessing import StandardScaler, LabelEncoder, OneHotEncoder\n",
        "from sklearn.feature_extraction.text import CountVectorizer, TfidfTransformer, TfidfVectorizer\n",
        "from sklearn.pipeline import Pipeline, FeatureUnion\n",
        "# from sklearn.compose import ColumnTransformer\n",
        "from sklearn.decomposition import PCA\n",
        "from sklearn.model_selection import train_test_split"
      ]
    },
    {
      "cell_type": "code",
      "execution_count": 3,
      "id": "705791b3",
      "metadata": {
        "execution": {
          "iopub.execute_input": "2022-01-21T14:47:33.628342Z",
          "iopub.status.busy": "2022-01-21T14:47:33.627585Z",
          "iopub.status.idle": "2022-01-21T14:47:33.686823Z",
          "shell.execute_reply": "2022-01-21T14:47:33.687456Z",
          "shell.execute_reply.started": "2022-01-21T14:31:53.261681Z"
        },
        "papermill": {
          "duration": 0.144941,
          "end_time": "2022-01-21T14:47:33.687672",
          "exception": false,
          "start_time": "2022-01-21T14:47:33.542731",
          "status": "completed"
        },
        "tags": [],
        "id": "705791b3"
      },
      "outputs": [],
      "source": [
        "df_train = pd.read_csv(\"/content/train.csv\")\n",
        "X_test = pd.read_csv(\"/content/test.csv\")"
      ]
    },
    {
      "cell_type": "markdown",
      "id": "ffbf36c8",
      "metadata": {
        "papermill": {
          "duration": 0.081961,
          "end_time": "2022-01-21T14:47:33.851753",
          "exception": false,
          "start_time": "2022-01-21T14:47:33.769792",
          "status": "completed"
        },
        "tags": [],
        "id": "ffbf36c8"
      },
      "source": [
        "# EDA"
      ]
    },
    {
      "cell_type": "code",
      "execution_count": 4,
      "id": "b9a4aace",
      "metadata": {
        "execution": {
          "iopub.execute_input": "2022-01-21T14:47:34.030575Z",
          "iopub.status.busy": "2022-01-21T14:47:34.028714Z",
          "iopub.status.idle": "2022-01-21T14:47:34.054442Z",
          "shell.execute_reply": "2022-01-21T14:47:34.055223Z",
          "shell.execute_reply.started": "2022-01-21T14:31:53.331907Z"
        },
        "papermill": {
          "duration": 0.121471,
          "end_time": "2022-01-21T14:47:34.055510",
          "exception": false,
          "start_time": "2022-01-21T14:47:33.934039",
          "status": "completed"
        },
        "tags": [],
        "colab": {
          "base_uri": "https://localhost:8080/",
          "height": 205
        },
        "id": "b9a4aace",
        "outputId": "f94f5729-d3ee-4934-c95c-e518b3f6a5bb"
      },
      "outputs": [
        {
          "output_type": "execute_result",
          "data": {
            "text/html": [
              "\n",
              "  <div id=\"df-76066f4b-2964-43f5-aab7-cbcb41b1d88a\">\n",
              "    <div class=\"colab-df-container\">\n",
              "      <div>\n",
              "<style scoped>\n",
              "    .dataframe tbody tr th:only-of-type {\n",
              "        vertical-align: middle;\n",
              "    }\n",
              "\n",
              "    .dataframe tbody tr th {\n",
              "        vertical-align: top;\n",
              "    }\n",
              "\n",
              "    .dataframe thead th {\n",
              "        text-align: right;\n",
              "    }\n",
              "</style>\n",
              "<table border=\"1\" class=\"dataframe\">\n",
              "  <thead>\n",
              "    <tr style=\"text-align: right;\">\n",
              "      <th></th>\n",
              "      <th>id</th>\n",
              "      <th>keyword</th>\n",
              "      <th>location</th>\n",
              "      <th>text</th>\n",
              "      <th>target</th>\n",
              "    </tr>\n",
              "  </thead>\n",
              "  <tbody>\n",
              "    <tr>\n",
              "      <th>0</th>\n",
              "      <td>1</td>\n",
              "      <td>NaN</td>\n",
              "      <td>NaN</td>\n",
              "      <td>Our Deeds are the Reason of this #earthquake M...</td>\n",
              "      <td>1</td>\n",
              "    </tr>\n",
              "    <tr>\n",
              "      <th>1</th>\n",
              "      <td>4</td>\n",
              "      <td>NaN</td>\n",
              "      <td>NaN</td>\n",
              "      <td>Forest fire near La Ronge Sask. Canada</td>\n",
              "      <td>1</td>\n",
              "    </tr>\n",
              "    <tr>\n",
              "      <th>2</th>\n",
              "      <td>5</td>\n",
              "      <td>NaN</td>\n",
              "      <td>NaN</td>\n",
              "      <td>All residents asked to 'shelter in place' are ...</td>\n",
              "      <td>1</td>\n",
              "    </tr>\n",
              "    <tr>\n",
              "      <th>3</th>\n",
              "      <td>6</td>\n",
              "      <td>NaN</td>\n",
              "      <td>NaN</td>\n",
              "      <td>13,000 people receive #wildfires evacuation or...</td>\n",
              "      <td>1</td>\n",
              "    </tr>\n",
              "    <tr>\n",
              "      <th>4</th>\n",
              "      <td>7</td>\n",
              "      <td>NaN</td>\n",
              "      <td>NaN</td>\n",
              "      <td>Just got sent this photo from Ruby #Alaska as ...</td>\n",
              "      <td>1</td>\n",
              "    </tr>\n",
              "  </tbody>\n",
              "</table>\n",
              "</div>\n",
              "      <button class=\"colab-df-convert\" onclick=\"convertToInteractive('df-76066f4b-2964-43f5-aab7-cbcb41b1d88a')\"\n",
              "              title=\"Convert this dataframe to an interactive table.\"\n",
              "              style=\"display:none;\">\n",
              "        \n",
              "  <svg xmlns=\"http://www.w3.org/2000/svg\" height=\"24px\"viewBox=\"0 0 24 24\"\n",
              "       width=\"24px\">\n",
              "    <path d=\"M0 0h24v24H0V0z\" fill=\"none\"/>\n",
              "    <path d=\"M18.56 5.44l.94 2.06.94-2.06 2.06-.94-2.06-.94-.94-2.06-.94 2.06-2.06.94zm-11 1L8.5 8.5l.94-2.06 2.06-.94-2.06-.94L8.5 2.5l-.94 2.06-2.06.94zm10 10l.94 2.06.94-2.06 2.06-.94-2.06-.94-.94-2.06-.94 2.06-2.06.94z\"/><path d=\"M17.41 7.96l-1.37-1.37c-.4-.4-.92-.59-1.43-.59-.52 0-1.04.2-1.43.59L10.3 9.45l-7.72 7.72c-.78.78-.78 2.05 0 2.83L4 21.41c.39.39.9.59 1.41.59.51 0 1.02-.2 1.41-.59l7.78-7.78 2.81-2.81c.8-.78.8-2.07 0-2.86zM5.41 20L4 18.59l7.72-7.72 1.47 1.35L5.41 20z\"/>\n",
              "  </svg>\n",
              "      </button>\n",
              "      \n",
              "  <style>\n",
              "    .colab-df-container {\n",
              "      display:flex;\n",
              "      flex-wrap:wrap;\n",
              "      gap: 12px;\n",
              "    }\n",
              "\n",
              "    .colab-df-convert {\n",
              "      background-color: #E8F0FE;\n",
              "      border: none;\n",
              "      border-radius: 50%;\n",
              "      cursor: pointer;\n",
              "      display: none;\n",
              "      fill: #1967D2;\n",
              "      height: 32px;\n",
              "      padding: 0 0 0 0;\n",
              "      width: 32px;\n",
              "    }\n",
              "\n",
              "    .colab-df-convert:hover {\n",
              "      background-color: #E2EBFA;\n",
              "      box-shadow: 0px 1px 2px rgba(60, 64, 67, 0.3), 0px 1px 3px 1px rgba(60, 64, 67, 0.15);\n",
              "      fill: #174EA6;\n",
              "    }\n",
              "\n",
              "    [theme=dark] .colab-df-convert {\n",
              "      background-color: #3B4455;\n",
              "      fill: #D2E3FC;\n",
              "    }\n",
              "\n",
              "    [theme=dark] .colab-df-convert:hover {\n",
              "      background-color: #434B5C;\n",
              "      box-shadow: 0px 1px 3px 1px rgba(0, 0, 0, 0.15);\n",
              "      filter: drop-shadow(0px 1px 2px rgba(0, 0, 0, 0.3));\n",
              "      fill: #FFFFFF;\n",
              "    }\n",
              "  </style>\n",
              "\n",
              "      <script>\n",
              "        const buttonEl =\n",
              "          document.querySelector('#df-76066f4b-2964-43f5-aab7-cbcb41b1d88a button.colab-df-convert');\n",
              "        buttonEl.style.display =\n",
              "          google.colab.kernel.accessAllowed ? 'block' : 'none';\n",
              "\n",
              "        async function convertToInteractive(key) {\n",
              "          const element = document.querySelector('#df-76066f4b-2964-43f5-aab7-cbcb41b1d88a');\n",
              "          const dataTable =\n",
              "            await google.colab.kernel.invokeFunction('convertToInteractive',\n",
              "                                                     [key], {});\n",
              "          if (!dataTable) return;\n",
              "\n",
              "          const docLinkHtml = 'Like what you see? Visit the ' +\n",
              "            '<a target=\"_blank\" href=https://colab.research.google.com/notebooks/data_table.ipynb>data table notebook</a>'\n",
              "            + ' to learn more about interactive tables.';\n",
              "          element.innerHTML = '';\n",
              "          dataTable['output_type'] = 'display_data';\n",
              "          await google.colab.output.renderOutput(dataTable, element);\n",
              "          const docLink = document.createElement('div');\n",
              "          docLink.innerHTML = docLinkHtml;\n",
              "          element.appendChild(docLink);\n",
              "        }\n",
              "      </script>\n",
              "    </div>\n",
              "  </div>\n",
              "  "
            ],
            "text/plain": [
              "   id keyword  ...                                               text target\n",
              "0   1     NaN  ...  Our Deeds are the Reason of this #earthquake M...      1\n",
              "1   4     NaN  ...             Forest fire near La Ronge Sask. Canada      1\n",
              "2   5     NaN  ...  All residents asked to 'shelter in place' are ...      1\n",
              "3   6     NaN  ...  13,000 people receive #wildfires evacuation or...      1\n",
              "4   7     NaN  ...  Just got sent this photo from Ruby #Alaska as ...      1\n",
              "\n",
              "[5 rows x 5 columns]"
            ]
          },
          "metadata": {},
          "execution_count": 4
        }
      ],
      "source": [
        "df_train.head()"
      ]
    },
    {
      "cell_type": "code",
      "execution_count": 5,
      "id": "ea581ad3",
      "metadata": {
        "execution": {
          "iopub.execute_input": "2022-01-21T14:47:34.233264Z",
          "iopub.status.busy": "2022-01-21T14:47:34.231900Z",
          "iopub.status.idle": "2022-01-21T14:47:34.288200Z",
          "shell.execute_reply": "2022-01-21T14:47:34.288759Z",
          "shell.execute_reply.started": "2022-01-21T14:31:53.361308Z"
        },
        "papermill": {
          "duration": 0.150888,
          "end_time": "2022-01-21T14:47:34.289037",
          "exception": false,
          "start_time": "2022-01-21T14:47:34.138149",
          "status": "completed"
        },
        "tags": [],
        "colab": {
          "base_uri": "https://localhost:8080/",
          "height": 250
        },
        "id": "ea581ad3",
        "outputId": "2cca7ec3-5ef8-4157-96fb-643dba0b42fc"
      },
      "outputs": [
        {
          "output_type": "execute_result",
          "data": {
            "text/html": [
              "\n",
              "  <div id=\"df-2dab02fa-be62-4442-a2e5-039ad0c98508\">\n",
              "    <div class=\"colab-df-container\">\n",
              "      <div>\n",
              "<style scoped>\n",
              "    .dataframe tbody tr th:only-of-type {\n",
              "        vertical-align: middle;\n",
              "    }\n",
              "\n",
              "    .dataframe tbody tr th {\n",
              "        vertical-align: top;\n",
              "    }\n",
              "\n",
              "    .dataframe thead th {\n",
              "        text-align: right;\n",
              "    }\n",
              "</style>\n",
              "<table border=\"1\" class=\"dataframe\">\n",
              "  <thead>\n",
              "    <tr style=\"text-align: right;\">\n",
              "      <th></th>\n",
              "      <th>count</th>\n",
              "      <th>unique</th>\n",
              "      <th>top</th>\n",
              "      <th>freq</th>\n",
              "      <th>mean</th>\n",
              "      <th>std</th>\n",
              "      <th>min</th>\n",
              "      <th>25%</th>\n",
              "      <th>50%</th>\n",
              "      <th>75%</th>\n",
              "      <th>max</th>\n",
              "    </tr>\n",
              "  </thead>\n",
              "  <tbody>\n",
              "    <tr>\n",
              "      <th>id</th>\n",
              "      <td>7613.0</td>\n",
              "      <td>NaN</td>\n",
              "      <td>NaN</td>\n",
              "      <td>NaN</td>\n",
              "      <td>5441.934848</td>\n",
              "      <td>3137.11609</td>\n",
              "      <td>1.0</td>\n",
              "      <td>2734.0</td>\n",
              "      <td>5408.0</td>\n",
              "      <td>8146.0</td>\n",
              "      <td>10873.0</td>\n",
              "    </tr>\n",
              "    <tr>\n",
              "      <th>keyword</th>\n",
              "      <td>7552</td>\n",
              "      <td>221</td>\n",
              "      <td>fatalities</td>\n",
              "      <td>45</td>\n",
              "      <td>NaN</td>\n",
              "      <td>NaN</td>\n",
              "      <td>NaN</td>\n",
              "      <td>NaN</td>\n",
              "      <td>NaN</td>\n",
              "      <td>NaN</td>\n",
              "      <td>NaN</td>\n",
              "    </tr>\n",
              "    <tr>\n",
              "      <th>location</th>\n",
              "      <td>5080</td>\n",
              "      <td>3341</td>\n",
              "      <td>USA</td>\n",
              "      <td>104</td>\n",
              "      <td>NaN</td>\n",
              "      <td>NaN</td>\n",
              "      <td>NaN</td>\n",
              "      <td>NaN</td>\n",
              "      <td>NaN</td>\n",
              "      <td>NaN</td>\n",
              "      <td>NaN</td>\n",
              "    </tr>\n",
              "    <tr>\n",
              "      <th>text</th>\n",
              "      <td>7613</td>\n",
              "      <td>7503</td>\n",
              "      <td>11-Year-Old Boy Charged With Manslaughter of T...</td>\n",
              "      <td>10</td>\n",
              "      <td>NaN</td>\n",
              "      <td>NaN</td>\n",
              "      <td>NaN</td>\n",
              "      <td>NaN</td>\n",
              "      <td>NaN</td>\n",
              "      <td>NaN</td>\n",
              "      <td>NaN</td>\n",
              "    </tr>\n",
              "    <tr>\n",
              "      <th>target</th>\n",
              "      <td>7613.0</td>\n",
              "      <td>NaN</td>\n",
              "      <td>NaN</td>\n",
              "      <td>NaN</td>\n",
              "      <td>0.42966</td>\n",
              "      <td>0.49506</td>\n",
              "      <td>0.0</td>\n",
              "      <td>0.0</td>\n",
              "      <td>0.0</td>\n",
              "      <td>1.0</td>\n",
              "      <td>1.0</td>\n",
              "    </tr>\n",
              "  </tbody>\n",
              "</table>\n",
              "</div>\n",
              "      <button class=\"colab-df-convert\" onclick=\"convertToInteractive('df-2dab02fa-be62-4442-a2e5-039ad0c98508')\"\n",
              "              title=\"Convert this dataframe to an interactive table.\"\n",
              "              style=\"display:none;\">\n",
              "        \n",
              "  <svg xmlns=\"http://www.w3.org/2000/svg\" height=\"24px\"viewBox=\"0 0 24 24\"\n",
              "       width=\"24px\">\n",
              "    <path d=\"M0 0h24v24H0V0z\" fill=\"none\"/>\n",
              "    <path d=\"M18.56 5.44l.94 2.06.94-2.06 2.06-.94-2.06-.94-.94-2.06-.94 2.06-2.06.94zm-11 1L8.5 8.5l.94-2.06 2.06-.94-2.06-.94L8.5 2.5l-.94 2.06-2.06.94zm10 10l.94 2.06.94-2.06 2.06-.94-2.06-.94-.94-2.06-.94 2.06-2.06.94z\"/><path d=\"M17.41 7.96l-1.37-1.37c-.4-.4-.92-.59-1.43-.59-.52 0-1.04.2-1.43.59L10.3 9.45l-7.72 7.72c-.78.78-.78 2.05 0 2.83L4 21.41c.39.39.9.59 1.41.59.51 0 1.02-.2 1.41-.59l7.78-7.78 2.81-2.81c.8-.78.8-2.07 0-2.86zM5.41 20L4 18.59l7.72-7.72 1.47 1.35L5.41 20z\"/>\n",
              "  </svg>\n",
              "      </button>\n",
              "      \n",
              "  <style>\n",
              "    .colab-df-container {\n",
              "      display:flex;\n",
              "      flex-wrap:wrap;\n",
              "      gap: 12px;\n",
              "    }\n",
              "\n",
              "    .colab-df-convert {\n",
              "      background-color: #E8F0FE;\n",
              "      border: none;\n",
              "      border-radius: 50%;\n",
              "      cursor: pointer;\n",
              "      display: none;\n",
              "      fill: #1967D2;\n",
              "      height: 32px;\n",
              "      padding: 0 0 0 0;\n",
              "      width: 32px;\n",
              "    }\n",
              "\n",
              "    .colab-df-convert:hover {\n",
              "      background-color: #E2EBFA;\n",
              "      box-shadow: 0px 1px 2px rgba(60, 64, 67, 0.3), 0px 1px 3px 1px rgba(60, 64, 67, 0.15);\n",
              "      fill: #174EA6;\n",
              "    }\n",
              "\n",
              "    [theme=dark] .colab-df-convert {\n",
              "      background-color: #3B4455;\n",
              "      fill: #D2E3FC;\n",
              "    }\n",
              "\n",
              "    [theme=dark] .colab-df-convert:hover {\n",
              "      background-color: #434B5C;\n",
              "      box-shadow: 0px 1px 3px 1px rgba(0, 0, 0, 0.15);\n",
              "      filter: drop-shadow(0px 1px 2px rgba(0, 0, 0, 0.3));\n",
              "      fill: #FFFFFF;\n",
              "    }\n",
              "  </style>\n",
              "\n",
              "      <script>\n",
              "        const buttonEl =\n",
              "          document.querySelector('#df-2dab02fa-be62-4442-a2e5-039ad0c98508 button.colab-df-convert');\n",
              "        buttonEl.style.display =\n",
              "          google.colab.kernel.accessAllowed ? 'block' : 'none';\n",
              "\n",
              "        async function convertToInteractive(key) {\n",
              "          const element = document.querySelector('#df-2dab02fa-be62-4442-a2e5-039ad0c98508');\n",
              "          const dataTable =\n",
              "            await google.colab.kernel.invokeFunction('convertToInteractive',\n",
              "                                                     [key], {});\n",
              "          if (!dataTable) return;\n",
              "\n",
              "          const docLinkHtml = 'Like what you see? Visit the ' +\n",
              "            '<a target=\"_blank\" href=https://colab.research.google.com/notebooks/data_table.ipynb>data table notebook</a>'\n",
              "            + ' to learn more about interactive tables.';\n",
              "          element.innerHTML = '';\n",
              "          dataTable['output_type'] = 'display_data';\n",
              "          await google.colab.output.renderOutput(dataTable, element);\n",
              "          const docLink = document.createElement('div');\n",
              "          docLink.innerHTML = docLinkHtml;\n",
              "          element.appendChild(docLink);\n",
              "        }\n",
              "      </script>\n",
              "    </div>\n",
              "  </div>\n",
              "  "
            ],
            "text/plain": [
              "           count unique  ...     75%      max\n",
              "id        7613.0    NaN  ...  8146.0  10873.0\n",
              "keyword     7552    221  ...     NaN      NaN\n",
              "location    5080   3341  ...     NaN      NaN\n",
              "text        7613   7503  ...     NaN      NaN\n",
              "target    7613.0    NaN  ...     1.0      1.0\n",
              "\n",
              "[5 rows x 11 columns]"
            ]
          },
          "metadata": {},
          "execution_count": 5
        }
      ],
      "source": [
        "df_train.describe(include=\"all\").T"
      ]
    },
    {
      "cell_type": "code",
      "execution_count": 6,
      "id": "9d0f2e01",
      "metadata": {
        "execution": {
          "iopub.execute_input": "2022-01-21T14:47:34.468761Z",
          "iopub.status.busy": "2022-01-21T14:47:34.468003Z",
          "iopub.status.idle": "2022-01-21T14:47:34.487137Z",
          "shell.execute_reply": "2022-01-21T14:47:34.487948Z",
          "shell.execute_reply.started": "2022-01-21T14:31:53.416424Z"
        },
        "papermill": {
          "duration": 0.113892,
          "end_time": "2022-01-21T14:47:34.488223",
          "exception": false,
          "start_time": "2022-01-21T14:47:34.374331",
          "status": "completed"
        },
        "tags": [],
        "colab": {
          "base_uri": "https://localhost:8080/"
        },
        "id": "9d0f2e01",
        "outputId": "478eb7bb-0603-4e01-8c80-a6b6bc6894c6"
      },
      "outputs": [
        {
          "output_type": "stream",
          "name": "stdout",
          "text": [
            "<class 'pandas.core.frame.DataFrame'>\n",
            "RangeIndex: 7613 entries, 0 to 7612\n",
            "Data columns (total 5 columns):\n",
            " #   Column    Non-Null Count  Dtype \n",
            "---  ------    --------------  ----- \n",
            " 0   id        7613 non-null   int64 \n",
            " 1   keyword   7552 non-null   object\n",
            " 2   location  5080 non-null   object\n",
            " 3   text      7613 non-null   object\n",
            " 4   target    7613 non-null   int64 \n",
            "dtypes: int64(2), object(3)\n",
            "memory usage: 297.5+ KB\n"
          ]
        }
      ],
      "source": [
        "df_train.info()"
      ]
    },
    {
      "cell_type": "markdown",
      "id": "0726b9ef",
      "metadata": {
        "papermill": {
          "duration": 0.082008,
          "end_time": "2022-01-21T14:47:35.171299",
          "exception": false,
          "start_time": "2022-01-21T14:47:35.089291",
          "status": "completed"
        },
        "tags": [],
        "id": "0726b9ef"
      },
      "source": [
        "## ID"
      ]
    },
    {
      "cell_type": "code",
      "execution_count": 8,
      "id": "c7c759b5",
      "metadata": {
        "execution": {
          "iopub.execute_input": "2022-01-21T14:47:35.352926Z",
          "iopub.status.busy": "2022-01-21T14:47:35.351597Z",
          "iopub.status.idle": "2022-01-21T14:47:35.358106Z",
          "shell.execute_reply": "2022-01-21T14:47:35.357361Z",
          "shell.execute_reply.started": "2022-01-21T14:31:53.793444Z"
        },
        "papermill": {
          "duration": 0.100306,
          "end_time": "2022-01-21T14:47:35.358318",
          "exception": false,
          "start_time": "2022-01-21T14:47:35.258012",
          "status": "completed"
        },
        "tags": [],
        "colab": {
          "base_uri": "https://localhost:8080/"
        },
        "id": "c7c759b5",
        "outputId": "6a081a6d-84b4-4834-8a1f-0500183efd34"
      },
      "outputs": [
        {
          "output_type": "execute_result",
          "data": {
            "text/plain": [
              "0           1\n",
              "1           4\n",
              "2           5\n",
              "3           6\n",
              "4           7\n",
              "        ...  \n",
              "7608    10869\n",
              "7609    10870\n",
              "7610    10871\n",
              "7611    10872\n",
              "7612    10873\n",
              "Name: id, Length: 7613, dtype: int64"
            ]
          },
          "metadata": {},
          "execution_count": 8
        }
      ],
      "source": [
        "df_train[\"id\"]\n",
        "#not apporting any info we can drop it"
      ]
    },
    {
      "cell_type": "markdown",
      "id": "1dc3be8c",
      "metadata": {
        "papermill": {
          "duration": 0.083723,
          "end_time": "2022-01-21T14:47:35.529487",
          "exception": false,
          "start_time": "2022-01-21T14:47:35.445764",
          "status": "completed"
        },
        "tags": [],
        "id": "1dc3be8c"
      },
      "source": [
        "## Keyword"
      ]
    },
    {
      "cell_type": "code",
      "execution_count": 9,
      "id": "8abd800e",
      "metadata": {
        "execution": {
          "iopub.execute_input": "2022-01-21T14:47:35.708618Z",
          "iopub.status.busy": "2022-01-21T14:47:35.707957Z",
          "iopub.status.idle": "2022-01-21T14:47:35.720342Z",
          "shell.execute_reply": "2022-01-21T14:47:35.720967Z",
          "shell.execute_reply.started": "2022-01-21T14:31:53.803027Z"
        },
        "papermill": {
          "duration": 0.104772,
          "end_time": "2022-01-21T14:47:35.721210",
          "exception": false,
          "start_time": "2022-01-21T14:47:35.616438",
          "status": "completed"
        },
        "tags": [],
        "colab": {
          "base_uri": "https://localhost:8080/"
        },
        "id": "8abd800e",
        "outputId": "fabdd4d8-eeb1-4b2e-84e2-efa0622add4b"
      },
      "outputs": [
        {
          "output_type": "execute_result",
          "data": {
            "text/plain": [
              "count           7552\n",
              "unique           221\n",
              "top       fatalities\n",
              "freq              45\n",
              "Name: keyword, dtype: object"
            ]
          },
          "metadata": {},
          "execution_count": 9
        }
      ],
      "source": [
        "df_train[\"keyword\"].describe()"
      ]
    },
    {
      "cell_type": "code",
      "execution_count": 10,
      "id": "39083a2f",
      "metadata": {
        "execution": {
          "iopub.execute_input": "2022-01-21T14:47:35.897613Z",
          "iopub.status.busy": "2022-01-21T14:47:35.896795Z",
          "iopub.status.idle": "2022-01-21T14:47:35.908623Z",
          "shell.execute_reply": "2022-01-21T14:47:35.909220Z",
          "shell.execute_reply.started": "2022-01-21T14:31:53.820931Z"
        },
        "papermill": {
          "duration": 0.101031,
          "end_time": "2022-01-21T14:47:35.909508",
          "exception": false,
          "start_time": "2022-01-21T14:47:35.808477",
          "status": "completed"
        },
        "tags": [],
        "colab": {
          "base_uri": "https://localhost:8080/"
        },
        "id": "39083a2f",
        "outputId": "8af80a86-e6e6-41d9-95dc-66d7951458ae"
      },
      "outputs": [
        {
          "output_type": "execute_result",
          "data": {
            "text/plain": [
              "False    0.991987\n",
              "True     0.008013\n",
              "Name: keyword, dtype: float64"
            ]
          },
          "metadata": {},
          "execution_count": 10
        }
      ],
      "source": [
        "#has some nan values\n",
        "df_train[\"keyword\"].isna().value_counts(normalize=True)\n",
        "# 0.8% (61) are missing - we will proceed imputing these values using KeyBERT"
      ]
    },
    {
      "cell_type": "code",
      "execution_count": 11,
      "id": "c0df6f1f",
      "metadata": {
        "execution": {
          "iopub.execute_input": "2022-01-21T14:47:36.430479Z",
          "iopub.status.busy": "2022-01-21T14:47:36.429709Z",
          "iopub.status.idle": "2022-01-21T14:47:36.441673Z",
          "shell.execute_reply": "2022-01-21T14:47:36.442235Z",
          "shell.execute_reply.started": "2022-01-21T14:31:53.843879Z"
        },
        "papermill": {
          "duration": 0.105484,
          "end_time": "2022-01-21T14:47:36.442455",
          "exception": false,
          "start_time": "2022-01-21T14:47:36.336971",
          "status": "completed"
        },
        "tags": [],
        "colab": {
          "base_uri": "https://localhost:8080/"
        },
        "id": "c0df6f1f",
        "outputId": "99f43f97-de3d-4eed-88c3-563166191ebd"
      },
      "outputs": [
        {
          "output_type": "execute_result",
          "data": {
            "text/plain": [
              "['ablaze',\n",
              " 'accident',\n",
              " 'aftershock',\n",
              " 'airplane%20accident',\n",
              " 'ambulance',\n",
              " 'annihilated',\n",
              " 'annihilation',\n",
              " 'apocalypse',\n",
              " 'armageddon',\n",
              " 'army',\n",
              " 'arson',\n",
              " 'arsonist',\n",
              " 'attack',\n",
              " 'attacked',\n",
              " 'avalanche',\n",
              " 'battle',\n",
              " 'bioterror',\n",
              " 'bioterrorism',\n",
              " 'blaze',\n",
              " 'blazing',\n",
              " 'bleeding',\n",
              " 'blew%20up',\n",
              " 'blight',\n",
              " 'blizzard',\n",
              " 'blood',\n",
              " 'bloody',\n",
              " 'blown%20up',\n",
              " 'body%20bag',\n",
              " 'body%20bagging',\n",
              " 'body%20bags']"
            ]
          },
          "metadata": {},
          "execution_count": 11
        }
      ],
      "source": [
        "df_train[~df_train[\"keyword\"].isna()][\"keyword\"].unique().tolist()[:30] #remove this slicing if you want to explore all the list"
      ]
    },
    {
      "cell_type": "markdown",
      "id": "ffc4a3cf",
      "metadata": {
        "papermill": {
          "duration": 0.088742,
          "end_time": "2022-01-21T14:47:36.789446",
          "exception": false,
          "start_time": "2022-01-21T14:47:36.700704",
          "status": "completed"
        },
        "tags": [],
        "id": "ffc4a3cf"
      },
      "source": [
        "## Text"
      ]
    },
    {
      "cell_type": "code",
      "execution_count": 12,
      "id": "37146c9d",
      "metadata": {
        "execution": {
          "iopub.execute_input": "2022-01-21T14:47:36.969866Z",
          "iopub.status.busy": "2022-01-21T14:47:36.969081Z",
          "iopub.status.idle": "2022-01-21T14:47:36.975095Z",
          "shell.execute_reply": "2022-01-21T14:47:36.975668Z",
          "shell.execute_reply.started": "2022-01-21T14:31:53.864183Z"
        },
        "papermill": {
          "duration": 0.101425,
          "end_time": "2022-01-21T14:47:36.975924",
          "exception": false,
          "start_time": "2022-01-21T14:47:36.874499",
          "status": "completed"
        },
        "tags": [],
        "colab": {
          "base_uri": "https://localhost:8080/"
        },
        "id": "37146c9d",
        "outputId": "13513750-d4f3-4fc7-a7a9-4c52231a55b3"
      },
      "outputs": [
        {
          "output_type": "execute_result",
          "data": {
            "text/plain": [
              "['Our Deeds are the Reason of this #earthquake May ALLAH Forgive us all',\n",
              " 'Forest fire near La Ronge Sask. Canada',\n",
              " \"All residents asked to 'shelter in place' are being notified by officers. No other evacuation or shelter in place orders are expected\",\n",
              " '13,000 people receive #wildfires evacuation orders in California ',\n",
              " 'Just got sent this photo from Ruby #Alaska as smoke from #wildfires pours into a school ',\n",
              " '#RockyFire Update => California Hwy. 20 closed in both directions due to Lake County fire - #CAfire #wildfires',\n",
              " '#flood #disaster Heavy rain causes flash flooding of streets in Manitou, Colorado Springs areas',\n",
              " \"I'm on top of the hill and I can see a fire in the woods...\",\n",
              " \"There's an emergency evacuation happening now in the building across the street\",\n",
              " \"I'm afraid that the tornado is coming to our area...\",\n",
              " 'Three people died from the heat wave so far',\n",
              " 'Haha South Tampa is getting flooded hah- WAIT A SECOND I LIVE IN SOUTH TAMPA WHAT AM I GONNA DO WHAT AM I GONNA DO FVCK #flooding',\n",
              " \"#raining #flooding #Florida #TampaBay #Tampa 18 or 19 days. I've lost count \",\n",
              " '#Flood in Bago Myanmar #We arrived Bago',\n",
              " 'Damage to school bus on 80 in multi car crash #BREAKING ',\n",
              " \"What's up man?\",\n",
              " 'I love fruits',\n",
              " 'Summer is lovely',\n",
              " 'My car is so fast',\n",
              " 'What a goooooooaaaaaal!!!!!!',\n",
              " 'this is ridiculous....',\n",
              " 'London is cool ;)',\n",
              " 'Love skiing',\n",
              " 'What a wonderful day!',\n",
              " 'LOOOOOOL',\n",
              " \"No way...I can't eat that shit\",\n",
              " 'Was in NYC last week!',\n",
              " 'Love my girlfriend',\n",
              " 'Cooool :)',\n",
              " 'Do you like pasta?']"
            ]
          },
          "metadata": {},
          "execution_count": 12
        }
      ],
      "source": [
        "df_train[\"text\"].values.tolist()[:30] #remove this slicing if you want to explore all the list"
      ]
    },
    {
      "cell_type": "markdown",
      "id": "419aecfb",
      "metadata": {
        "papermill": {
          "duration": 0.083531,
          "end_time": "2022-01-21T14:47:37.324976",
          "exception": false,
          "start_time": "2022-01-21T14:47:37.241445",
          "status": "completed"
        },
        "tags": [],
        "id": "419aecfb"
      },
      "source": [
        "## Location"
      ]
    },
    {
      "cell_type": "code",
      "execution_count": 13,
      "id": "24fc659b",
      "metadata": {
        "execution": {
          "iopub.execute_input": "2022-01-21T14:47:37.501666Z",
          "iopub.status.busy": "2022-01-21T14:47:37.500833Z",
          "iopub.status.idle": "2022-01-21T14:47:37.506579Z",
          "shell.execute_reply": "2022-01-21T14:47:37.507198Z",
          "shell.execute_reply.started": "2022-01-21T14:31:53.880322Z"
        },
        "papermill": {
          "duration": 0.098035,
          "end_time": "2022-01-21T14:47:37.507418",
          "exception": false,
          "start_time": "2022-01-21T14:47:37.409383",
          "status": "completed"
        },
        "tags": [],
        "colab": {
          "base_uri": "https://localhost:8080/"
        },
        "id": "24fc659b",
        "outputId": "80cc783e-7a11-4167-985b-d38edc9cbc76"
      },
      "outputs": [
        {
          "output_type": "execute_result",
          "data": {
            "text/plain": [
              "0       NaN\n",
              "1       NaN\n",
              "2       NaN\n",
              "3       NaN\n",
              "4       NaN\n",
              "       ... \n",
              "7608    NaN\n",
              "7609    NaN\n",
              "7610    NaN\n",
              "7611    NaN\n",
              "7612    NaN\n",
              "Name: location, Length: 7613, dtype: object"
            ]
          },
          "metadata": {},
          "execution_count": 13
        }
      ],
      "source": [
        "df_train[\"location\"]\n",
        "#lots of values missing"
      ]
    },
    {
      "cell_type": "code",
      "execution_count": 14,
      "id": "4d7b679b",
      "metadata": {
        "execution": {
          "iopub.execute_input": "2022-01-21T14:47:37.687696Z",
          "iopub.status.busy": "2022-01-21T14:47:37.687029Z",
          "iopub.status.idle": "2022-01-21T14:47:37.692474Z",
          "shell.execute_reply": "2022-01-21T14:47:37.691711Z",
          "shell.execute_reply.started": "2022-01-21T14:31:53.901218Z"
        },
        "papermill": {
          "duration": 0.10138,
          "end_time": "2022-01-21T14:47:37.692638",
          "exception": false,
          "start_time": "2022-01-21T14:47:37.591258",
          "status": "completed"
        },
        "tags": [],
        "colab": {
          "base_uri": "https://localhost:8080/"
        },
        "id": "4d7b679b",
        "outputId": "53773ad3-4b2a-46b1-a6cc-35078587827c"
      },
      "outputs": [
        {
          "output_type": "execute_result",
          "data": {
            "text/plain": [
              "False    66.727965\n",
              "True     33.272035\n",
              "Name: location, dtype: float64"
            ]
          },
          "metadata": {},
          "execution_count": 14
        }
      ],
      "source": [
        "df_train[\"location\"].isna().value_counts(normalize=True)*100\n",
        "#33%  missing locations"
      ]
    },
    {
      "cell_type": "code",
      "execution_count": 15,
      "id": "873f2dab",
      "metadata": {
        "execution": {
          "iopub.execute_input": "2022-01-21T14:47:37.869453Z",
          "iopub.status.busy": "2022-01-21T14:47:37.868294Z",
          "iopub.status.idle": "2022-01-21T14:47:37.879196Z",
          "shell.execute_reply": "2022-01-21T14:47:37.880168Z",
          "shell.execute_reply.started": "2022-01-21T14:31:53.914138Z"
        },
        "papermill": {
          "duration": 0.102254,
          "end_time": "2022-01-21T14:47:37.880477",
          "exception": false,
          "start_time": "2022-01-21T14:47:37.778223",
          "status": "completed"
        },
        "tags": [],
        "colab": {
          "base_uri": "https://localhost:8080/"
        },
        "id": "873f2dab",
        "outputId": "96bb2585-888a-40b5-8045-85090bb0011c"
      },
      "outputs": [
        {
          "output_type": "execute_result",
          "data": {
            "text/plain": [
              "['Birmingham',\n",
              " 'Est. September 2012 - Bristol',\n",
              " 'AFRICA',\n",
              " 'Philadelphia, PA',\n",
              " 'London, UK',\n",
              " 'Pretoria',\n",
              " 'World Wide!!',\n",
              " 'Paranaque City',\n",
              " 'Live On Webcam',\n",
              " 'milky way',\n",
              " 'GREENSBORO,NORTH CAROLINA',\n",
              " 'Live On Webcam',\n",
              " 'England.',\n",
              " 'Sheffield Township, Ohio',\n",
              " 'India',\n",
              " 'Barbados',\n",
              " 'Anaheim',\n",
              " 'Abuja',\n",
              " 'USA',\n",
              " 'South Africa',\n",
              " 'Sao Paulo, Brazil',\n",
              " 'hollywoodland ',\n",
              " 'Edmonton, Alberta - Treaty 6',\n",
              " 'Inang Pamantasan',\n",
              " 'Twitter Lockout in progress',\n",
              " 'Concord, CA',\n",
              " 'Calgary, AB',\n",
              " 'Birmingham',\n",
              " 'San Francisco',\n",
              " 'CLVLND']"
            ]
          },
          "metadata": {},
          "execution_count": 15
        }
      ],
      "source": [
        "df_train[~df_train[\"location\"].isna()][\"location\"].values.tolist()[:30] #remove this slicing if you want to explore all the list"
      ]
    },
    {
      "cell_type": "markdown",
      "id": "f382fbd8",
      "metadata": {
        "papermill": {
          "duration": 0.090032,
          "end_time": "2022-01-21T14:47:38.059608",
          "exception": false,
          "start_time": "2022-01-21T14:47:37.969576",
          "status": "completed"
        },
        "tags": [],
        "id": "f382fbd8"
      },
      "source": [
        "more than 15% of values missing and not very useful info from this feature - we will drop it and create a new featur \"has_location\""
      ]
    },
    {
      "cell_type": "markdown",
      "id": "181779d3",
      "metadata": {
        "papermill": {
          "duration": 0.090457,
          "end_time": "2022-01-21T14:47:38.238469",
          "exception": false,
          "start_time": "2022-01-21T14:47:38.148012",
          "status": "completed"
        },
        "tags": [],
        "id": "181779d3"
      },
      "source": [
        "## Target"
      ]
    },
    {
      "cell_type": "code",
      "execution_count": 16,
      "id": "3ccf7295",
      "metadata": {
        "execution": {
          "iopub.execute_input": "2022-01-21T14:47:38.421724Z",
          "iopub.status.busy": "2022-01-21T14:47:38.420514Z",
          "iopub.status.idle": "2022-01-21T14:47:38.429251Z",
          "shell.execute_reply": "2022-01-21T14:47:38.429802Z",
          "shell.execute_reply.started": "2022-01-21T14:31:53.934946Z"
        },
        "papermill": {
          "duration": 0.10427,
          "end_time": "2022-01-21T14:47:38.430032",
          "exception": false,
          "start_time": "2022-01-21T14:47:38.325762",
          "status": "completed"
        },
        "tags": [],
        "colab": {
          "base_uri": "https://localhost:8080/"
        },
        "id": "3ccf7295",
        "outputId": "fa230bae-ffbd-4ec3-deb0-379d765a89da"
      },
      "outputs": [
        {
          "output_type": "execute_result",
          "data": {
            "text/plain": [
              "count    7613.00000\n",
              "mean        0.42966\n",
              "std         0.49506\n",
              "min         0.00000\n",
              "25%         0.00000\n",
              "50%         0.00000\n",
              "75%         1.00000\n",
              "max         1.00000\n",
              "Name: target, dtype: float64"
            ]
          },
          "metadata": {},
          "execution_count": 16
        }
      ],
      "source": [
        "df_train[\"target\"].describe()"
      ]
    },
    {
      "cell_type": "code",
      "execution_count": 17,
      "id": "4989f214",
      "metadata": {
        "execution": {
          "iopub.execute_input": "2022-01-21T14:47:38.608798Z",
          "iopub.status.busy": "2022-01-21T14:47:38.607934Z",
          "iopub.status.idle": "2022-01-21T14:47:38.617386Z",
          "shell.execute_reply": "2022-01-21T14:47:38.617957Z",
          "shell.execute_reply.started": "2022-01-21T14:31:53.954761Z"
        },
        "papermill": {
          "duration": 0.101703,
          "end_time": "2022-01-21T14:47:38.618169",
          "exception": false,
          "start_time": "2022-01-21T14:47:38.516466",
          "status": "completed"
        },
        "tags": [],
        "colab": {
          "base_uri": "https://localhost:8080/"
        },
        "id": "4989f214",
        "outputId": "5b2824d7-c7fd-46f3-9593-5b2cb2dbefe4"
      },
      "outputs": [
        {
          "output_type": "execute_result",
          "data": {
            "text/plain": [
              "0    57.034021\n",
              "1    42.965979\n",
              "Name: target, dtype: float64"
            ]
          },
          "metadata": {},
          "execution_count": 17
        }
      ],
      "source": [
        "df_train[\"target\"].value_counts(normalize=True)*100\n",
        "#42% are disaster"
      ]
    },
    {
      "cell_type": "markdown",
      "id": "bf5bd172",
      "metadata": {
        "papermill": {
          "duration": 0.091375,
          "end_time": "2022-01-21T14:47:38.799419",
          "exception": false,
          "start_time": "2022-01-21T14:47:38.708044",
          "status": "completed"
        },
        "tags": [],
        "id": "bf5bd172"
      },
      "source": [
        "# Feature Transformation and Engineering"
      ]
    },
    {
      "cell_type": "code",
      "execution_count": 18,
      "id": "6c25731b",
      "metadata": {
        "execution": {
          "iopub.execute_input": "2022-01-21T14:47:38.977103Z",
          "iopub.status.busy": "2022-01-21T14:47:38.976375Z",
          "iopub.status.idle": "2022-01-21T14:47:38.992620Z",
          "shell.execute_reply": "2022-01-21T14:47:38.991942Z",
          "shell.execute_reply.started": "2022-01-21T14:31:53.967214Z"
        },
        "papermill": {
          "duration": 0.106711,
          "end_time": "2022-01-21T14:47:38.992802",
          "exception": false,
          "start_time": "2022-01-21T14:47:38.886091",
          "status": "completed"
        },
        "tags": [],
        "id": "6c25731b"
      },
      "outputs": [],
      "source": [
        "#splitting data\n",
        "y = df_train[\"target\"]\n",
        "# X.drop(\"target\", axis=1, inplace=True)\n",
        "X_train, X_valid, y_train, y_valid = train_test_split(df_train.drop(\"target\", axis=1), y, test_size=0.25, random_state=42)"
      ]
    },
    {
      "cell_type": "code",
      "execution_count": 19,
      "id": "8eacda8a",
      "metadata": {
        "execution": {
          "iopub.execute_input": "2022-01-21T14:47:39.177841Z",
          "iopub.status.busy": "2022-01-21T14:47:39.177049Z",
          "iopub.status.idle": "2022-01-21T14:47:39.180120Z",
          "shell.execute_reply": "2022-01-21T14:47:39.179559Z",
          "shell.execute_reply.started": "2022-01-21T14:31:53.985041Z"
        },
        "papermill": {
          "duration": 0.096032,
          "end_time": "2022-01-21T14:47:39.180305",
          "exception": false,
          "start_time": "2022-01-21T14:47:39.084273",
          "status": "completed"
        },
        "tags": [],
        "id": "8eacda8a"
      },
      "outputs": [],
      "source": [
        "def keyword_extractor(text):\n",
        "    \"\"\"\n",
        "    This function extracts keywords from text using KeyBERT\n",
        "    \n",
        "    It ueses a list keywords candidates where to chose from.\n",
        "    Maximal Marginal Relevance (MMR) set to True\n",
        "    Diversity is set to 0.2\n",
        "    Top n keywords/keyphrases is set to 6\n",
        "    \n",
        "    Args:\n",
        "        text (str): text to porcess\n",
        "\n",
        "    Returns:\n",
        "        list: list of keywords\n",
        "    \"\"\"\n",
        "    \n",
        "\n",
        "    keywords = kw_model.extract_keywords(\n",
        "        text, keyphrase_ngram_range=(1,1),\n",
        "        stop_words=\"english\",\n",
        "        candidates=kwd_list,\n",
        "        use_mmr=True,\n",
        "        diversity=0.2,\n",
        "        top_n=1\n",
        "        )\n",
        "    \n",
        "    return \"\".join([str(i[0]) for i in keywords])"
      ]
    },
    {
      "cell_type": "code",
      "execution_count": 20,
      "id": "34047b06",
      "metadata": {
        "execution": {
          "iopub.execute_input": "2022-01-21T14:47:39.362948Z",
          "iopub.status.busy": "2022-01-21T14:47:39.362170Z",
          "iopub.status.idle": "2022-01-21T14:47:39.365692Z",
          "shell.execute_reply": "2022-01-21T14:47:39.366278Z",
          "shell.execute_reply.started": "2022-01-21T14:31:53.995816Z"
        },
        "papermill": {
          "duration": 0.100476,
          "end_time": "2022-01-21T14:47:39.366537",
          "exception": false,
          "start_time": "2022-01-21T14:47:39.266061",
          "status": "completed"
        },
        "tags": [],
        "id": "34047b06"
      },
      "outputs": [],
      "source": [
        "def location_transformer(df):\n",
        "    \"\"\"\n",
        "    Creating new feature \"has_location\"\n",
        "    \"\"\"\n",
        "    \n",
        "    df[\"has_location\"] = np.where(df[\"location\"].isna(), 0,1)\n",
        "    "
      ]
    },
    {
      "cell_type": "code",
      "execution_count": 21,
      "id": "40fd8d4c",
      "metadata": {
        "execution": {
          "iopub.execute_input": "2022-01-21T14:47:39.554421Z",
          "iopub.status.busy": "2022-01-21T14:47:39.553707Z",
          "iopub.status.idle": "2022-01-21T14:47:39.558053Z",
          "shell.execute_reply": "2022-01-21T14:47:39.557032Z",
          "shell.execute_reply.started": "2022-01-21T14:31:54.010847Z"
        },
        "papermill": {
          "duration": 0.10203,
          "end_time": "2022-01-21T14:47:39.558312",
          "exception": false,
          "start_time": "2022-01-21T14:47:39.456282",
          "status": "completed"
        },
        "tags": [],
        "id": "40fd8d4c"
      },
      "outputs": [],
      "source": [
        "    #to avoid leaking we'll use X_train to make the unique keywords list\n",
        "    global kwd_list\n",
        "    kwd_list = X_train[\"keyword\"].unique().tolist() \n",
        "    kwd_list.remove(np.nan) #removing nan value from the list\n",
        "    \n",
        "    #removing %20 from the list and substituting with a space\n",
        "    pattern=\"%20\"\n",
        "    regex = re.compile(pattern)\n",
        "    kwd_list = [regex.sub(\" \", i) if \"%20\" in i else i for i in kwd_list]"
      ]
    },
    {
      "cell_type": "code",
      "execution_count": 22,
      "id": "58e29f2a",
      "metadata": {
        "execution": {
          "iopub.execute_input": "2022-01-21T14:47:39.745232Z",
          "iopub.status.busy": "2022-01-21T14:47:39.744496Z",
          "iopub.status.idle": "2022-01-21T14:47:39.748019Z",
          "shell.execute_reply": "2022-01-21T14:47:39.747349Z",
          "shell.execute_reply.started": "2022-01-21T14:31:54.026404Z"
        },
        "papermill": {
          "duration": 0.101878,
          "end_time": "2022-01-21T14:47:39.748195",
          "exception": false,
          "start_time": "2022-01-21T14:47:39.646317",
          "status": "completed"
        },
        "tags": [],
        "id": "58e29f2a"
      },
      "outputs": [],
      "source": [
        "def kwd_transformer(df):\n",
        "    \"\"\"\n",
        "    1. Removing %20 from keywords\n",
        "    2. Imputing missing keywords with keyBERT\n",
        "    3. Changing wild fire to wildfires\n",
        "    \"\"\"\n",
        "\n",
        "    \n",
        "    #removing space encoding\n",
        "    df[\"keyword\"] = df[\"keyword\"].str.replace(\"%20\", \" \")\n",
        "    print(\"removed space encoding\")\n",
        "    \n",
        "    #imputing missing keywords\n",
        "    \n",
        "    global kw_model\n",
        "    kw_model = KeyBERT()\n",
        "    \n",
        "    df[\"keyword\"] = df.apply(lambda x: keyword_extractor(x[\"text\"]) if x[\"keyword\"] is np.nan else x[\"keyword\"], axis=1)\n",
        "    print(\"Imputed missing Keywords\")\n",
        "    \n",
        "    #making wildfires an unique word\n",
        "    df[\"keyword\"] = df[\"keyword\"].apply(lambda x: \"wildfires\" if x==\"wild fires\" else x)\n",
        "    print(\"made 'wild fires'=='wildfires' \")\n",
        "    \n"
      ]
    },
    {
      "cell_type": "code",
      "execution_count": 23,
      "id": "5b4be6a2",
      "metadata": {
        "execution": {
          "iopub.execute_input": "2022-01-21T14:47:39.941507Z",
          "iopub.status.busy": "2022-01-21T14:47:39.940750Z",
          "iopub.status.idle": "2022-01-21T14:47:39.944558Z",
          "shell.execute_reply": "2022-01-21T14:47:39.943758Z",
          "shell.execute_reply.started": "2022-01-21T14:31:54.046014Z"
        },
        "papermill": {
          "duration": 0.10491,
          "end_time": "2022-01-21T14:47:39.944755",
          "exception": false,
          "start_time": "2022-01-21T14:47:39.839845",
          "status": "completed"
        },
        "tags": [],
        "id": "5b4be6a2"
      },
      "outputs": [],
      "source": [
        "def polarity(row):\n",
        "    \"\"\"\n",
        "    Creating Polarity score feature\n",
        "    \"\"\"\n",
        "    \n",
        "    pol = analyzer.polarity_scores(row)\n",
        "    compound = pol[\"compound\"]\n",
        "    \n",
        "    return pd.Series([compound])"
      ]
    },
    {
      "cell_type": "code",
      "execution_count": 1,
      "id": "9f6b57e2",
      "metadata": {
        "execution": {
          "iopub.execute_input": "2022-01-21T14:47:40.134530Z",
          "iopub.status.busy": "2022-01-21T14:47:40.133679Z",
          "iopub.status.idle": "2022-01-21T14:47:40.152026Z",
          "shell.execute_reply": "2022-01-21T14:47:40.152623Z",
          "shell.execute_reply.started": "2022-01-21T14:31:54.061597Z"
        },
        "papermill": {
          "duration": 0.113902,
          "end_time": "2022-01-21T14:47:40.152834",
          "exception": false,
          "start_time": "2022-01-21T14:47:40.038932",
          "status": "completed"
        },
        "tags": [],
        "id": "9f6b57e2"
      },
      "outputs": [],
      "source": [
        "def text_transformer(df):\n",
        "    \"\"\"\n",
        "    1. Removing links form text and creating a feature \"has_link\"\n",
        "    2. Creating a text length feature and binning it in 2 chunks - \n",
        "        this is because short text tweets are more prone to have target 1\n",
        "    3. Creating a \"has_hastag\" feature. We will then remove \"#\" from text and merge the ashtags\n",
        "        in a unique feature with keywords and stem it\n",
        "    4. Removing all the tags from the text and creating a feature \"has_tag\"\n",
        "    5. Removing all tabs characters from the thext\n",
        "    6. Creating a compound sentiment feature\n",
        "    \"\"\"\n",
        "    \n",
        "    # 1------LINKS\n",
        "    #creating new feature has_link\n",
        "    #creating the regex link pattern\n",
        "    link_pattern = r\"https?:\\/\\/(www\\.)?[-a-zA-Z0-9@:%._\\+~#=]{1,256}\\.[a-zA-Z0-9()]{1,6}\\b([-a-zA-Z0-9()@:%_\\+.~#?&\\/\\/=]*)\"\n",
        "    link = re.compile(link_pattern)\n",
        "    \n",
        "    #creating feature\n",
        "    df[\"has_link\"] = df[\"text\"].str.contains(link, regex=True).astype(int)\n",
        "    \n",
        "    #removing links from the text\n",
        "    df[\"text\"] = df[\"text\"].str.replace(link,\"\", regex=True)\n",
        "    \n",
        "    print(\"links done\")\n",
        "    \n",
        "    # 2--------LENGHT\n",
        "    #creating new feature text_len\n",
        "    df[\"text_len\"] = df[\"text\"].apply(lambda x: len(x))\n",
        "    \n",
        "    #creating 5 bins for the lenght\n",
        "    df[\"text_len_bins\"] = pd.cut(df['text_len'].astype(int), 2) #140chr / 2\n",
        "    #encoding the bins\n",
        "    label = LabelEncoder()\n",
        "    df[\"text_len_bins\"] = label.fit_transform(df[\"text_len_bins\"])\n",
        "    \n",
        "    print(\"len done\")\n",
        "    \n",
        "    # 3-------ASHTAGS\n",
        "    #creating ashtag has ashtag feature and ashtags feature\n",
        "    #ashtags pattern\n",
        "    ashtag_pattern = r\"#(\\w+)\"\n",
        "    ashtag = re.compile(ashtag_pattern)\n",
        "    \n",
        "    #create feature if it has hashtags\n",
        "    df[\"has_ashtags\"] = df[\"text\"].str.contains(ashtag, regex=True).astype(int)\n",
        "    \n",
        "    #create ashtags feature\n",
        "    df[\"ashtags\"] = df[\"text\"].apply(lambda x: re.findall(ashtag, x.lower()))\n",
        "    \n",
        "    #merging keywords and ashtags\n",
        "    df[\"keyword+\"] = df.apply(lambda x: [x[\"keyword\"]]+x[\"ashtags\"] if x[\"keyword\"] not in x[\"ashtags\"] else x[\"ashtags\"],axis=1) #removing duplicates and merging columns\n",
        "    \n",
        "    df[\"keyword+\"] = df[\"keyword+\"].apply(lambda x: \" \".join(x))\n",
        "    \n",
        "    #stemming keywords\n",
        "    global stemmer\n",
        "    stemmer = PorterStemmer()\n",
        "    df[\"keyword+\"] = df[\"keyword\"].apply(lambda x : stemmer.stem(x))\n",
        "    \n",
        "    #replace ashtag with word without #\n",
        "    df[\"text\"] = df[\"text\"].str.replace(\"#\",\"\", regex=False)\n",
        "    \n",
        "    print(\"ashtags done\")\n",
        "    \n",
        "    # 4-------TAGS\n",
        "    #creating has_tag feature\n",
        "    \n",
        "    #tag pattern\n",
        "    tag_pattern = r\"@(\\w+)\"\n",
        "    tag = re.compile(tag_pattern)\n",
        "    \n",
        "    #add has tag\n",
        "    df[\"has_tag\"] = df[\"text\"].str.contains(tag, regex=True).astype(int)\n",
        "    \n",
        "    #remove all @person from the text feature\n",
        "    df[\"text\"] = df[\"text\"].str.replace(tag,\"\", regex=True)\n",
        "    \n",
        "    print(\"tags done\")\n",
        "    \n",
        "    # 5------\\n\n",
        "    #replacing \\n\n",
        "    df[\"text\"] = df[\"text\"].str.replace(\"\\n\",\" \", regex=False)\n",
        "    \n",
        "    # 6-------SENTIMENT SCORE\n",
        "    #add sentiment compound feature\n",
        "    global analyzer\n",
        "    analyzer = SentimentIntensityAnalyzer()\n",
        "    \n",
        "    df[\"compound\"] = df.apply(lambda row: polarity(row[\"text\"]), axis=1)\n",
        "    \n",
        "    print(\"sentiment done\")\n",
        "    "
      ]
    },
    {
      "cell_type": "code",
      "execution_count": 25,
      "id": "e6f4745b",
      "metadata": {
        "execution": {
          "iopub.execute_input": "2022-01-21T14:47:40.339571Z",
          "iopub.status.busy": "2022-01-21T14:47:40.338504Z",
          "iopub.status.idle": "2022-01-21T14:48:16.288059Z",
          "shell.execute_reply": "2022-01-21T14:48:16.287264Z",
          "shell.execute_reply.started": "2022-01-21T14:31:54.084321Z"
        },
        "papermill": {
          "duration": 36.045331,
          "end_time": "2022-01-21T14:48:16.288278",
          "exception": false,
          "start_time": "2022-01-21T14:47:40.242947",
          "status": "completed"
        },
        "tags": [],
        "colab": {
          "base_uri": "https://localhost:8080/",
          "height": 603,
          "referenced_widgets": [
            "643ce065c493412c9dc08706c853d520",
            "1ff2594ef54145e5a4af26bdefd34f77",
            "303b1a076eb24c9ab6b2109964b8562e",
            "1807cc0518054b9e8d669f45ac1a55a9",
            "6244b1fb5f9743dfb7ea97acbea8c2bd",
            "92ebdc326d2f472d85045dedbd165d4d",
            "69aeb51f7d5749ce88298be0faa5699e",
            "965b70dbfdca418082c6f56db1a4d498",
            "3b5f033fa456418987d7691527cd90cb",
            "6553f30e6a9f42f68b90af655072f6fb",
            "fd01572b0dab4c3fa5768690fd1af531",
            "a4c59f1d3a0a430aa158fd7e0de74639",
            "138e0b48d33542b8a0b29a2df09910a7",
            "71f3f6bebec64747bfd0c9e61cc731d4",
            "656454b373a5451dbed0903a938c7c77",
            "9bc4318c8c8347ab940b5da3c892e402",
            "4ad23b9c55c549459acc2e7ff1ffb43b",
            "7d6b9711f53f422dab2c1382dc1701c2",
            "b1427e4a9ae94bd481af9d6479fb89ad",
            "7f73d3ab15a64d3f94aec87b2050a045",
            "474eba4723b54a73a392b53aff31a988",
            "09f00252691d4b3baece1077977881ac",
            "2f7a597afcac4875a78be57bc0d99ce3",
            "2f612aad434145d0b84ffe77fc0e3a4e",
            "f3fb7cf01bca4350b1add2ec5f425156",
            "f59f2113a12242c896890f2f34b59e9b",
            "700f3381ee4d4321b534a8d58215691e",
            "5d55bd5b326e42388372605779faeb05",
            "7e3c1415d57a4425a27b8ae4e02d13c1",
            "4ef1f991e59b4e2d9c2fc3226efa6910",
            "4a06cd5be7614c0e8b89b56d0962ef3b",
            "bf4e79c8880f4410bf32747bbaf86240",
            "40fb6f2d3e5c4816b3f59ed0c0200e23",
            "74eb2910aee54d498f2f55670bd5d8fb",
            "09ce8ad4226d43ada353b001e693a61b",
            "8fb374000b0849e6878361dac5dd3fb8",
            "611870ca8c4c4a37aa0141b7b64db647",
            "6a6e306a8ca54e669e96c40dfae8d1b7",
            "c60549cf83454158ac6190218bef9733",
            "4bbfc90b77714275ad207c6863545092",
            "987b888217514e2db8661086e2623339",
            "df2388efc9a74921a8b3a0c5eacd7e48",
            "1275fdc674d9482cb717d965865df997",
            "fa49c52666c64444891d0a4117d3d28e",
            "00cd88ef5fa047f2bdac947692445a10",
            "baf49b8915174b9c8ffcc8b15aa4d61f",
            "d2d0ad715eec4077853dc1efd8c0b2df",
            "11d219c4cfb3478ba152393e059384df",
            "0ada950294784f0bb8946614734608a2",
            "a3bf15ef33434c8c98593d19bfef6c5c",
            "e721d817ff2e4826b52e7bdbc915f521",
            "be686f61d0484ba3b77820fc793f78da",
            "912beda003424b8d80fb2324a14be6c1",
            "77cd98caf06649d5868c82fa0c511cb7",
            "05c74cdc18634ef8bfe2463268662d7c",
            "dd1c0f9499a04c7fb4afe8c50cdf2e77",
            "413308d4347f4a3e971f6b594172c919",
            "df18a4902bf240869676d06d90a98ed4",
            "5a1981b54d1347319e69a64e2fd8784e",
            "897bb998dd8446f3943316988cfe4249",
            "6b6a399c23ae47ec967a5bc8a73651ef",
            "9f694c07b8dd46fa89e56328c45c7dcd",
            "7db88d4cef894cc4b3a1495c468ca9e3",
            "da201a7b43b2411f954118ea1c5236be",
            "5d24bab58acc4df2995346531410cff4",
            "c4494abf56554dcb8f44b1692107df09",
            "920f1ed6553e434186a43472a1b7bbd9",
            "045acb564b5745529e6eb6766efa20ac",
            "1eb2bba5e20142b382c88e16c402c0be",
            "a8baf5c57a5847ff8351cb3e1cb4a546",
            "2d2244e698c944ac8f295cd6a0c7c9ce",
            "c4e76432e9eb4dca8145f3fc56e4bd13",
            "53a6835cbdca41f096643aba50c58421",
            "9dfd0134548948139e48cd6aa065935b",
            "300cb78fa1f74892a5c3d209cd47d7f7",
            "76d6bc338d194ab7858b9748585075d6",
            "08d1185ae7ce4952b9094cbbcdd2c5fe",
            "3767539bac004840886e8a01343ec5f1",
            "07846e18175c428da5078418b6008224",
            "85fc43637b424eb9809513870ce9b6e4",
            "578ea2de15a64bc2a97cfc07fbdfa427",
            "604fa282c48d47489295844648e25b3f",
            "93ec8f0b8c404730937ac42fb464c01e",
            "60dadec2b1b8483fbc78536410420d96",
            "1d93f36706fa47d2b7334717a79c2819",
            "2925bc925f754d399c8486cac9400560",
            "d890f566f29d4d729d8055d7b0eee826",
            "3698d04d63bb40139bb616e9d8a8e154",
            "8cffad84bae54ce6907a187b8101116e",
            "3be66c345a8b4b4d8a9ee0514ed9964e",
            "6d5a15ecee704b8f96ec195b5f1a2702",
            "78e0bbd7e9224686a731fd3f2d8bdf98",
            "d9ca690271cc495cab6ca983793f0d48",
            "982a3a9d4c3c4297b2bdba0e91ff13b8",
            "f273de5673de486598fa27977f0078d5",
            "30d550a9e6f448c19bc972f0fec79875",
            "d4108a89dd9445fc9a5356fb86bddb19",
            "9f287fb26837431d937cd056c9e8b3e1",
            "f0572ba76ef848b1b1e8e05ebdeabeab",
            "9b1efd19c4664687913a2ea599c155a7",
            "c928abf65df4494dbe9142693f0de943",
            "a00c337b284044a6bcb402f5b5136e5a",
            "81cf0a92d46f49bab9831227a5d0de92",
            "4be017b748554e2a804492404c156b85",
            "e6d45ea2b4e24f259f0225fbd3d7a554",
            "eb39c6d11a5f4827b155573653013b88",
            "c163cb565e304d26a8de2a09c74097cd",
            "55cbfe2bea6146f6a2d39634af45fdf4",
            "78297833928c4bbaae398d5ad9bdb5e3",
            "2b75b4f0c43d483aa01b41edfd98155a",
            "71024ace5b0e4b1e8224bd350b3e7f82",
            "72786a526e754eb0b26a5bf21ce94da8",
            "9f0d25fe2bbc4425bc2a3766e6d83dbe",
            "7bc1d0fd93864853a46604bbb17a96d1",
            "5121214f45f5405baef5e4be62aa1dcd",
            "c4c062cbb0bb46f1b8979df0045fe2e7",
            "a992750324f24ce381d7143fd8762ece",
            "4f1a286876f94072b3f8a9ba40e37f3d",
            "9558e1c6981c4ee0aae9f5c1d3e0a8a1",
            "7ffb5f0401d2411aa1b0338cc5b03e02",
            "5318de1084d4414cbe84cf97fe0d5b86",
            "8d11a859974f494d8c764da3e09aa731",
            "878920b8b13f409eb68a05e44437e2b2",
            "b39adff7e1f74ed8a8b183410f8886ed",
            "795669ee8f044b1bbf671519302ff0fd",
            "6fdaf2d922fb4a3eaf1c518e24e3f782",
            "46984ba658a7476c8bccb95e7982265b",
            "95fe01485fe74c8694a7a01f079b1006",
            "4c759d0c86a9422caa378cbddc06f854",
            "ff00b0c3e4bf4db699baa322400a0b12",
            "31ae42f2c4e4401580dd475ab98234fb",
            "1cb5d964c65e41309ea5cf390b63275f",
            "605ee794388445ae8d6f60c05ff47308",
            "a43bec1c025c47fa9a9d79bb9a6291e5",
            "ff129c0e9f7f4b3d9170db144b5576b3",
            "07f68da294634e63955ac230463cf328",
            "98b19d2b237a4af09228e6ed64b52872",
            "2048baf707e7474d8a268b4ea6059812",
            "bac72e87f62e451c9cba579b797f9ff1",
            "d9ffaabd514c46bd9c22210bc16d4110",
            "285e9ec17fd94fa2a265d27f63e92aea",
            "0d5fd9ef7bf74c3b8b6e7cec2c865acd",
            "fa920a85d68240b48f82cf55d8d9da21",
            "49775230811c40f39ce89b3893a95df3",
            "9d4ac41e9d524e2f8b31b2c311bf1e7b",
            "83de41d8205541f2845bdfa21ab4f7b0",
            "b5906594269949248fe60ab61278117b",
            "6ea637a0308b4e2e92111891e9b44d70",
            "b413feaabc5c4bb5ba77d304f536fad9",
            "a3105ceae9af42c7bfa1067dcb41cc53",
            "4e28fa66da7f48beb26b53c3879e3cef",
            "1c7e250fba0b401ab143e56983b27bd9",
            "485f3a6e0f08400f85d8e556554ac748",
            "0f7f52a8a3994c218b5705a97f931607"
          ]
        },
        "id": "e6f4745b",
        "outputId": "1c7f72d3-8d14-4831-e6e7-63cc7d1acbe0"
      },
      "outputs": [
        {
          "output_type": "stream",
          "name": "stdout",
          "text": [
            "removed space encoding\n"
          ]
        },
        {
          "output_type": "display_data",
          "data": {
            "application/vnd.jupyter.widget-view+json": {
              "model_id": "643ce065c493412c9dc08706c853d520",
              "version_minor": 0,
              "version_major": 2
            },
            "text/plain": [
              "Downloading:   0%|          | 0.00/1.18k [00:00<?, ?B/s]"
            ]
          },
          "metadata": {}
        },
        {
          "output_type": "display_data",
          "data": {
            "application/vnd.jupyter.widget-view+json": {
              "model_id": "a4c59f1d3a0a430aa158fd7e0de74639",
              "version_minor": 0,
              "version_major": 2
            },
            "text/plain": [
              "Downloading:   0%|          | 0.00/10.2k [00:00<?, ?B/s]"
            ]
          },
          "metadata": {}
        },
        {
          "output_type": "display_data",
          "data": {
            "application/vnd.jupyter.widget-view+json": {
              "model_id": "2f7a597afcac4875a78be57bc0d99ce3",
              "version_minor": 0,
              "version_major": 2
            },
            "text/plain": [
              "Downloading:   0%|          | 0.00/612 [00:00<?, ?B/s]"
            ]
          },
          "metadata": {}
        },
        {
          "output_type": "display_data",
          "data": {
            "application/vnd.jupyter.widget-view+json": {
              "model_id": "74eb2910aee54d498f2f55670bd5d8fb",
              "version_minor": 0,
              "version_major": 2
            },
            "text/plain": [
              "Downloading:   0%|          | 0.00/116 [00:00<?, ?B/s]"
            ]
          },
          "metadata": {}
        },
        {
          "output_type": "display_data",
          "data": {
            "application/vnd.jupyter.widget-view+json": {
              "model_id": "00cd88ef5fa047f2bdac947692445a10",
              "version_minor": 0,
              "version_major": 2
            },
            "text/plain": [
              "Downloading:   0%|          | 0.00/39.3k [00:00<?, ?B/s]"
            ]
          },
          "metadata": {}
        },
        {
          "output_type": "display_data",
          "data": {
            "application/vnd.jupyter.widget-view+json": {
              "model_id": "dd1c0f9499a04c7fb4afe8c50cdf2e77",
              "version_minor": 0,
              "version_major": 2
            },
            "text/plain": [
              "Downloading:   0%|          | 0.00/349 [00:00<?, ?B/s]"
            ]
          },
          "metadata": {}
        },
        {
          "output_type": "display_data",
          "data": {
            "application/vnd.jupyter.widget-view+json": {
              "model_id": "920f1ed6553e434186a43472a1b7bbd9",
              "version_minor": 0,
              "version_major": 2
            },
            "text/plain": [
              "Downloading:   0%|          | 0.00/90.9M [00:00<?, ?B/s]"
            ]
          },
          "metadata": {}
        },
        {
          "output_type": "display_data",
          "data": {
            "application/vnd.jupyter.widget-view+json": {
              "model_id": "3767539bac004840886e8a01343ec5f1",
              "version_minor": 0,
              "version_major": 2
            },
            "text/plain": [
              "Downloading:   0%|          | 0.00/53.0 [00:00<?, ?B/s]"
            ]
          },
          "metadata": {}
        },
        {
          "output_type": "display_data",
          "data": {
            "application/vnd.jupyter.widget-view+json": {
              "model_id": "8cffad84bae54ce6907a187b8101116e",
              "version_minor": 0,
              "version_major": 2
            },
            "text/plain": [
              "Downloading:   0%|          | 0.00/112 [00:00<?, ?B/s]"
            ]
          },
          "metadata": {}
        },
        {
          "output_type": "display_data",
          "data": {
            "application/vnd.jupyter.widget-view+json": {
              "model_id": "9b1efd19c4664687913a2ea599c155a7",
              "version_minor": 0,
              "version_major": 2
            },
            "text/plain": [
              "Downloading:   0%|          | 0.00/466k [00:00<?, ?B/s]"
            ]
          },
          "metadata": {}
        },
        {
          "output_type": "display_data",
          "data": {
            "application/vnd.jupyter.widget-view+json": {
              "model_id": "71024ace5b0e4b1e8224bd350b3e7f82",
              "version_minor": 0,
              "version_major": 2
            },
            "text/plain": [
              "Downloading:   0%|          | 0.00/350 [00:00<?, ?B/s]"
            ]
          },
          "metadata": {}
        },
        {
          "output_type": "display_data",
          "data": {
            "application/vnd.jupyter.widget-view+json": {
              "model_id": "8d11a859974f494d8c764da3e09aa731",
              "version_minor": 0,
              "version_major": 2
            },
            "text/plain": [
              "Downloading:   0%|          | 0.00/13.2k [00:00<?, ?B/s]"
            ]
          },
          "metadata": {}
        },
        {
          "output_type": "display_data",
          "data": {
            "application/vnd.jupyter.widget-view+json": {
              "model_id": "605ee794388445ae8d6f60c05ff47308",
              "version_minor": 0,
              "version_major": 2
            },
            "text/plain": [
              "Downloading:   0%|          | 0.00/232k [00:00<?, ?B/s]"
            ]
          },
          "metadata": {}
        },
        {
          "output_type": "display_data",
          "data": {
            "application/vnd.jupyter.widget-view+json": {
              "model_id": "49775230811c40f39ce89b3893a95df3",
              "version_minor": 0,
              "version_major": 2
            },
            "text/plain": [
              "Downloading:   0%|          | 0.00/190 [00:00<?, ?B/s]"
            ]
          },
          "metadata": {}
        },
        {
          "output_type": "stream",
          "name": "stdout",
          "text": [
            "Imputed missing Keywords\n",
            "made 'wild fires'=='wildfires' \n",
            "links done\n",
            "len done\n",
            "ashtags done\n",
            "tags done\n",
            "sentiment done\n"
          ]
        }
      ],
      "source": [
        "kwd_transformer(X_train)\n",
        "text_transformer(X_train)\n",
        "location_transformer(X_train)"
      ]
    },
    {
      "cell_type": "code",
      "execution_count": 26,
      "id": "8db40301",
      "metadata": {
        "execution": {
          "iopub.execute_input": "2022-01-21T14:48:16.513097Z",
          "iopub.status.busy": "2022-01-21T14:48:16.512330Z",
          "iopub.status.idle": "2022-01-21T14:48:16.534153Z",
          "shell.execute_reply": "2022-01-21T14:48:16.534986Z",
          "shell.execute_reply.started": "2022-01-21T14:32:27.136501Z"
        },
        "papermill": {
          "duration": 0.140049,
          "end_time": "2022-01-21T14:48:16.535258",
          "exception": false,
          "start_time": "2022-01-21T14:48:16.395209",
          "status": "completed"
        },
        "tags": [],
        "colab": {
          "base_uri": "https://localhost:8080/",
          "height": 582
        },
        "id": "8db40301",
        "outputId": "f8cc7f9d-fc35-4774-cc19-af3e240d10b9"
      },
      "outputs": [
        {
          "output_type": "execute_result",
          "data": {
            "text/html": [
              "\n",
              "  <div id=\"df-66a46c3c-f23b-4714-8717-66500306ae6c\">\n",
              "    <div class=\"colab-df-container\">\n",
              "      <div>\n",
              "<style scoped>\n",
              "    .dataframe tbody tr th:only-of-type {\n",
              "        vertical-align: middle;\n",
              "    }\n",
              "\n",
              "    .dataframe tbody tr th {\n",
              "        vertical-align: top;\n",
              "    }\n",
              "\n",
              "    .dataframe thead th {\n",
              "        text-align: right;\n",
              "    }\n",
              "</style>\n",
              "<table border=\"1\" class=\"dataframe\">\n",
              "  <thead>\n",
              "    <tr style=\"text-align: right;\">\n",
              "      <th></th>\n",
              "      <th>id</th>\n",
              "      <th>keyword</th>\n",
              "      <th>location</th>\n",
              "      <th>text</th>\n",
              "      <th>has_link</th>\n",
              "      <th>text_len</th>\n",
              "      <th>text_len_bins</th>\n",
              "      <th>has_ashtags</th>\n",
              "      <th>ashtags</th>\n",
              "      <th>keyword+</th>\n",
              "      <th>has_tag</th>\n",
              "      <th>compound</th>\n",
              "      <th>has_location</th>\n",
              "      <th>target</th>\n",
              "    </tr>\n",
              "  </thead>\n",
              "  <tbody>\n",
              "    <tr>\n",
              "      <th>5151</th>\n",
              "      <td>7345</td>\n",
              "      <td>obliterate</td>\n",
              "      <td>Dover, DE</td>\n",
              "      <td>This makes sense. Paper beats rock paper com...</td>\n",
              "      <td>0</td>\n",
              "      <td>136</td>\n",
              "      <td>1</td>\n",
              "      <td>0</td>\n",
              "      <td>[]</td>\n",
              "      <td>obliter</td>\n",
              "      <td>1</td>\n",
              "      <td>-0.2960</td>\n",
              "      <td>1</td>\n",
              "      <td>0</td>\n",
              "    </tr>\n",
              "    <tr>\n",
              "      <th>6351</th>\n",
              "      <td>9081</td>\n",
              "      <td>structural failure</td>\n",
              "      <td>ÌÏT: 27.9136024,-81.6078532</td>\n",
              "      <td>': The causes of federal failure are deeply st...</td>\n",
              "      <td>1</td>\n",
              "      <td>106</td>\n",
              "      <td>1</td>\n",
              "      <td>0</td>\n",
              "      <td>[]</td>\n",
              "      <td>structural failur</td>\n",
              "      <td>1</td>\n",
              "      <td>-0.7311</td>\n",
              "      <td>1</td>\n",
              "      <td>0</td>\n",
              "    </tr>\n",
              "    <tr>\n",
              "      <th>3443</th>\n",
              "      <td>4920</td>\n",
              "      <td>exploded</td>\n",
              "      <td>Elmwood Park, NJ</td>\n",
              "      <td>Well as I was chaning an iPad screen it fuckin...</td>\n",
              "      <td>0</td>\n",
              "      <td>137</td>\n",
              "      <td>1</td>\n",
              "      <td>0</td>\n",
              "      <td>[]</td>\n",
              "      <td>explod</td>\n",
              "      <td>0</td>\n",
              "      <td>0.5574</td>\n",
              "      <td>1</td>\n",
              "      <td>0</td>\n",
              "    </tr>\n",
              "    <tr>\n",
              "      <th>7164</th>\n",
              "      <td>10265</td>\n",
              "      <td>war zone</td>\n",
              "      <td>Host of #MindMoversPodcast</td>\n",
              "      <td>the war on drugs has turned the U.S. into a WA...</td>\n",
              "      <td>0</td>\n",
              "      <td>53</td>\n",
              "      <td>0</td>\n",
              "      <td>0</td>\n",
              "      <td>[]</td>\n",
              "      <td>war zon</td>\n",
              "      <td>0</td>\n",
              "      <td>-0.8602</td>\n",
              "      <td>1</td>\n",
              "      <td>1</td>\n",
              "    </tr>\n",
              "    <tr>\n",
              "      <th>7037</th>\n",
              "      <td>10083</td>\n",
              "      <td>typhoon</td>\n",
              "      <td>NaN</td>\n",
              "      <td>Obama Declares Disaster for Typhoon-Devastated...</td>\n",
              "      <td>0</td>\n",
              "      <td>53</td>\n",
              "      <td>0</td>\n",
              "      <td>0</td>\n",
              "      <td>[]</td>\n",
              "      <td>typhoon</td>\n",
              "      <td>0</td>\n",
              "      <td>-0.6249</td>\n",
              "      <td>0</td>\n",
              "      <td>1</td>\n",
              "    </tr>\n",
              "  </tbody>\n",
              "</table>\n",
              "</div>\n",
              "      <button class=\"colab-df-convert\" onclick=\"convertToInteractive('df-66a46c3c-f23b-4714-8717-66500306ae6c')\"\n",
              "              title=\"Convert this dataframe to an interactive table.\"\n",
              "              style=\"display:none;\">\n",
              "        \n",
              "  <svg xmlns=\"http://www.w3.org/2000/svg\" height=\"24px\"viewBox=\"0 0 24 24\"\n",
              "       width=\"24px\">\n",
              "    <path d=\"M0 0h24v24H0V0z\" fill=\"none\"/>\n",
              "    <path d=\"M18.56 5.44l.94 2.06.94-2.06 2.06-.94-2.06-.94-.94-2.06-.94 2.06-2.06.94zm-11 1L8.5 8.5l.94-2.06 2.06-.94-2.06-.94L8.5 2.5l-.94 2.06-2.06.94zm10 10l.94 2.06.94-2.06 2.06-.94-2.06-.94-.94-2.06-.94 2.06-2.06.94z\"/><path d=\"M17.41 7.96l-1.37-1.37c-.4-.4-.92-.59-1.43-.59-.52 0-1.04.2-1.43.59L10.3 9.45l-7.72 7.72c-.78.78-.78 2.05 0 2.83L4 21.41c.39.39.9.59 1.41.59.51 0 1.02-.2 1.41-.59l7.78-7.78 2.81-2.81c.8-.78.8-2.07 0-2.86zM5.41 20L4 18.59l7.72-7.72 1.47 1.35L5.41 20z\"/>\n",
              "  </svg>\n",
              "      </button>\n",
              "      \n",
              "  <style>\n",
              "    .colab-df-container {\n",
              "      display:flex;\n",
              "      flex-wrap:wrap;\n",
              "      gap: 12px;\n",
              "    }\n",
              "\n",
              "    .colab-df-convert {\n",
              "      background-color: #E8F0FE;\n",
              "      border: none;\n",
              "      border-radius: 50%;\n",
              "      cursor: pointer;\n",
              "      display: none;\n",
              "      fill: #1967D2;\n",
              "      height: 32px;\n",
              "      padding: 0 0 0 0;\n",
              "      width: 32px;\n",
              "    }\n",
              "\n",
              "    .colab-df-convert:hover {\n",
              "      background-color: #E2EBFA;\n",
              "      box-shadow: 0px 1px 2px rgba(60, 64, 67, 0.3), 0px 1px 3px 1px rgba(60, 64, 67, 0.15);\n",
              "      fill: #174EA6;\n",
              "    }\n",
              "\n",
              "    [theme=dark] .colab-df-convert {\n",
              "      background-color: #3B4455;\n",
              "      fill: #D2E3FC;\n",
              "    }\n",
              "\n",
              "    [theme=dark] .colab-df-convert:hover {\n",
              "      background-color: #434B5C;\n",
              "      box-shadow: 0px 1px 3px 1px rgba(0, 0, 0, 0.15);\n",
              "      filter: drop-shadow(0px 1px 2px rgba(0, 0, 0, 0.3));\n",
              "      fill: #FFFFFF;\n",
              "    }\n",
              "  </style>\n",
              "\n",
              "      <script>\n",
              "        const buttonEl =\n",
              "          document.querySelector('#df-66a46c3c-f23b-4714-8717-66500306ae6c button.colab-df-convert');\n",
              "        buttonEl.style.display =\n",
              "          google.colab.kernel.accessAllowed ? 'block' : 'none';\n",
              "\n",
              "        async function convertToInteractive(key) {\n",
              "          const element = document.querySelector('#df-66a46c3c-f23b-4714-8717-66500306ae6c');\n",
              "          const dataTable =\n",
              "            await google.colab.kernel.invokeFunction('convertToInteractive',\n",
              "                                                     [key], {});\n",
              "          if (!dataTable) return;\n",
              "\n",
              "          const docLinkHtml = 'Like what you see? Visit the ' +\n",
              "            '<a target=\"_blank\" href=https://colab.research.google.com/notebooks/data_table.ipynb>data table notebook</a>'\n",
              "            + ' to learn more about interactive tables.';\n",
              "          element.innerHTML = '';\n",
              "          dataTable['output_type'] = 'display_data';\n",
              "          await google.colab.output.renderOutput(dataTable, element);\n",
              "          const docLink = document.createElement('div');\n",
              "          docLink.innerHTML = docLinkHtml;\n",
              "          element.appendChild(docLink);\n",
              "        }\n",
              "      </script>\n",
              "    </div>\n",
              "  </div>\n",
              "  "
            ],
            "text/plain": [
              "         id             keyword  ... has_location target\n",
              "5151   7345          obliterate  ...            1      0\n",
              "6351   9081  structural failure  ...            1      0\n",
              "3443   4920            exploded  ...            1      0\n",
              "7164  10265            war zone  ...            1      1\n",
              "7037  10083             typhoon  ...            0      1\n",
              "\n",
              "[5 rows x 14 columns]"
            ]
          },
          "metadata": {},
          "execution_count": 26
        }
      ],
      "source": [
        "df=pd.concat([X_train,y_train], axis=1)\n",
        "df.head()"
      ]
    },
    {
      "cell_type": "code",
      "execution_count": 27,
      "id": "5899c068",
      "metadata": {
        "execution": {
          "iopub.execute_input": "2022-01-21T14:48:16.752561Z",
          "iopub.status.busy": "2022-01-21T14:48:16.751454Z",
          "iopub.status.idle": "2022-01-21T14:48:17.213691Z",
          "shell.execute_reply": "2022-01-21T14:48:17.213043Z",
          "shell.execute_reply.started": "2022-01-21T14:32:27.163733Z"
        },
        "papermill": {
          "duration": 0.566205,
          "end_time": "2022-01-21T14:48:17.213861",
          "exception": false,
          "start_time": "2022-01-21T14:48:16.647656",
          "status": "completed"
        },
        "tags": [],
        "colab": {
          "base_uri": "https://localhost:8080/",
          "height": 297
        },
        "id": "5899c068",
        "outputId": "99153bcf-e81a-4f1b-949e-3f5c59e48cb8"
      },
      "outputs": [
        {
          "output_type": "execute_result",
          "data": {
            "text/plain": [
              "<matplotlib.axes._subplots.AxesSubplot at 0x7f2c7a839510>"
            ]
          },
          "metadata": {},
          "execution_count": 27
        },
        {
          "output_type": "display_data",
          "data": {
            "image/png": "[encoded data removed]",
            "text/plain": [
              "<Figure size 432x288 with 1 Axes>"
            ]
          },
          "metadata": {
            "needs_background": "light"
          }
        }
      ],
      "source": [
        "sns.histplot(data=df, x=\"text_len\", hue=\"target\", bins=14) \n",
        "#we can see a distinction between text shorter than 60 chars being less frequent"
      ]
    },
    {
      "cell_type": "code",
      "execution_count": 28,
      "id": "f2188e82",
      "metadata": {
        "execution": {
          "iopub.execute_input": "2022-01-21T14:48:17.420702Z",
          "iopub.status.busy": "2022-01-21T14:48:17.419943Z",
          "iopub.status.idle": "2022-01-21T14:48:17.658008Z",
          "shell.execute_reply": "2022-01-21T14:48:17.656700Z",
          "shell.execute_reply.started": "2022-01-21T14:32:27.537901Z"
        },
        "papermill": {
          "duration": 0.345335,
          "end_time": "2022-01-21T14:48:17.658269",
          "exception": false,
          "start_time": "2022-01-21T14:48:17.312934",
          "status": "completed"
        },
        "tags": [],
        "colab": {
          "base_uri": "https://localhost:8080/",
          "height": 296
        },
        "id": "f2188e82",
        "outputId": "6b9fab3b-6c63-4285-e426-95e76b403bf6"
      },
      "outputs": [
        {
          "output_type": "execute_result",
          "data": {
            "text/plain": [
              "<matplotlib.axes._subplots.AxesSubplot at 0x7f2c7a571d50>"
            ]
          },
          "metadata": {},
          "execution_count": 28
        },
        {
          "output_type": "display_data",
          "data": {
            "image/png": "[encoded data removed]",
            "text/plain": [
              "<Figure size 432x288 with 1 Axes>"
            ]
          },
          "metadata": {
            "needs_background": "light"
          }
        }
      ],
      "source": [
        "sns.boxplot(data=df, x=\"target\", y=\"text_len\") # 1 are slightly longer"
      ]
    },
    {
      "cell_type": "code",
      "execution_count": 29,
      "id": "9ce04ca8",
      "metadata": {
        "execution": {
          "iopub.execute_input": "2022-01-21T14:48:17.876274Z",
          "iopub.status.busy": "2022-01-21T14:48:17.875163Z",
          "iopub.status.idle": "2022-01-21T14:48:18.311464Z",
          "shell.execute_reply": "2022-01-21T14:48:18.312363Z",
          "shell.execute_reply.started": "2022-01-21T14:32:27.761043Z"
        },
        "papermill": {
          "duration": 0.550899,
          "end_time": "2022-01-21T14:48:18.312676",
          "exception": false,
          "start_time": "2022-01-21T14:48:17.761777",
          "status": "completed"
        },
        "tags": [],
        "colab": {
          "base_uri": "https://localhost:8080/",
          "height": 297
        },
        "id": "9ce04ca8",
        "outputId": "215e4eee-ad7f-4a0e-fe06-2ac1f2ecf56a"
      },
      "outputs": [
        {
          "output_type": "execute_result",
          "data": {
            "text/plain": [
              "<matplotlib.axes._subplots.AxesSubplot at 0x7f2c7acf8f90>"
            ]
          },
          "metadata": {},
          "execution_count": 29
        },
        {
          "output_type": "display_data",
          "data": {
            "image/png": "[encoded data removed]",
            "text/plain": [
              "<Figure size 432x288 with 1 Axes>"
            ]
          },
          "metadata": {
            "needs_background": "light"
          }
        }
      ],
      "source": [
        "sns.barplot(data=df, x=\"text_len_bins\",y=\"text_len\",hue=\"target\", orient=\"v\") \n",
        "#distaster tweets are longer for bin one we created"
      ]
    },
    {
      "cell_type": "code",
      "execution_count": 30,
      "id": "a2a5bba0",
      "metadata": {
        "execution": {
          "iopub.execute_input": "2022-01-21T14:48:18.528103Z",
          "iopub.status.busy": "2022-01-21T14:48:18.523515Z",
          "iopub.status.idle": "2022-01-21T14:48:18.761068Z",
          "shell.execute_reply": "2022-01-21T14:48:18.760449Z",
          "shell.execute_reply.started": "2022-01-21T14:32:28.158693Z"
        },
        "papermill": {
          "duration": 0.341809,
          "end_time": "2022-01-21T14:48:18.761247",
          "exception": false,
          "start_time": "2022-01-21T14:48:18.419438",
          "status": "completed"
        },
        "tags": [],
        "colab": {
          "base_uri": "https://localhost:8080/",
          "height": 296
        },
        "id": "a2a5bba0",
        "outputId": "05cda420-4831-4ee1-b354-62ce9fe6c546"
      },
      "outputs": [
        {
          "output_type": "execute_result",
          "data": {
            "text/plain": [
              "<matplotlib.axes._subplots.AxesSubplot at 0x7f2c7aea4d90>"
            ]
          },
          "metadata": {},
          "execution_count": 30
        },
        {
          "output_type": "display_data",
          "data": {
            "image/png": "[encoded data removed]",
            "text/plain": [
              "<Figure size 432x288 with 1 Axes>"
            ]
          },
          "metadata": {
            "needs_background": "light"
          }
        }
      ],
      "source": [
        "sns.boxplot(data=df, x=\"target\", y=\"compound\") #disaster tweets are clearly more proce to ha a negative compound sentiment"
      ]
    },
    {
      "cell_type": "code",
      "execution_count": 31,
      "id": "e1b3debb",
      "metadata": {
        "execution": {
          "iopub.execute_input": "2022-01-21T14:48:18.979306Z",
          "iopub.status.busy": "2022-01-21T14:48:18.978222Z",
          "iopub.status.idle": "2022-01-21T14:48:19.011351Z",
          "shell.execute_reply": "2022-01-21T14:48:19.010585Z",
          "shell.execute_reply.started": "2022-01-21T14:32:28.388752Z"
        },
        "papermill": {
          "duration": 0.146906,
          "end_time": "2022-01-21T14:48:19.011527",
          "exception": false,
          "start_time": "2022-01-21T14:48:18.864621",
          "status": "completed"
        },
        "tags": [],
        "id": "e1b3debb"
      },
      "outputs": [],
      "source": [
        "#visualizing keywords with most disaster labels\n",
        "order = pd.crosstab(df[\"keyword+\"], df.target).sort_values(1, ascending=False).index"
      ]
    },
    {
      "cell_type": "code",
      "execution_count": 32,
      "id": "f872aa0c",
      "metadata": {
        "execution": {
          "iopub.execute_input": "2022-01-21T14:48:19.237573Z",
          "iopub.status.busy": "2022-01-21T14:48:19.236790Z",
          "iopub.status.idle": "2022-01-21T14:48:23.334234Z",
          "shell.execute_reply": "2022-01-21T14:48:23.334865Z",
          "shell.execute_reply.started": "2022-01-21T14:32:28.418301Z"
        },
        "papermill": {
          "duration": 4.218302,
          "end_time": "2022-01-21T14:48:23.335136",
          "exception": false,
          "start_time": "2022-01-21T14:48:19.116834",
          "status": "completed"
        },
        "tags": [],
        "colab": {
          "base_uri": "https://localhost:8080/",
          "height": 1000
        },
        "id": "f872aa0c",
        "outputId": "884cb7af-fa40-443b-b921-9bbd43e82e19"
      },
      "outputs": [
        {
          "output_type": "display_data",
          "data": {
            "image/png": "[encoded data removed]",
            "text/plain": [
              "<Figure size 720x2520 with 1 Axes>"
            ]
          },
          "metadata": {
            "needs_background": "light"
          }
        }
      ],
      "source": [
        "fig, ax = plt.subplots(figsize=(10,35)\n",
        "                       )\n",
        "ax = sns.countplot(data=df, y=\"keyword+\", hue=\"target\", orient=\"v\", order = order)\n",
        "\n",
        "ax.xaxis.tick_top()\n",
        "ax.xaxis.set_label_position('top')\n",
        "\n",
        "plt.legend(loc='upper right')\n",
        "plt.tight_layout()"
      ]
    },
    {
      "cell_type": "code",
      "execution_count": 33,
      "id": "c4d60603",
      "metadata": {
        "execution": {
          "iopub.execute_input": "2022-01-21T14:48:23.549799Z",
          "iopub.status.busy": "2022-01-21T14:48:23.549086Z",
          "iopub.status.idle": "2022-01-21T14:48:23.781594Z",
          "shell.execute_reply": "2022-01-21T14:48:23.782217Z",
          "shell.execute_reply.started": "2022-01-21T14:32:32.194474Z"
        },
        "papermill": {
          "duration": 0.343602,
          "end_time": "2022-01-21T14:48:23.782460",
          "exception": false,
          "start_time": "2022-01-21T14:48:23.438858",
          "status": "completed"
        },
        "tags": [],
        "colab": {
          "base_uri": "https://localhost:8080/",
          "height": 297
        },
        "id": "c4d60603",
        "outputId": "eefb65c3-f21b-43d6-d409-bd797ec492f2"
      },
      "outputs": [
        {
          "output_type": "execute_result",
          "data": {
            "text/plain": [
              "<matplotlib.axes._subplots.AxesSubplot at 0x7f2c7af73e50>"
            ]
          },
          "metadata": {},
          "execution_count": 33
        },
        {
          "output_type": "display_data",
          "data": {
            "image/png": "[encoded data removed]",
            "text/plain": [
              "<Figure size 432x288 with 1 Axes>"
            ]
          },
          "metadata": {
            "needs_background": "light"
          }
        }
      ],
      "source": [
        "sns.countplot(data=df, x=\"has_ashtags\", hue=\"target\")\n",
        "# not having an hashtag could be a discriminant for a disaster tweet"
      ]
    },
    {
      "cell_type": "code",
      "execution_count": 34,
      "id": "3530ec71",
      "metadata": {
        "execution": {
          "iopub.execute_input": "2022-01-21T14:48:24.002212Z",
          "iopub.status.busy": "2022-01-21T14:48:24.001302Z",
          "iopub.status.idle": "2022-01-21T14:48:24.231589Z",
          "shell.execute_reply": "2022-01-21T14:48:24.230803Z",
          "shell.execute_reply.started": "2022-01-21T14:32:32.418759Z"
        },
        "papermill": {
          "duration": 0.344319,
          "end_time": "2022-01-21T14:48:24.231758",
          "exception": false,
          "start_time": "2022-01-21T14:48:23.887439",
          "status": "completed"
        },
        "tags": [],
        "colab": {
          "base_uri": "https://localhost:8080/",
          "height": 297
        },
        "id": "3530ec71",
        "outputId": "853e96e7-deca-41c3-d3a6-af2b074d122f"
      },
      "outputs": [
        {
          "output_type": "execute_result",
          "data": {
            "text/plain": [
              "<matplotlib.axes._subplots.AxesSubplot at 0x7f2c7af08850>"
            ]
          },
          "metadata": {},
          "execution_count": 34
        },
        {
          "output_type": "display_data",
          "data": {
            "image/png": "[encoded data removed]",
            "text/plain": [
              "<Figure size 432x288 with 1 Axes>"
            ]
          },
          "metadata": {
            "needs_background": "light"
          }
        }
      ],
      "source": [
        "sns.countplot(data=df, x=\"has_tag\", hue=\"target\")\n",
        "# a tag could be a discriminant eve tough we must take into account that the disaster tweets are less than non disaster"
      ]
    },
    {
      "cell_type": "code",
      "execution_count": 35,
      "id": "947d3763",
      "metadata": {
        "execution": {
          "iopub.execute_input": "2022-01-21T14:48:24.461445Z",
          "iopub.status.busy": "2022-01-21T14:48:24.460471Z",
          "iopub.status.idle": "2022-01-21T14:48:24.694414Z",
          "shell.execute_reply": "2022-01-21T14:48:24.694975Z",
          "shell.execute_reply.started": "2022-01-21T14:32:32.633672Z"
        },
        "papermill": {
          "duration": 0.349215,
          "end_time": "2022-01-21T14:48:24.695172",
          "exception": false,
          "start_time": "2022-01-21T14:48:24.345957",
          "status": "completed"
        },
        "tags": [],
        "colab": {
          "base_uri": "https://localhost:8080/",
          "height": 297
        },
        "id": "947d3763",
        "outputId": "3bf9339c-40c5-451a-951c-26c252bba07e"
      },
      "outputs": [
        {
          "output_type": "execute_result",
          "data": {
            "text/plain": [
              "<matplotlib.axes._subplots.AxesSubplot at 0x7f2c7adf3590>"
            ]
          },
          "metadata": {},
          "execution_count": 35
        },
        {
          "output_type": "display_data",
          "data": {
            "image/png": "[encoded data removed]",
            "text/plain": [
              "<Figure size 432x288 with 1 Axes>"
            ]
          },
          "metadata": {
            "needs_background": "light"
          }
        }
      ],
      "source": [
        "sns.countplot(data=df, x=\"has_location\", hue=\"target\")\n",
        "# same as before"
      ]
    },
    {
      "cell_type": "code",
      "execution_count": 36,
      "id": "29594598",
      "metadata": {
        "execution": {
          "iopub.execute_input": "2022-01-21T14:48:24.919343Z",
          "iopub.status.busy": "2022-01-21T14:48:24.918525Z",
          "iopub.status.idle": "2022-01-21T14:48:25.164242Z",
          "shell.execute_reply": "2022-01-21T14:48:25.165012Z",
          "shell.execute_reply.started": "2022-01-21T14:32:32.855181Z"
        },
        "papermill": {
          "duration": 0.356717,
          "end_time": "2022-01-21T14:48:25.165233",
          "exception": false,
          "start_time": "2022-01-21T14:48:24.808516",
          "status": "completed"
        },
        "tags": [],
        "colab": {
          "base_uri": "https://localhost:8080/",
          "height": 297
        },
        "id": "29594598",
        "outputId": "01bb53d1-8546-4a0b-b942-2b638678d335"
      },
      "outputs": [
        {
          "output_type": "execute_result",
          "data": {
            "text/plain": [
              "<matplotlib.axes._subplots.AxesSubplot at 0x7f2c7b003b90>"
            ]
          },
          "metadata": {},
          "execution_count": 36
        },
        {
          "output_type": "display_data",
          "data": {
            "image/png": "[encoded data removed]",
            "text/plain": [
              "<Figure size 432x288 with 1 Axes>"
            ]
          },
          "metadata": {
            "needs_background": "light"
          }
        }
      ],
      "source": [
        "sns.countplot(data=df, x=\"has_link\", hue=\"target\")\n",
        "# here we can see how having a link could be indicative of a disaster"
      ]
    },
    {
      "cell_type": "code",
      "execution_count": 37,
      "id": "d86e6f75",
      "metadata": {
        "execution": {
          "iopub.execute_input": "2022-01-21T14:48:25.401147Z",
          "iopub.status.busy": "2022-01-21T14:48:25.400304Z",
          "iopub.status.idle": "2022-01-21T14:48:35.654978Z",
          "shell.execute_reply": "2022-01-21T14:48:35.654216Z",
          "shell.execute_reply.started": "2022-01-21T14:32:33.096216Z"
        },
        "papermill": {
          "duration": 10.369479,
          "end_time": "2022-01-21T14:48:35.655173",
          "exception": false,
          "start_time": "2022-01-21T14:48:25.285694",
          "status": "completed"
        },
        "tags": [],
        "colab": {
          "base_uri": "https://localhost:8080/"
        },
        "id": "d86e6f75",
        "outputId": "3ab44644-4402-4958-d43f-0d0f5d57e4f2"
      },
      "outputs": [
        {
          "output_type": "stream",
          "name": "stdout",
          "text": [
            "removed space encoding\n",
            "Imputed missing Keywords\n",
            "made 'wild fires'=='wildfires' \n",
            "links done\n",
            "len done\n",
            "ashtags done\n",
            "tags done\n",
            "sentiment done\n"
          ]
        }
      ],
      "source": [
        "kwd_transformer(X_valid)\n",
        "text_transformer(X_valid)\n",
        "location_transformer(X_valid)"
      ]
    },
    {
      "cell_type": "code",
      "execution_count": 38,
      "id": "c9fd2e79",
      "metadata": {
        "execution": {
          "iopub.execute_input": "2022-01-21T14:48:35.901376Z",
          "iopub.status.busy": "2022-01-21T14:48:35.897743Z",
          "iopub.status.idle": "2022-01-21T14:48:53.926827Z",
          "shell.execute_reply": "2022-01-21T14:48:53.926188Z",
          "shell.execute_reply.started": "2022-01-21T14:32:42.496683Z"
        },
        "papermill": {
          "duration": 18.155248,
          "end_time": "2022-01-21T14:48:53.927053",
          "exception": false,
          "start_time": "2022-01-21T14:48:35.771805",
          "status": "completed"
        },
        "tags": [],
        "colab": {
          "base_uri": "https://localhost:8080/"
        },
        "id": "c9fd2e79",
        "outputId": "c203d16c-2455-4d27-f303-f9380d9c0bfc"
      },
      "outputs": [
        {
          "output_type": "stream",
          "name": "stdout",
          "text": [
            "removed space encoding\n",
            "Imputed missing Keywords\n",
            "made 'wild fires'=='wildfires' \n",
            "links done\n",
            "len done\n",
            "ashtags done\n",
            "tags done\n",
            "sentiment done\n"
          ]
        }
      ],
      "source": [
        "kwd_transformer(X_test)\n",
        "text_transformer(X_test)\n",
        "location_transformer(X_test)"
      ]
    },
    {
      "cell_type": "code",
      "execution_count": 39,
      "id": "603f66eb",
      "metadata": {
        "execution": {
          "iopub.execute_input": "2022-01-21T14:48:54.157808Z",
          "iopub.status.busy": "2022-01-21T14:48:54.157085Z",
          "iopub.status.idle": "2022-01-21T14:48:54.160673Z",
          "shell.execute_reply": "2022-01-21T14:48:54.161256Z",
          "shell.execute_reply.started": "2022-01-21T14:32:58.151108Z"
        },
        "papermill": {
          "duration": 0.125811,
          "end_time": "2022-01-21T14:48:54.161478",
          "exception": false,
          "start_time": "2022-01-21T14:48:54.035667",
          "status": "completed"
        },
        "tags": [],
        "colab": {
          "base_uri": "https://localhost:8080/"
        },
        "id": "603f66eb",
        "outputId": "7a0e8936-4611-4fd0-8cd0-de8342dd4664"
      },
      "outputs": [
        {
          "output_type": "stream",
          "name": "stdout",
          "text": [
            "(5709, 13) (5709,) (1904, 13) (1904,) (3263, 13)\n"
          ]
        }
      ],
      "source": [
        "print(X_train.shape,y_train.shape, X_valid.shape, y_valid.shape, X_test.shape)"
      ]
    },
    {
      "cell_type": "markdown",
      "id": "d423505d",
      "metadata": {
        "papermill": {
          "duration": 0.116933,
          "end_time": "2022-01-21T14:48:54.390560",
          "exception": false,
          "start_time": "2022-01-21T14:48:54.273627",
          "status": "completed"
        },
        "tags": [],
        "id": "d423505d"
      },
      "source": [
        "Changing categorical to numerical features:\n",
        "1. One Hot Encode Keywords+\n",
        "2. TD-IDF Vectorization fo the text feature to apply machine learning algorithm"
      ]
    },
    {
      "cell_type": "code",
      "execution_count": 40,
      "id": "548812c8",
      "metadata": {
        "execution": {
          "iopub.execute_input": "2022-01-21T14:48:54.633937Z",
          "iopub.status.busy": "2022-01-21T14:48:54.623836Z",
          "iopub.status.idle": "2022-01-21T14:48:54.669284Z",
          "shell.execute_reply": "2022-01-21T14:48:54.668574Z",
          "shell.execute_reply.started": "2022-01-21T14:32:58.158783Z"
        },
        "papermill": {
          "duration": 0.165579,
          "end_time": "2022-01-21T14:48:54.669447",
          "exception": false,
          "start_time": "2022-01-21T14:48:54.503868",
          "status": "completed"
        },
        "tags": [],
        "id": "548812c8"
      },
      "outputs": [],
      "source": [
        "encoder = OneHotEncoder(handle_unknown=\"ignore\", sparse=False)\n",
        "\n",
        "#TRAIN\n",
        "train_kwd_dummies = pd.DataFrame(encoder.fit_transform(X_train[\"keyword+\"].values.reshape(-1,1)))\n",
        "X_train.reset_index(inplace=True) #needs index to be resetted with concat\n",
        "\n",
        "#concat\n",
        "X_train = pd.concat([X_train, train_kwd_dummies], axis=1)\n",
        "\n",
        "X_train.index = X_train[\"index\"]\n",
        "X_train.drop(\"index\", axis=1, inplace=True)\n"
      ]
    },
    {
      "cell_type": "code",
      "execution_count": 41,
      "id": "e37bbd43",
      "metadata": {
        "execution": {
          "iopub.execute_input": "2022-01-21T14:48:54.900551Z",
          "iopub.status.busy": "2022-01-21T14:48:54.899720Z",
          "iopub.status.idle": "2022-01-21T14:48:54.922381Z",
          "shell.execute_reply": "2022-01-21T14:48:54.923016Z",
          "shell.execute_reply.started": "2022-01-21T14:32:58.205769Z"
        },
        "papermill": {
          "duration": 0.141293,
          "end_time": "2022-01-21T14:48:54.923226",
          "exception": false,
          "start_time": "2022-01-21T14:48:54.781933",
          "status": "completed"
        },
        "tags": [],
        "id": "e37bbd43"
      },
      "outputs": [],
      "source": [
        "valid_kwd_dummies = pd.DataFrame(encoder.transform(X_valid[\"keyword+\"].values.reshape(-1,1)))\n",
        "\n",
        "#VALID\n",
        "X_valid.reset_index(inplace=True) #needs index to be resetted\n",
        "\n",
        "#concat\n",
        "X_valid = pd.concat([X_valid, valid_kwd_dummies], axis=1)\n",
        "\n",
        "X_valid.index = X_valid[\"index\"]\n",
        "X_valid.drop(\"index\", axis=1, inplace=True)"
      ]
    },
    {
      "cell_type": "code",
      "execution_count": 42,
      "id": "cb836c1e",
      "metadata": {
        "execution": {
          "iopub.execute_input": "2022-01-21T14:48:55.162072Z",
          "iopub.status.busy": "2022-01-21T14:48:55.161312Z",
          "iopub.status.idle": "2022-01-21T14:48:55.188590Z",
          "shell.execute_reply": "2022-01-21T14:48:55.187913Z",
          "shell.execute_reply.started": "2022-01-21T14:32:58.225176Z"
        },
        "papermill": {
          "duration": 0.151925,
          "end_time": "2022-01-21T14:48:55.188757",
          "exception": false,
          "start_time": "2022-01-21T14:48:55.036832",
          "status": "completed"
        },
        "tags": [],
        "id": "cb836c1e"
      },
      "outputs": [],
      "source": [
        "test_kwd_dummies = pd.DataFrame(encoder.transform(X_test[\"keyword+\"].values.reshape(-1,1)))\n",
        "\n",
        "#TEST\n",
        "X_test.reset_index(inplace=True) #needs index to be resetted\n",
        "\n",
        "#concat\n",
        "X_test = pd.concat([X_test, test_kwd_dummies], axis=1)\n",
        "\n",
        "X_test.index = X_test[\"index\"]\n",
        "X_test.drop(\"index\", axis=1, inplace=True)"
      ]
    },
    {
      "cell_type": "code",
      "execution_count": 43,
      "id": "6cd5e66c",
      "metadata": {
        "execution": {
          "iopub.execute_input": "2022-01-21T14:48:55.424096Z",
          "iopub.status.busy": "2022-01-21T14:48:55.423124Z",
          "iopub.status.idle": "2022-01-21T14:48:55.427752Z",
          "shell.execute_reply": "2022-01-21T14:48:55.427215Z",
          "shell.execute_reply.started": "2022-01-21T14:32:58.247191Z"
        },
        "papermill": {
          "duration": 0.121879,
          "end_time": "2022-01-21T14:48:55.427934",
          "exception": false,
          "start_time": "2022-01-21T14:48:55.306055",
          "status": "completed"
        },
        "tags": [],
        "colab": {
          "base_uri": "https://localhost:8080/"
        },
        "id": "6cd5e66c",
        "outputId": "7f23e9ec-44fb-4f11-ca6d-f42707b5d74c"
      },
      "outputs": [
        {
          "output_type": "stream",
          "name": "stdout",
          "text": [
            "(5709, 178) (5709,) (1904, 178) (1904,) (3263, 178)\n"
          ]
        }
      ],
      "source": [
        "print(X_train.shape,y_train.shape, X_valid.shape, y_valid.shape, X_test.shape)"
      ]
    },
    {
      "cell_type": "code",
      "execution_count": 44,
      "id": "539d6503",
      "metadata": {
        "execution": {
          "iopub.execute_input": "2022-01-21T14:48:55.665433Z",
          "iopub.status.busy": "2022-01-21T14:48:55.664230Z",
          "iopub.status.idle": "2022-01-21T14:48:55.666220Z",
          "shell.execute_reply": "2022-01-21T14:48:55.666726Z",
          "shell.execute_reply.started": "2022-01-21T14:32:58.256037Z"
        },
        "papermill": {
          "duration": 0.128637,
          "end_time": "2022-01-21T14:48:55.666978",
          "exception": false,
          "start_time": "2022-01-21T14:48:55.538341",
          "status": "completed"
        },
        "tags": [],
        "id": "539d6503"
      },
      "outputs": [],
      "source": [
        "def text_process(text):\n",
        "    \"\"\"\n",
        "    Takes in a string of text, then performs the following:\n",
        "    1. Remove all punctuation\n",
        "    2. Remove all stopwords\n",
        "    3. Stem the text\n",
        "    4. Returns a list of the cleaned text\n",
        "    \"\"\"\n",
        "    # Check characters to see if they are in punctuation\n",
        "    nopunc = [char for char in text if char not in string.punctuation]\n",
        "\n",
        "    # Join the characters again to form the string.\n",
        "    nopunc = ''.join(nopunc)\n",
        "    \n",
        "    #Stem text\n",
        "    stemmer = PorterStemmer()\n",
        "    \n",
        "    # Now just remove any stopwords\n",
        "    return [stemmer.stem(word) for word in nopunc.split() if word.lower() not in stopwords.words('english')]\n"
      ]
    },
    {
      "cell_type": "code",
      "execution_count": 45,
      "id": "35fddb8d",
      "metadata": {
        "execution": {
          "iopub.execute_input": "2022-01-21T14:48:55.895954Z",
          "iopub.status.busy": "2022-01-21T14:48:55.894836Z",
          "iopub.status.idle": "2022-01-21T14:49:09.611643Z",
          "shell.execute_reply": "2022-01-21T14:49:09.611031Z",
          "shell.execute_reply.started": "2022-01-21T14:32:58.274233Z"
        },
        "papermill": {
          "duration": 13.831327,
          "end_time": "2022-01-21T14:49:09.611810",
          "exception": false,
          "start_time": "2022-01-21T14:48:55.780483",
          "status": "completed"
        },
        "tags": [],
        "id": "35fddb8d"
      },
      "outputs": [],
      "source": [
        "#TRAINING\n",
        "#vectorizing text columns\n",
        "vectorizer = TfidfVectorizer(analyzer=text_process, min_df=5, max_df=0.5, ngram_range=(1,2))\n",
        "\n",
        "train_text_tfidf = vectorizer.fit_transform(X_train['text'])\n",
        "\n",
        "#making a dataframe to concatenate\n",
        "train_text_tfidf = pd.DataFrame(train_text_tfidf.toarray())\n",
        "\n",
        "X_train.reset_index(inplace=True) #needs index to be resetted\n",
        "\n",
        "#concat\n",
        "X_train = pd.concat([X_train, train_text_tfidf], axis=1)\n",
        "\n",
        "X_train.index = X_train[\"index\"]\n",
        "X_train.drop(\"index\", axis=1, inplace=True)"
      ]
    },
    {
      "cell_type": "code",
      "execution_count": 46,
      "id": "c3e21873",
      "metadata": {
        "execution": {
          "iopub.execute_input": "2022-01-21T14:49:09.844687Z",
          "iopub.status.busy": "2022-01-21T14:49:09.843854Z",
          "iopub.status.idle": "2022-01-21T14:49:14.342430Z",
          "shell.execute_reply": "2022-01-21T14:49:14.341616Z",
          "shell.execute_reply.started": "2022-01-21T14:33:11.30111Z"
        },
        "papermill": {
          "duration": 4.620139,
          "end_time": "2022-01-21T14:49:14.342605",
          "exception": false,
          "start_time": "2022-01-21T14:49:09.722466",
          "status": "completed"
        },
        "tags": [],
        "id": "c3e21873"
      },
      "outputs": [],
      "source": [
        "#VALIDATION\n",
        "valid_text_tfidf = vectorizer.transform(X_valid['text']) #avoid data leakage\n",
        "\n",
        "#making a dataframe to concatenate\n",
        "valid_text_tfidf = pd.DataFrame(valid_text_tfidf.toarray())\n",
        "\n",
        "X_valid.reset_index(inplace=True) #needs index to be resetted\n",
        "\n",
        "#concat\n",
        "X_valid = pd.concat([X_valid, valid_text_tfidf], axis=1)\n",
        "\n",
        "X_valid.index = X_valid[\"index\"]\n",
        "X_valid.drop(\"index\", axis=1, inplace=True)"
      ]
    },
    {
      "cell_type": "code",
      "execution_count": 47,
      "id": "17a2c595",
      "metadata": {
        "execution": {
          "iopub.execute_input": "2022-01-21T14:49:14.578197Z",
          "iopub.status.busy": "2022-01-21T14:49:14.577060Z",
          "iopub.status.idle": "2022-01-21T14:49:22.411677Z",
          "shell.execute_reply": "2022-01-21T14:49:22.410896Z",
          "shell.execute_reply.started": "2022-01-21T14:33:15.638557Z"
        },
        "papermill": {
          "duration": 7.9539,
          "end_time": "2022-01-21T14:49:22.411893",
          "exception": false,
          "start_time": "2022-01-21T14:49:14.457993",
          "status": "completed"
        },
        "tags": [],
        "id": "17a2c595"
      },
      "outputs": [],
      "source": [
        "#TEST\n",
        "test_text_tfidf = vectorizer.transform(X_test['text']) #avoid data leakage\n",
        "\n",
        "#making a dataframe to concatenate\n",
        "test_text_tfidf = pd.DataFrame(test_text_tfidf.toarray())\n",
        "\n",
        "X_test.reset_index(inplace=True) #needs index to be resetted\n",
        "\n",
        "#concat\n",
        "X_test = pd.concat([X_test, test_text_tfidf], axis=1)\n",
        "\n",
        "X_test.index = X_test[\"index\"]\n",
        "X_test.drop(\"index\", axis=1, inplace=True)"
      ]
    },
    {
      "cell_type": "code",
      "execution_count": 48,
      "id": "ddb4ecf6",
      "metadata": {
        "execution": {
          "iopub.execute_input": "2022-01-21T14:49:22.652949Z",
          "iopub.status.busy": "2022-01-21T14:49:22.652179Z",
          "iopub.status.idle": "2022-01-21T14:49:22.656394Z",
          "shell.execute_reply": "2022-01-21T14:49:22.656956Z",
          "shell.execute_reply.started": "2022-01-21T14:33:24.499957Z"
        },
        "papermill": {
          "duration": 0.127231,
          "end_time": "2022-01-21T14:49:22.657206",
          "exception": false,
          "start_time": "2022-01-21T14:49:22.529975",
          "status": "completed"
        },
        "tags": [],
        "id": "ddb4ecf6"
      },
      "outputs": [],
      "source": [
        "#scaling the compound feature\n",
        "from sklearn.preprocessing import MinMaxScaler\n",
        "scaler=MinMaxScaler()"
      ]
    },
    {
      "cell_type": "code",
      "execution_count": 49,
      "id": "aa834c4b",
      "metadata": {
        "execution": {
          "iopub.execute_input": "2022-01-21T14:49:22.937008Z",
          "iopub.status.busy": "2022-01-21T14:49:22.933837Z",
          "iopub.status.idle": "2022-01-21T14:49:22.945106Z",
          "shell.execute_reply": "2022-01-21T14:49:22.945678Z",
          "shell.execute_reply.started": "2022-01-21T14:33:24.506785Z"
        },
        "papermill": {
          "duration": 0.164809,
          "end_time": "2022-01-21T14:49:22.945918",
          "exception": false,
          "start_time": "2022-01-21T14:49:22.781109",
          "status": "completed"
        },
        "tags": [],
        "colab": {
          "base_uri": "https://localhost:8080/"
        },
        "id": "aa834c4b",
        "outputId": "296347f9-c718-4ddd-ebea-b5fa839cf64f"
      },
      "outputs": [
        {
          "output_type": "execute_result",
          "data": {
            "text/plain": [
              "MinMaxScaler()"
            ]
          },
          "metadata": {},
          "execution_count": 49
        }
      ],
      "source": [
        "scaler.fit(X_train[\"compound\"].values.reshape(-1,1))\n",
        "# scaler.data_max_"
      ]
    },
    {
      "cell_type": "code",
      "execution_count": 50,
      "id": "499421b6",
      "metadata": {
        "execution": {
          "iopub.execute_input": "2022-01-21T14:49:23.170804Z",
          "iopub.status.busy": "2022-01-21T14:49:23.169935Z",
          "iopub.status.idle": "2022-01-21T14:49:23.182046Z",
          "shell.execute_reply": "2022-01-21T14:49:23.181411Z",
          "shell.execute_reply.started": "2022-01-21T14:33:24.532376Z"
        },
        "papermill": {
          "duration": 0.125726,
          "end_time": "2022-01-21T14:49:23.182220",
          "exception": false,
          "start_time": "2022-01-21T14:49:23.056494",
          "status": "completed"
        },
        "tags": [],
        "id": "499421b6"
      },
      "outputs": [],
      "source": [
        "X_train[\"compound\"] = scaler.transform(X_train[\"compound\"].values.reshape(-1,1))\n",
        "X_valid[\"compound\"] = scaler.transform(X_valid[\"compound\"].values.reshape(-1,1))\n",
        "X_test[\"compound\"] = scaler.transform(X_test[\"compound\"].values.reshape(-1,1))"
      ]
    },
    {
      "cell_type": "code",
      "execution_count": 51,
      "id": "fa6a0be7",
      "metadata": {
        "execution": {
          "iopub.execute_input": "2022-01-21T14:49:23.418810Z",
          "iopub.status.busy": "2022-01-21T14:49:23.417355Z",
          "iopub.status.idle": "2022-01-21T14:49:23.420823Z",
          "shell.execute_reply": "2022-01-21T14:49:23.421359Z",
          "shell.execute_reply.started": "2022-01-21T14:33:24.551151Z"
        },
        "papermill": {
          "duration": 0.122745,
          "end_time": "2022-01-21T14:49:23.421566",
          "exception": false,
          "start_time": "2022-01-21T14:49:23.298821",
          "status": "completed"
        },
        "tags": [],
        "id": "fa6a0be7"
      },
      "outputs": [],
      "source": [
        "def drop_columns(df):\n",
        "   return df.drop([\"keyword\", \"id\", \"ashtags\", \"location\", \"text_len\", \"keyword+\", \"text\"], axis=1, inplace=True)"
      ]
    },
    {
      "cell_type": "code",
      "execution_count": 52,
      "id": "9e6327a7",
      "metadata": {
        "execution": {
          "iopub.execute_input": "2022-01-21T14:49:23.717976Z",
          "iopub.status.busy": "2022-01-21T14:49:23.714623Z",
          "iopub.status.idle": "2022-01-21T14:49:23.769507Z",
          "shell.execute_reply": "2022-01-21T14:49:23.768743Z",
          "shell.execute_reply.started": "2022-01-21T14:33:24.560199Z"
        },
        "papermill": {
          "duration": 0.230487,
          "end_time": "2022-01-21T14:49:23.769691",
          "exception": false,
          "start_time": "2022-01-21T14:49:23.539204",
          "status": "completed"
        },
        "tags": [],
        "id": "9e6327a7"
      },
      "outputs": [],
      "source": [
        "#dropping non necessary features\n",
        "drop_columns(X_train)\n",
        "drop_columns(X_valid)\n",
        "drop_columns(X_test)"
      ]
    },
    {
      "cell_type": "code",
      "execution_count": 53,
      "id": "161606cd",
      "metadata": {
        "execution": {
          "iopub.execute_input": "2022-01-21T14:49:24.008687Z",
          "iopub.status.busy": "2022-01-21T14:49:24.007514Z",
          "iopub.status.idle": "2022-01-21T14:49:24.011431Z",
          "shell.execute_reply": "2022-01-21T14:49:24.012039Z",
          "shell.execute_reply.started": "2022-01-21T14:33:24.668626Z"
        },
        "papermill": {
          "duration": 0.128542,
          "end_time": "2022-01-21T14:49:24.012232",
          "exception": false,
          "start_time": "2022-01-21T14:49:23.883690",
          "status": "completed"
        },
        "tags": [],
        "colab": {
          "base_uri": "https://localhost:8080/"
        },
        "id": "161606cd",
        "outputId": "43448380-ea97-477b-8b4f-0ee27c7f588c"
      },
      "outputs": [
        {
          "output_type": "stream",
          "name": "stdout",
          "text": [
            "(5709, 2165) (5709,) (1904, 2165) (1904,) (3263, 2165)\n"
          ]
        }
      ],
      "source": [
        "print(X_train.shape,y_train.shape, X_valid.shape, y_valid.shape, X_test.shape)"
      ]
    },
    {
      "cell_type": "code",
      "execution_count": 54,
      "id": "8d52fa7c",
      "metadata": {
        "execution": {
          "iopub.execute_input": "2022-01-21T14:49:24.241479Z",
          "iopub.status.busy": "2022-01-21T14:49:24.240712Z",
          "iopub.status.idle": "2022-01-21T14:49:24.243398Z",
          "shell.execute_reply": "2022-01-21T14:49:24.242618Z",
          "shell.execute_reply.started": "2022-01-21T14:33:24.678077Z"
        },
        "papermill": {
          "duration": 0.118576,
          "end_time": "2022-01-21T14:49:24.243570",
          "exception": false,
          "start_time": "2022-01-21T14:49:24.124994",
          "status": "completed"
        },
        "tags": [],
        "id": "8d52fa7c"
      },
      "outputs": [],
      "source": [
        "#pca didn't give any improvement\n",
        "# pca = PCA(n_components=6, random_state=42)"
      ]
    },
    {
      "cell_type": "code",
      "execution_count": 55,
      "id": "ee83640b",
      "metadata": {
        "execution": {
          "iopub.execute_input": "2022-01-21T14:49:24.480578Z",
          "iopub.status.busy": "2022-01-21T14:49:24.479619Z",
          "iopub.status.idle": "2022-01-21T14:49:24.483695Z",
          "shell.execute_reply": "2022-01-21T14:49:24.483056Z",
          "shell.execute_reply.started": "2022-01-21T14:33:24.694864Z"
        },
        "papermill": {
          "duration": 0.122878,
          "end_time": "2022-01-21T14:49:24.483917",
          "exception": false,
          "start_time": "2022-01-21T14:49:24.361039",
          "status": "completed"
        },
        "tags": [],
        "id": "ee83640b"
      },
      "outputs": [],
      "source": [
        "\n",
        "# X_train_pca = pca.fit_transform(X_train)\n",
        "# X_valid_pca=pca.transform(X_valid)"
      ]
    },
    {
      "cell_type": "code",
      "execution_count": 56,
      "id": "fd246df4",
      "metadata": {
        "execution": {
          "iopub.execute_input": "2022-01-21T14:49:24.718353Z",
          "iopub.status.busy": "2022-01-21T14:49:24.717560Z",
          "iopub.status.idle": "2022-01-21T14:49:24.721187Z",
          "shell.execute_reply": "2022-01-21T14:49:24.720420Z",
          "shell.execute_reply.started": "2022-01-21T14:33:24.708687Z"
        },
        "papermill": {
          "duration": 0.123363,
          "end_time": "2022-01-21T14:49:24.721365",
          "exception": false,
          "start_time": "2022-01-21T14:49:24.598002",
          "status": "completed"
        },
        "tags": [],
        "id": "fd246df4"
      },
      "outputs": [],
      "source": [
        "# pca.explained_variance_\n",
        "#only first 6 explain variance"
      ]
    },
    {
      "cell_type": "code",
      "execution_count": 57,
      "id": "fa8d8d14",
      "metadata": {
        "execution": {
          "iopub.execute_input": "2022-01-21T14:49:24.956114Z",
          "iopub.status.busy": "2022-01-21T14:49:24.955280Z",
          "iopub.status.idle": "2022-01-21T14:49:24.959786Z",
          "shell.execute_reply": "2022-01-21T14:49:24.958999Z",
          "shell.execute_reply.started": "2022-01-21T14:33:24.724212Z"
        },
        "papermill": {
          "duration": 0.123865,
          "end_time": "2022-01-21T14:49:24.960018",
          "exception": false,
          "start_time": "2022-01-21T14:49:24.836153",
          "status": "completed"
        },
        "tags": [],
        "id": "fa8d8d14"
      },
      "outputs": [],
      "source": [
        "# print(X_train_pca.shape,y_train.shape, X_valid_pca.shape, y_valid.shape)"
      ]
    },
    {
      "cell_type": "markdown",
      "id": "93ab873b",
      "metadata": {
        "papermill": {
          "duration": 0.11583,
          "end_time": "2022-01-21T14:49:25.194151",
          "exception": false,
          "start_time": "2022-01-21T14:49:25.078321",
          "status": "completed"
        },
        "tags": [],
        "id": "93ab873b"
      },
      "source": [
        "# Model Evaluation"
      ]
    },
    {
      "cell_type": "code",
      "execution_count": 58,
      "id": "341bd581",
      "metadata": {
        "execution": {
          "iopub.execute_input": "2022-01-21T14:49:25.455757Z",
          "iopub.status.busy": "2022-01-21T14:49:25.449696Z",
          "iopub.status.idle": "2022-01-21T14:49:27.406338Z",
          "shell.execute_reply": "2022-01-21T14:49:27.407810Z",
          "shell.execute_reply.started": "2022-01-21T14:33:24.741391Z"
        },
        "papermill": {
          "duration": 2.09905,
          "end_time": "2022-01-21T14:49:27.408315",
          "exception": false,
          "start_time": "2022-01-21T14:49:25.309265",
          "status": "completed"
        },
        "tags": [],
        "id": "341bd581"
      },
      "outputs": [],
      "source": [
        "from sklearn.linear_model import LogisticRegression\n",
        "\n",
        "clf = LogisticRegression(C=1,random_state=42).fit(X_train, y_train)"
      ]
    },
    {
      "cell_type": "code",
      "execution_count": 59,
      "id": "68898943",
      "metadata": {
        "execution": {
          "iopub.execute_input": "2022-01-21T14:49:27.697860Z",
          "iopub.status.busy": "2022-01-21T14:49:27.697126Z",
          "iopub.status.idle": "2022-01-21T14:49:27.749116Z",
          "shell.execute_reply": "2022-01-21T14:49:27.750130Z",
          "shell.execute_reply.started": "2022-01-21T14:33:26.136106Z"
        },
        "papermill": {
          "duration": 0.173748,
          "end_time": "2022-01-21T14:49:27.750510",
          "exception": false,
          "start_time": "2022-01-21T14:49:27.576762",
          "status": "completed"
        },
        "tags": [],
        "id": "68898943"
      },
      "outputs": [],
      "source": [
        "prediction = clf.predict(X_valid)"
      ]
    },
    {
      "cell_type": "code",
      "execution_count": 60,
      "id": "3779c005",
      "metadata": {
        "execution": {
          "iopub.execute_input": "2022-01-21T14:49:28.043689Z",
          "iopub.status.busy": "2022-01-21T14:49:28.042928Z",
          "iopub.status.idle": "2022-01-21T14:49:28.064717Z",
          "shell.execute_reply": "2022-01-21T14:49:28.065457Z",
          "shell.execute_reply.started": "2022-01-21T14:33:26.23871Z"
        },
        "papermill": {
          "duration": 0.142829,
          "end_time": "2022-01-21T14:49:28.065665",
          "exception": false,
          "start_time": "2022-01-21T14:49:27.922836",
          "status": "completed"
        },
        "tags": [],
        "colab": {
          "base_uri": "https://localhost:8080/"
        },
        "id": "3779c005",
        "outputId": "f9b46e6c-774c-48b2-ff94-4ecbc1ecc245"
      },
      "outputs": [
        {
          "output_type": "stream",
          "name": "stdout",
          "text": [
            "[[952 139]\n",
            " [221 592]]\n",
            "0.8109243697478992\n",
            "              precision    recall  f1-score   support\n",
            "\n",
            "           0       0.81      0.87      0.84      1091\n",
            "           1       0.81      0.73      0.77       813\n",
            "\n",
            "    accuracy                           0.81      1904\n",
            "   macro avg       0.81      0.80      0.80      1904\n",
            "weighted avg       0.81      0.81      0.81      1904\n",
            "\n",
            "0.766839378238342\n"
          ]
        }
      ],
      "source": [
        "from sklearn.metrics import accuracy_score, confusion_matrix, classification_report, f1_score\n",
        "\n",
        "print(confusion_matrix(y_valid, prediction))\n",
        "print(accuracy_score(y_valid, prediction))\n",
        "print(classification_report(y_valid, prediction))\n",
        "print(f1_score(y_valid, prediction))\n"
      ]
    },
    {
      "cell_type": "code",
      "execution_count": 61,
      "id": "36109fb7",
      "metadata": {
        "execution": {
          "iopub.execute_input": "2022-01-21T14:49:28.299761Z",
          "iopub.status.busy": "2022-01-21T14:49:28.297318Z",
          "iopub.status.idle": "2022-01-21T14:49:28.427176Z",
          "shell.execute_reply": "2022-01-21T14:49:28.427774Z",
          "shell.execute_reply.started": "2022-01-21T14:33:26.279695Z"
        },
        "papermill": {
          "duration": 0.247693,
          "end_time": "2022-01-21T14:49:28.428070",
          "exception": false,
          "start_time": "2022-01-21T14:49:28.180377",
          "status": "completed"
        },
        "tags": [],
        "id": "36109fb7"
      },
      "outputs": [],
      "source": [
        "from sklearn.ensemble import RandomForestClassifier\n",
        "rfc = RandomForestClassifier(n_estimators=100, random_state=42)\n"
      ]
    },
    {
      "cell_type": "code",
      "execution_count": 62,
      "id": "2a70b340",
      "metadata": {
        "execution": {
          "iopub.execute_input": "2022-01-21T14:49:28.668075Z",
          "iopub.status.busy": "2022-01-21T14:49:28.667245Z",
          "iopub.status.idle": "2022-01-21T14:49:43.117047Z",
          "shell.execute_reply": "2022-01-21T14:49:43.116317Z",
          "shell.execute_reply.started": "2022-01-21T14:33:26.411329Z"
        },
        "papermill": {
          "duration": 14.572242,
          "end_time": "2022-01-21T14:49:43.117213",
          "exception": false,
          "start_time": "2022-01-21T14:49:28.544971",
          "status": "completed"
        },
        "tags": [],
        "colab": {
          "base_uri": "https://localhost:8080/"
        },
        "id": "2a70b340",
        "outputId": "3d69ae04-edae-4f49-e496-483f215e0218"
      },
      "outputs": [
        {
          "output_type": "execute_result",
          "data": {
            "text/plain": [
              "RandomForestClassifier(random_state=42)"
            ]
          },
          "metadata": {},
          "execution_count": 62
        }
      ],
      "source": [
        "rfc.fit(X_train,y_train)"
      ]
    },
    {
      "cell_type": "code",
      "execution_count": 63,
      "id": "2e7173cd",
      "metadata": {
        "execution": {
          "iopub.execute_input": "2022-01-21T14:49:43.347553Z",
          "iopub.status.busy": "2022-01-21T14:49:43.346665Z",
          "iopub.status.idle": "2022-01-21T14:49:43.599316Z",
          "shell.execute_reply": "2022-01-21T14:49:43.599953Z",
          "shell.execute_reply.started": "2022-01-21T14:33:38.241214Z"
        },
        "papermill": {
          "duration": 0.37103,
          "end_time": "2022-01-21T14:49:43.600193",
          "exception": false,
          "start_time": "2022-01-21T14:49:43.229163",
          "status": "completed"
        },
        "tags": [],
        "id": "2e7173cd"
      },
      "outputs": [],
      "source": [
        "prediction = rfc.predict(X_valid)"
      ]
    },
    {
      "cell_type": "code",
      "execution_count": 64,
      "id": "e77f4544",
      "metadata": {
        "execution": {
          "iopub.execute_input": "2022-01-21T14:49:43.833664Z",
          "iopub.status.busy": "2022-01-21T14:49:43.832926Z",
          "iopub.status.idle": "2022-01-21T14:49:43.853674Z",
          "shell.execute_reply": "2022-01-21T14:49:43.854575Z",
          "shell.execute_reply.started": "2022-01-21T14:33:38.496951Z"
        },
        "papermill": {
          "duration": 0.140757,
          "end_time": "2022-01-21T14:49:43.854862",
          "exception": false,
          "start_time": "2022-01-21T14:49:43.714105",
          "status": "completed"
        },
        "tags": [],
        "colab": {
          "base_uri": "https://localhost:8080/"
        },
        "id": "e77f4544",
        "outputId": "556c2eae-01ce-463c-8e72-6fd4d7254f1a"
      },
      "outputs": [
        {
          "output_type": "stream",
          "name": "stdout",
          "text": [
            "[[968 123]\n",
            " [267 546]]\n",
            "0.7951680672268907\n",
            "              precision    recall  f1-score   support\n",
            "\n",
            "           0       0.78      0.89      0.83      1091\n",
            "           1       0.82      0.67      0.74       813\n",
            "\n",
            "    accuracy                           0.80      1904\n",
            "   macro avg       0.80      0.78      0.78      1904\n",
            "weighted avg       0.80      0.80      0.79      1904\n",
            "\n",
            "0.7368421052631579\n"
          ]
        }
      ],
      "source": [
        "print(confusion_matrix(y_valid, prediction))\n",
        "print(accuracy_score(y_valid, prediction))\n",
        "print(classification_report(y_valid, prediction))\n",
        "print(f1_score(y_valid, prediction))"
      ]
    },
    {
      "cell_type": "code",
      "execution_count": 65,
      "id": "5e24fc58",
      "metadata": {
        "execution": {
          "iopub.execute_input": "2022-01-21T14:49:44.095819Z",
          "iopub.status.busy": "2022-01-21T14:49:44.094978Z",
          "iopub.status.idle": "2022-01-21T14:49:44.098925Z",
          "shell.execute_reply": "2022-01-21T14:49:44.098189Z",
          "shell.execute_reply.started": "2022-01-21T14:33:38.52264Z"
        },
        "papermill": {
          "duration": 0.126441,
          "end_time": "2022-01-21T14:49:44.099105",
          "exception": false,
          "start_time": "2022-01-21T14:49:43.972664",
          "status": "completed"
        },
        "tags": [],
        "id": "5e24fc58"
      },
      "outputs": [],
      "source": [
        "from sklearn.svm import SVC\n",
        "svm=SVC()"
      ]
    },
    {
      "cell_type": "code",
      "execution_count": 66,
      "id": "cc653bf1",
      "metadata": {
        "execution": {
          "iopub.execute_input": "2022-01-21T14:49:44.354578Z",
          "iopub.status.busy": "2022-01-21T14:49:44.343184Z",
          "iopub.status.idle": "2022-01-21T14:51:21.467657Z",
          "shell.execute_reply": "2022-01-21T14:51:21.468594Z",
          "shell.execute_reply.started": "2022-01-21T14:33:38.528401Z"
        },
        "papermill": {
          "duration": 97.253973,
          "end_time": "2022-01-21T14:51:21.468987",
          "exception": false,
          "start_time": "2022-01-21T14:49:44.215014",
          "status": "completed"
        },
        "tags": [],
        "colab": {
          "base_uri": "https://localhost:8080/"
        },
        "id": "cc653bf1",
        "outputId": "2ff94870-587c-401f-cdfb-60d040ca1663"
      },
      "outputs": [
        {
          "output_type": "execute_result",
          "data": {
            "text/plain": [
              "SVC()"
            ]
          },
          "metadata": {},
          "execution_count": 66
        }
      ],
      "source": [
        "svm.fit(X_train,y_train)"
      ]
    },
    {
      "cell_type": "code",
      "execution_count": 67,
      "id": "7eeb8cff",
      "metadata": {
        "execution": {
          "iopub.execute_input": "2022-01-21T14:51:21.709674Z",
          "iopub.status.busy": "2022-01-21T14:51:21.708920Z",
          "iopub.status.idle": "2022-01-21T14:51:52.478630Z",
          "shell.execute_reply": "2022-01-21T14:51:52.477899Z",
          "shell.execute_reply.started": "2022-01-21T14:35:04.208625Z"
        },
        "papermill": {
          "duration": 30.892812,
          "end_time": "2022-01-21T14:51:52.478839",
          "exception": false,
          "start_time": "2022-01-21T14:51:21.586027",
          "status": "completed"
        },
        "tags": [],
        "id": "7eeb8cff"
      },
      "outputs": [],
      "source": [
        "prediction = svm.predict(X_valid)"
      ]
    },
    {
      "cell_type": "code",
      "execution_count": 68,
      "id": "0709f08d",
      "metadata": {
        "execution": {
          "iopub.execute_input": "2022-01-21T14:51:52.710716Z",
          "iopub.status.busy": "2022-01-21T14:51:52.709864Z",
          "iopub.status.idle": "2022-01-21T14:51:52.731565Z",
          "shell.execute_reply": "2022-01-21T14:51:52.732413Z",
          "shell.execute_reply.started": "2022-01-21T14:35:31.846676Z"
        },
        "papermill": {
          "duration": 0.140323,
          "end_time": "2022-01-21T14:51:52.732648",
          "exception": false,
          "start_time": "2022-01-21T14:51:52.592325",
          "status": "completed"
        },
        "tags": [],
        "colab": {
          "base_uri": "https://localhost:8080/"
        },
        "id": "0709f08d",
        "outputId": "ce28e697-a653-485f-8c64-e9af8df60c45"
      },
      "outputs": [
        {
          "output_type": "stream",
          "name": "stdout",
          "text": [
            "[[969 122]\n",
            " [263 550]]\n",
            "0.7977941176470589\n",
            "              precision    recall  f1-score   support\n",
            "\n",
            "           0       0.79      0.89      0.83      1091\n",
            "           1       0.82      0.68      0.74       813\n",
            "\n",
            "    accuracy                           0.80      1904\n",
            "   macro avg       0.80      0.78      0.79      1904\n",
            "weighted avg       0.80      0.80      0.79      1904\n",
            "\n",
            "0.7407407407407407\n"
          ]
        }
      ],
      "source": [
        "print(confusion_matrix(y_valid, prediction))\n",
        "print(accuracy_score(y_valid, prediction))\n",
        "print(classification_report(y_valid, prediction))\n",
        "print(f1_score(y_valid, prediction))"
      ]
    },
    {
      "cell_type": "code",
      "execution_count": 69,
      "id": "46325ea6",
      "metadata": {
        "execution": {
          "iopub.execute_input": "2022-01-21T14:51:52.968430Z",
          "iopub.status.busy": "2022-01-21T14:51:52.967641Z",
          "iopub.status.idle": "2022-01-21T14:51:52.975150Z",
          "shell.execute_reply": "2022-01-21T14:51:52.975794Z",
          "shell.execute_reply.started": "2022-01-21T14:35:31.871904Z"
        },
        "papermill": {
          "duration": 0.126329,
          "end_time": "2022-01-21T14:51:52.976068",
          "exception": false,
          "start_time": "2022-01-21T14:51:52.849739",
          "status": "completed"
        },
        "tags": [],
        "id": "46325ea6"
      },
      "outputs": [],
      "source": [
        "from sklearn.naive_bayes import MultinomialNB\n",
        "nb = MultinomialNB()"
      ]
    },
    {
      "cell_type": "code",
      "execution_count": 70,
      "id": "d274a745",
      "metadata": {
        "execution": {
          "iopub.execute_input": "2022-01-21T14:51:53.221732Z",
          "iopub.status.busy": "2022-01-21T14:51:53.220918Z",
          "iopub.status.idle": "2022-01-21T14:51:53.319542Z",
          "shell.execute_reply": "2022-01-21T14:51:53.318458Z",
          "shell.execute_reply.started": "2022-01-21T14:35:31.884921Z"
        },
        "papermill": {
          "duration": 0.22875,
          "end_time": "2022-01-21T14:51:53.319824",
          "exception": false,
          "start_time": "2022-01-21T14:51:53.091074",
          "status": "completed"
        },
        "tags": [],
        "colab": {
          "base_uri": "https://localhost:8080/"
        },
        "id": "d274a745",
        "outputId": "960a0076-14d4-40c2-9661-e10fb3e8910c"
      },
      "outputs": [
        {
          "output_type": "execute_result",
          "data": {
            "text/plain": [
              "MultinomialNB()"
            ]
          },
          "metadata": {},
          "execution_count": 70
        }
      ],
      "source": [
        "nb.fit(X_train,y_train)"
      ]
    },
    {
      "cell_type": "code",
      "execution_count": 71,
      "id": "eb62c5bb",
      "metadata": {
        "execution": {
          "iopub.execute_input": "2022-01-21T14:51:53.630830Z",
          "iopub.status.busy": "2022-01-21T14:51:53.630160Z",
          "iopub.status.idle": "2022-01-21T14:51:53.702713Z",
          "shell.execute_reply": "2022-01-21T14:51:53.703832Z",
          "shell.execute_reply.started": "2022-01-21T14:35:31.998741Z"
        },
        "papermill": {
          "duration": 0.216647,
          "end_time": "2022-01-21T14:51:53.704202",
          "exception": false,
          "start_time": "2022-01-21T14:51:53.487555",
          "status": "completed"
        },
        "tags": [],
        "colab": {
          "base_uri": "https://localhost:8080/"
        },
        "id": "eb62c5bb",
        "outputId": "c762149a-c665-40f6-fa6b-3c026e91a7b1"
      },
      "outputs": [
        {
          "output_type": "stream",
          "name": "stdout",
          "text": [
            "[[921 170]\n",
            " [229 584]]\n",
            "0.7904411764705882\n",
            "              precision    recall  f1-score   support\n",
            "\n",
            "           0       0.80      0.84      0.82      1091\n",
            "           1       0.77      0.72      0.75       813\n",
            "\n",
            "    accuracy                           0.79      1904\n",
            "   macro avg       0.79      0.78      0.78      1904\n",
            "weighted avg       0.79      0.79      0.79      1904\n",
            "\n",
            "0.7453733248245054\n"
          ]
        }
      ],
      "source": [
        "prediction = nb.predict(X_valid)\n",
        "\n",
        "print(confusion_matrix(y_valid, prediction))\n",
        "print(accuracy_score(y_valid, prediction))\n",
        "print(classification_report(y_valid, prediction))\n",
        "print(f1_score(y_valid, prediction))"
      ]
    },
    {
      "cell_type": "markdown",
      "id": "17101509",
      "metadata": {
        "papermill": {
          "duration": 0.113648,
          "end_time": "2022-01-21T14:51:53.976758",
          "exception": false,
          "start_time": "2022-01-21T14:51:53.863110",
          "status": "completed"
        },
        "tags": [],
        "id": "17101509"
      },
      "source": [
        "Random Forest performed slightly better than the onthers classifiers. We will fine tune this model:"
      ]
    },
    {
      "cell_type": "code",
      "execution_count": 72,
      "id": "8ad78b1e",
      "metadata": {
        "execution": {
          "iopub.execute_input": "2022-01-21T14:51:54.218257Z",
          "iopub.status.busy": "2022-01-21T14:51:54.217394Z",
          "iopub.status.idle": "2022-01-21T14:51:54.219401Z",
          "shell.execute_reply": "2022-01-21T14:51:54.219918Z",
          "shell.execute_reply.started": "2022-01-21T14:35:32.100207Z"
        },
        "papermill": {
          "duration": 0.12522,
          "end_time": "2022-01-21T14:51:54.220138",
          "exception": false,
          "start_time": "2022-01-21T14:51:54.094918",
          "status": "completed"
        },
        "tags": [],
        "id": "8ad78b1e"
      },
      "outputs": [],
      "source": [
        "from sklearn.model_selection import GridSearchCV, cross_validate, KFold\n",
        "from sklearn.metrics import make_scorer, accuracy_score, precision_score, recall_score, f1_score"
      ]
    },
    {
      "cell_type": "code",
      "execution_count": 73,
      "id": "964707f2",
      "metadata": {
        "execution": {
          "iopub.execute_input": "2022-01-21T14:51:54.457746Z",
          "iopub.status.busy": "2022-01-21T14:51:54.456915Z",
          "iopub.status.idle": "2022-01-21T14:52:10.697572Z",
          "shell.execute_reply": "2022-01-21T14:52:10.698850Z",
          "shell.execute_reply.started": "2022-01-21T14:35:32.111726Z"
        },
        "papermill": {
          "duration": 16.360843,
          "end_time": "2022-01-21T14:52:10.699264",
          "exception": false,
          "start_time": "2022-01-21T14:51:54.338421",
          "status": "completed"
        },
        "tags": [],
        "colab": {
          "base_uri": "https://localhost:8080/"
        },
        "id": "964707f2",
        "outputId": "53718b62-94ab-4591-e30b-4dd0cd7d92dc"
      },
      "outputs": [
        {
          "output_type": "stream",
          "name": "stdout",
          "text": [
            "Accuracy: 78.95 %\n",
            "Standard Deviation: 1.57 %\n",
            "F1_score: 74.06 %\n",
            "Precision: 78.86 %\n",
            "Recall: 69.82 %\n"
          ]
        }
      ],
      "source": [
        "scoring = {'accuracy' : make_scorer(accuracy_score), \n",
        "           'precision' : make_scorer(precision_score),\n",
        "           'recall' : make_scorer(recall_score), \n",
        "           'f1_score' : make_scorer(f1_score)}\n",
        "\n",
        "kfold = KFold(n_splits=10)\n",
        "\n",
        "results = cross_validate(estimator=clf,\n",
        "                            X=X_train,\n",
        "                            y=y_train,\n",
        "                            cv=kfold,\n",
        "                            scoring=scoring)\n",
        "\n",
        "\n",
        "print(\"Accuracy: {:.2f} %\".format(results[\"test_accuracy\"].mean()*100))\n",
        "print(\"Standard Deviation: {:.2f} %\".format(results[\"test_accuracy\"].std()*100))\n",
        "print(\"F1_score: {:.2f} %\".format(results[\"test_f1_score\"].mean()*100))\n",
        "print(\"Precision: {:.2f} %\".format(results[\"test_precision\"].mean()*100))\n",
        "print(\"Recall: {:.2f} %\".format(results[\"test_recall\"].mean()*100))\n"
      ]
    },
    {
      "cell_type": "code",
      "execution_count": 74,
      "id": "f9557db5",
      "metadata": {
        "execution": {
          "iopub.execute_input": "2022-01-21T14:52:10.988328Z",
          "iopub.status.busy": "2022-01-21T14:52:10.987457Z",
          "iopub.status.idle": "2022-01-21T14:52:36.080721Z",
          "shell.execute_reply": "2022-01-21T14:52:36.082310Z",
          "shell.execute_reply.started": "2022-01-21T14:35:44.461452Z"
        },
        "papermill": {
          "duration": 25.218129,
          "end_time": "2022-01-21T14:52:36.082628",
          "exception": false,
          "start_time": "2022-01-21T14:52:10.864499",
          "status": "completed"
        },
        "tags": [],
        "colab": {
          "base_uri": "https://localhost:8080/"
        },
        "id": "f9557db5",
        "outputId": "b2032f43-5e2d-4a50-92b0-1e19c3ff0e20"
      },
      "outputs": [
        {
          "output_type": "stream",
          "name": "stdout",
          "text": [
            "Fitting 5 folds for each of 7 candidates, totalling 35 fits\n",
            "Best f1: 73.59 %\n",
            "Best Parameters: {'C': 1}\n"
          ]
        }
      ],
      "source": [
        "parameters = [{'C': [0.001, 0.01, 0.1, 1, 10, 100, 1000] }]\n",
        "grid_search = GridSearchCV(estimator = clf,\n",
        "                           param_grid = parameters,\n",
        "                           scoring = 'f1',\n",
        "                           cv = 5,\n",
        "                           n_jobs = -1,\n",
        "                           verbose=2)\n",
        "grid_search.fit(X_train, y_train)\n",
        "best_accuracy = grid_search.best_score_\n",
        "best_parameters = grid_search.best_params_\n",
        "print(\"Best f1: {:.2f} %\".format(best_accuracy*100))\n",
        "print(\"Best Parameters:\", best_parameters)"
      ]
    },
    {
      "cell_type": "code",
      "execution_count": 75,
      "id": "0462b2d1",
      "metadata": {
        "execution": {
          "iopub.execute_input": "2022-01-21T14:52:36.378064Z",
          "iopub.status.busy": "2022-01-21T14:52:36.377382Z",
          "iopub.status.idle": "2022-01-21T14:52:36.414549Z",
          "shell.execute_reply": "2022-01-21T14:52:36.415451Z",
          "shell.execute_reply.started": "2022-01-21T14:36:08.926674Z"
        },
        "papermill": {
          "duration": 0.169107,
          "end_time": "2022-01-21T14:52:36.415734",
          "exception": false,
          "start_time": "2022-01-21T14:52:36.246627",
          "status": "completed"
        },
        "tags": [],
        "id": "0462b2d1"
      },
      "outputs": [],
      "source": [
        "test_prediction = clf.predict(X_test)"
      ]
    },
    {
      "cell_type": "code",
      "execution_count": 76,
      "id": "6a82afa1",
      "metadata": {
        "execution": {
          "iopub.execute_input": "2022-01-21T14:52:36.695221Z",
          "iopub.status.busy": "2022-01-21T14:52:36.694392Z",
          "iopub.status.idle": "2022-01-21T14:52:36.697592Z",
          "shell.execute_reply": "2022-01-21T14:52:36.698116Z",
          "shell.execute_reply.started": "2022-01-21T14:36:09.015308Z"
        },
        "papermill": {
          "duration": 0.118914,
          "end_time": "2022-01-21T14:52:36.698295",
          "exception": false,
          "start_time": "2022-01-21T14:52:36.579381",
          "status": "completed"
        },
        "tags": [],
        "colab": {
          "base_uri": "https://localhost:8080/"
        },
        "id": "6a82afa1",
        "outputId": "93b3ca32-9a5c-4a19-9d4c-8a9e1a063b1a"
      },
      "outputs": [
        {
          "output_type": "execute_result",
          "data": {
            "text/plain": [
              "array([1, 1, 1, ..., 1, 1, 0])"
            ]
          },
          "metadata": {},
          "execution_count": 76
        }
      ],
      "source": [
        "test_prediction"
      ]
    }
  ],
  "metadata": {
    "kernelspec": {
      "display_name": "Python 3",
      "language": "python",
      "name": "python3"
    },
    "language_info": {
      "codemirror_mode": {
        "name": "ipython",
        "version": 3
      },
      "file_extension": ".py",
      "mimetype": "text/x-python",
      "name": "python",
      "nbconvert_exporter": "python",
      "pygments_lexer": "ipython3",
      "version": "3.7.12"
    },
    "papermill": {
      "default_parameters": {},
      "duration": 349.449524,
      "end_time": "2022-01-21T14:52:40.847380",
      "environment_variables": {},
      "exception": null,
      "input_path": "__notebook__.ipynb",
      "output_path": "__notebook__.ipynb",
      "parameters": {},
      "start_time": "2022-01-21T14:46:51.397856",
      "version": "2.3.3"
    },
    "widgets": {
      "application/vnd.jupyter.widget-state+json": {
        "643ce065c493412c9dc08706c853d520": {
          "model_module": "@jupyter-widgets/controls",
          "model_name": "HBoxModel",
          "model_module_version": "1.5.0",
          "state": {
            "_view_name": "HBoxView",
            "_dom_classes": [],
            "_model_name": "HBoxModel",
            "_view_module": "@jupyter-widgets/controls",
            "_model_module_version": "1.5.0",
            "_view_count": null,
            "_view_module_version": "1.5.0",
            "box_style": "",
            "layout": "IPY_MODEL_1ff2594ef54145e5a4af26bdefd34f77",
            "_model_module": "@jupyter-widgets/controls",
            "children": [
              "IPY_MODEL_303b1a076eb24c9ab6b2109964b8562e",
              "IPY_MODEL_1807cc0518054b9e8d669f45ac1a55a9",
              "IPY_MODEL_6244b1fb5f9743dfb7ea97acbea8c2bd"
            ]
          }
        },
        "1ff2594ef54145e5a4af26bdefd34f77": {
          "model_module": "@jupyter-widgets/base",
          "model_name": "LayoutModel",
          "model_module_version": "1.2.0",
          "state": {
            "_view_name": "LayoutView",
            "grid_template_rows": null,
            "right": null,
            "justify_content": null,
            "_view_module": "@jupyter-widgets/base",
            "overflow": null,
            "_model_module_version": "1.2.0",
            "_view_count": null,
            "flex_flow": null,
            "width": null,
            "min_width": null,
            "border": null,
            "align_items": null,
            "bottom": null,
            "_model_module": "@jupyter-widgets/base",
            "top": null,
            "grid_column": null,
            "overflow_y": null,
            "overflow_x": null,
            "grid_auto_flow": null,
            "grid_area": null,
            "grid_template_columns": null,
            "flex": null,
            "_model_name": "LayoutModel",
            "justify_items": null,
            "grid_row": null,
            "max_height": null,
            "align_content": null,
            "visibility": null,
            "align_self": null,
            "height": null,
            "min_height": null,
            "padding": null,
            "grid_auto_rows": null,
            "grid_gap": null,
            "max_width": null,
            "order": null,
            "_view_module_version": "1.2.0",
            "grid_template_areas": null,
            "object_position": null,
            "object_fit": null,
            "grid_auto_columns": null,
            "margin": null,
            "display": null,
            "left": null
          }
        },
        "303b1a076eb24c9ab6b2109964b8562e": {
          "model_module": "@jupyter-widgets/controls",
          "model_name": "HTMLModel",
          "model_module_version": "1.5.0",
          "state": {
            "_view_name": "HTMLView",
            "style": "IPY_MODEL_92ebdc326d2f472d85045dedbd165d4d",
            "_dom_classes": [],
            "description": "",
            "_model_name": "HTMLModel",
            "placeholder": "​",
            "_view_module": "@jupyter-widgets/controls",
            "_model_module_version": "1.5.0",
            "value": "Downloading: 100%",
            "_view_count": null,
            "_view_module_version": "1.5.0",
            "description_tooltip": null,
            "_model_module": "@jupyter-widgets/controls",
            "layout": "IPY_MODEL_69aeb51f7d5749ce88298be0faa5699e"
          }
        },
        "1807cc0518054b9e8d669f45ac1a55a9": {
          "model_module": "@jupyter-widgets/controls",
          "model_name": "FloatProgressModel",
          "model_module_version": "1.5.0",
          "state": {
            "_view_name": "ProgressView",
            "style": "IPY_MODEL_965b70dbfdca418082c6f56db1a4d498",
            "_dom_classes": [],
            "description": "",
            "_model_name": "FloatProgressModel",
            "bar_style": "success",
            "max": 1175,
            "_view_module": "@jupyter-widgets/controls",
            "_model_module_version": "1.5.0",
            "value": 1175,
            "_view_count": null,
            "_view_module_version": "1.5.0",
            "orientation": "horizontal",
            "min": 0,
            "description_tooltip": null,
            "_model_module": "@jupyter-widgets/controls",
            "layout": "IPY_MODEL_3b5f033fa456418987d7691527cd90cb"
          }
        },
        "6244b1fb5f9743dfb7ea97acbea8c2bd": {
          "model_module": "@jupyter-widgets/controls",
          "model_name": "HTMLModel",
          "model_module_version": "1.5.0",
          "state": {
            "_view_name": "HTMLView",
            "style": "IPY_MODEL_6553f30e6a9f42f68b90af655072f6fb",
            "_dom_classes": [],
            "description": "",
            "_model_name": "HTMLModel",
            "placeholder": "​",
            "_view_module": "@jupyter-widgets/controls",
            "_model_module_version": "1.5.0",
            "value": " 1.18k/1.18k [00:00&lt;00:00, 27.7kB/s]",
            "_view_count": null,
            "_view_module_version": "1.5.0",
            "description_tooltip": null,
            "_model_module": "@jupyter-widgets/controls",
            "layout": "IPY_MODEL_fd01572b0dab4c3fa5768690fd1af531"
          }
        },
        "92ebdc326d2f472d85045dedbd165d4d": {
          "model_module": "@jupyter-widgets/controls",
          "model_name": "DescriptionStyleModel",
          "model_module_version": "1.5.0",
          "state": {
            "_view_name": "StyleView",
            "_model_name": "DescriptionStyleModel",
            "description_width": "",
            "_view_module": "@jupyter-widgets/base",
            "_model_module_version": "1.5.0",
            "_view_count": null,
            "_view_module_version": "1.2.0",
            "_model_module": "@jupyter-widgets/controls"
          }
        },
        "69aeb51f7d5749ce88298be0faa5699e": {
          "model_module": "@jupyter-widgets/base",
          "model_name": "LayoutModel",
          "model_module_version": "1.2.0",
          "state": {
            "_view_name": "LayoutView",
            "grid_template_rows": null,
            "right": null,
            "justify_content": null,
            "_view_module": "@jupyter-widgets/base",
            "overflow": null,
            "_model_module_version": "1.2.0",
            "_view_count": null,
            "flex_flow": null,
            "width": null,
            "min_width": null,
            "border": null,
            "align_items": null,
            "bottom": null,
            "_model_module": "@jupyter-widgets/base",
            "top": null,
            "grid_column": null,
            "overflow_y": null,
            "overflow_x": null,
            "grid_auto_flow": null,
            "grid_area": null,
            "grid_template_columns": null,
            "flex": null,
            "_model_name": "LayoutModel",
            "justify_items": null,
            "grid_row": null,
            "max_height": null,
            "align_content": null,
            "visibility": null,
            "align_self": null,
            "height": null,
            "min_height": null,
            "padding": null,
            "grid_auto_rows": null,
            "grid_gap": null,
            "max_width": null,
            "order": null,
            "_view_module_version": "1.2.0",
            "grid_template_areas": null,
            "object_position": null,
            "object_fit": null,
            "grid_auto_columns": null,
            "margin": null,
            "display": null,
            "left": null
          }
        },
        "965b70dbfdca418082c6f56db1a4d498": {
          "model_module": "@jupyter-widgets/controls",
          "model_name": "ProgressStyleModel",
          "model_module_version": "1.5.0",
          "state": {
            "_view_name": "StyleView",
            "_model_name": "ProgressStyleModel",
            "description_width": "",
            "_view_module": "@jupyter-widgets/base",
            "_model_module_version": "1.5.0",
            "_view_count": null,
            "_view_module_version": "1.2.0",
            "bar_color": null,
            "_model_module": "@jupyter-widgets/controls"
          }
        },
        "3b5f033fa456418987d7691527cd90cb": {
          "model_module": "@jupyter-widgets/base",
          "model_name": "LayoutModel",
          "model_module_version": "1.2.0",
          "state": {
            "_view_name": "LayoutView",
            "grid_template_rows": null,
            "right": null,
            "justify_content": null,
            "_view_module": "@jupyter-widgets/base",
            "overflow": null,
            "_model_module_version": "1.2.0",
            "_view_count": null,
            "flex_flow": null,
            "width": null,
            "min_width": null,
            "border": null,
            "align_items": null,
            "bottom": null,
            "_model_module": "@jupyter-widgets/base",
            "top": null,
            "grid_column": null,
            "overflow_y": null,
            "overflow_x": null,
            "grid_auto_flow": null,
            "grid_area": null,
            "grid_template_columns": null,
            "flex": null,
            "_model_name": "LayoutModel",
            "justify_items": null,
            "grid_row": null,
            "max_height": null,
            "align_content": null,
            "visibility": null,
            "align_self": null,
            "height": null,
            "min_height": null,
            "padding": null,
            "grid_auto_rows": null,
            "grid_gap": null,
            "max_width": null,
            "order": null,
            "_view_module_version": "1.2.0",
            "grid_template_areas": null,
            "object_position": null,
            "object_fit": null,
            "grid_auto_columns": null,
            "margin": null,
            "display": null,
            "left": null
          }
        },
        "6553f30e6a9f42f68b90af655072f6fb": {
          "model_module": "@jupyter-widgets/controls",
          "model_name": "DescriptionStyleModel",
          "model_module_version": "1.5.0",
          "state": {
            "_view_name": "StyleView",
            "_model_name": "DescriptionStyleModel",
            "description_width": "",
            "_view_module": "@jupyter-widgets/base",
            "_model_module_version": "1.5.0",
            "_view_count": null,
            "_view_module_version": "1.2.0",
            "_model_module": "@jupyter-widgets/controls"
          }
        },
        "fd01572b0dab4c3fa5768690fd1af531": {
          "model_module": "@jupyter-widgets/base",
          "model_name": "LayoutModel",
          "model_module_version": "1.2.0",
          "state": {
            "_view_name": "LayoutView",
            "grid_template_rows": null,
            "right": null,
            "justify_content": null,
            "_view_module": "@jupyter-widgets/base",
            "overflow": null,
            "_model_module_version": "1.2.0",
            "_view_count": null,
            "flex_flow": null,
            "width": null,
            "min_width": null,
            "border": null,
            "align_items": null,
            "bottom": null,
            "_model_module": "@jupyter-widgets/base",
            "top": null,
            "grid_column": null,
            "overflow_y": null,
            "overflow_x": null,
            "grid_auto_flow": null,
            "grid_area": null,
            "grid_template_columns": null,
            "flex": null,
            "_model_name": "LayoutModel",
            "justify_items": null,
            "grid_row": null,
            "max_height": null,
            "align_content": null,
            "visibility": null,
            "align_self": null,
            "height": null,
            "min_height": null,
            "padding": null,
            "grid_auto_rows": null,
            "grid_gap": null,
            "max_width": null,
            "order": null,
            "_view_module_version": "1.2.0",
            "grid_template_areas": null,
            "object_position": null,
            "object_fit": null,
            "grid_auto_columns": null,
            "margin": null,
            "display": null,
            "left": null
          }
        },
        "a4c59f1d3a0a430aa158fd7e0de74639": {
          "model_module": "@jupyter-widgets/controls",
          "model_name": "HBoxModel",
          "model_module_version": "1.5.0",
          "state": {
            "_view_name": "HBoxView",
            "_dom_classes": [],
            "_model_name": "HBoxModel",
            "_view_module": "@jupyter-widgets/controls",
            "_model_module_version": "1.5.0",
            "_view_count": null,
            "_view_module_version": "1.5.0",
            "box_style": "",
            "layout": "IPY_MODEL_138e0b48d33542b8a0b29a2df09910a7",
            "_model_module": "@jupyter-widgets/controls",
            "children": [
              "IPY_MODEL_71f3f6bebec64747bfd0c9e61cc731d4",
              "IPY_MODEL_656454b373a5451dbed0903a938c7c77",
              "IPY_MODEL_9bc4318c8c8347ab940b5da3c892e402"
            ]
          }
        },
        "138e0b48d33542b8a0b29a2df09910a7": {
          "model_module": "@jupyter-widgets/base",
          "model_name": "LayoutModel",
          "model_module_version": "1.2.0",
          "state": {
            "_view_name": "LayoutView",
            "grid_template_rows": null,
            "right": null,
            "justify_content": null,
            "_view_module": "@jupyter-widgets/base",
            "overflow": null,
            "_model_module_version": "1.2.0",
            "_view_count": null,
            "flex_flow": null,
            "width": null,
            "min_width": null,
            "border": null,
            "align_items": null,
            "bottom": null,
            "_model_module": "@jupyter-widgets/base",
            "top": null,
            "grid_column": null,
            "overflow_y": null,
            "overflow_x": null,
            "grid_auto_flow": null,
            "grid_area": null,
            "grid_template_columns": null,
            "flex": null,
            "_model_name": "LayoutModel",
            "justify_items": null,
            "grid_row": null,
            "max_height": null,
            "align_content": null,
            "visibility": null,
            "align_self": null,
            "height": null,
            "min_height": null,
            "padding": null,
            "grid_auto_rows": null,
            "grid_gap": null,
            "max_width": null,
            "order": null,
            "_view_module_version": "1.2.0",
            "grid_template_areas": null,
            "object_position": null,
            "object_fit": null,
            "grid_auto_columns": null,
            "margin": null,
            "display": null,
            "left": null
          }
        },
        "71f3f6bebec64747bfd0c9e61cc731d4": {
          "model_module": "@jupyter-widgets/controls",
          "model_name": "HTMLModel",
          "model_module_version": "1.5.0",
          "state": {
            "_view_name": "HTMLView",
            "style": "IPY_MODEL_4ad23b9c55c549459acc2e7ff1ffb43b",
            "_dom_classes": [],
            "description": "",
            "_model_name": "HTMLModel",
            "placeholder": "​",
            "_view_module": "@jupyter-widgets/controls",
            "_model_module_version": "1.5.0",
            "value": "Downloading: 100%",
            "_view_count": null,
            "_view_module_version": "1.5.0",
            "description_tooltip": null,
            "_model_module": "@jupyter-widgets/controls",
            "layout": "IPY_MODEL_7d6b9711f53f422dab2c1382dc1701c2"
          }
        },
        "656454b373a5451dbed0903a938c7c77": {
          "model_module": "@jupyter-widgets/controls",
          "model_name": "FloatProgressModel",
          "model_module_version": "1.5.0",
          "state": {
            "_view_name": "ProgressView",
            "style": "IPY_MODEL_b1427e4a9ae94bd481af9d6479fb89ad",
            "_dom_classes": [],
            "description": "",
            "_model_name": "FloatProgressModel",
            "bar_style": "success",
            "max": 10177,
            "_view_module": "@jupyter-widgets/controls",
            "_model_module_version": "1.5.0",
            "value": 10177,
            "_view_count": null,
            "_view_module_version": "1.5.0",
            "orientation": "horizontal",
            "min": 0,
            "description_tooltip": null,
            "_model_module": "@jupyter-widgets/controls",
            "layout": "IPY_MODEL_7f73d3ab15a64d3f94aec87b2050a045"
          }
        },
        "9bc4318c8c8347ab940b5da3c892e402": {
          "model_module": "@jupyter-widgets/controls",
          "model_name": "HTMLModel",
          "model_module_version": "1.5.0",
          "state": {
            "_view_name": "HTMLView",
            "style": "IPY_MODEL_474eba4723b54a73a392b53aff31a988",
            "_dom_classes": [],
            "description": "",
            "_model_name": "HTMLModel",
            "placeholder": "​",
            "_view_module": "@jupyter-widgets/controls",
            "_model_module_version": "1.5.0",
            "value": " 10.2k/10.2k [00:00&lt;00:00, 255kB/s]",
            "_view_count": null,
            "_view_module_version": "1.5.0",
            "description_tooltip": null,
            "_model_module": "@jupyter-widgets/controls",
            "layout": "IPY_MODEL_09f00252691d4b3baece1077977881ac"
          }
        },
        "4ad23b9c55c549459acc2e7ff1ffb43b": {
          "model_module": "@jupyter-widgets/controls",
          "model_name": "DescriptionStyleModel",
          "model_module_version": "1.5.0",
          "state": {
            "_view_name": "StyleView",
            "_model_name": "DescriptionStyleModel",
            "description_width": "",
            "_view_module": "@jupyter-widgets/base",
            "_model_module_version": "1.5.0",
            "_view_count": null,
            "_view_module_version": "1.2.0",
            "_model_module": "@jupyter-widgets/controls"
          }
        },
        "7d6b9711f53f422dab2c1382dc1701c2": {
          "model_module": "@jupyter-widgets/base",
          "model_name": "LayoutModel",
          "model_module_version": "1.2.0",
          "state": {
            "_view_name": "LayoutView",
            "grid_template_rows": null,
            "right": null,
            "justify_content": null,
            "_view_module": "@jupyter-widgets/base",
            "overflow": null,
            "_model_module_version": "1.2.0",
            "_view_count": null,
            "flex_flow": null,
            "width": null,
            "min_width": null,
            "border": null,
            "align_items": null,
            "bottom": null,
            "_model_module": "@jupyter-widgets/base",
            "top": null,
            "grid_column": null,
            "overflow_y": null,
            "overflow_x": null,
            "grid_auto_flow": null,
            "grid_area": null,
            "grid_template_columns": null,
            "flex": null,
            "_model_name": "LayoutModel",
            "justify_items": null,
            "grid_row": null,
            "max_height": null,
            "align_content": null,
            "visibility": null,
            "align_self": null,
            "height": null,
            "min_height": null,
            "padding": null,
            "grid_auto_rows": null,
            "grid_gap": null,
            "max_width": null,
            "order": null,
            "_view_module_version": "1.2.0",
            "grid_template_areas": null,
            "object_position": null,
            "object_fit": null,
            "grid_auto_columns": null,
            "margin": null,
            "display": null,
            "left": null
          }
        },
        "b1427e4a9ae94bd481af9d6479fb89ad": {
          "model_module": "@jupyter-widgets/controls",
          "model_name": "ProgressStyleModel",
          "model_module_version": "1.5.0",
          "state": {
            "_view_name": "StyleView",
            "_model_name": "ProgressStyleModel",
            "description_width": "",
            "_view_module": "@jupyter-widgets/base",
            "_model_module_version": "1.5.0",
            "_view_count": null,
            "_view_module_version": "1.2.0",
            "bar_color": null,
            "_model_module": "@jupyter-widgets/controls"
          }
        },
        "7f73d3ab15a64d3f94aec87b2050a045": {
          "model_module": "@jupyter-widgets/base",
          "model_name": "LayoutModel",
          "model_module_version": "1.2.0",
          "state": {
            "_view_name": "LayoutView",
            "grid_template_rows": null,
            "right": null,
            "justify_content": null,
            "_view_module": "@jupyter-widgets/base",
            "overflow": null,
            "_model_module_version": "1.2.0",
            "_view_count": null,
            "flex_flow": null,
            "width": null,
            "min_width": null,
            "border": null,
            "align_items": null,
            "bottom": null,
            "_model_module": "@jupyter-widgets/base",
            "top": null,
            "grid_column": null,
            "overflow_y": null,
            "overflow_x": null,
            "grid_auto_flow": null,
            "grid_area": null,
            "grid_template_columns": null,
            "flex": null,
            "_model_name": "LayoutModel",
            "justify_items": null,
            "grid_row": null,
            "max_height": null,
            "align_content": null,
            "visibility": null,
            "align_self": null,
            "height": null,
            "min_height": null,
            "padding": null,
            "grid_auto_rows": null,
            "grid_gap": null,
            "max_width": null,
            "order": null,
            "_view_module_version": "1.2.0",
            "grid_template_areas": null,
            "object_position": null,
            "object_fit": null,
            "grid_auto_columns": null,
            "margin": null,
            "display": null,
            "left": null
          }
        },
        "474eba4723b54a73a392b53aff31a988": {
          "model_module": "@jupyter-widgets/controls",
          "model_name": "DescriptionStyleModel",
          "model_module_version": "1.5.0",
          "state": {
            "_view_name": "StyleView",
            "_model_name": "DescriptionStyleModel",
            "description_width": "",
            "_view_module": "@jupyter-widgets/base",
            "_model_module_version": "1.5.0",
            "_view_count": null,
            "_view_module_version": "1.2.0",
            "_model_module": "@jupyter-widgets/controls"
          }
        },
        "09f00252691d4b3baece1077977881ac": {
          "model_module": "@jupyter-widgets/base",
          "model_name": "LayoutModel",
          "model_module_version": "1.2.0",
          "state": {
            "_view_name": "LayoutView",
            "grid_template_rows": null,
            "right": null,
            "justify_content": null,
            "_view_module": "@jupyter-widgets/base",
            "overflow": null,
            "_model_module_version": "1.2.0",
            "_view_count": null,
            "flex_flow": null,
            "width": null,
            "min_width": null,
            "border": null,
            "align_items": null,
            "bottom": null,
            "_model_module": "@jupyter-widgets/base",
            "top": null,
            "grid_column": null,
            "overflow_y": null,
            "overflow_x": null,
            "grid_auto_flow": null,
            "grid_area": null,
            "grid_template_columns": null,
            "flex": null,
            "_model_name": "LayoutModel",
            "justify_items": null,
            "grid_row": null,
            "max_height": null,
            "align_content": null,
            "visibility": null,
            "align_self": null,
            "height": null,
            "min_height": null,
            "padding": null,
            "grid_auto_rows": null,
            "grid_gap": null,
            "max_width": null,
            "order": null,
            "_view_module_version": "1.2.0",
            "grid_template_areas": null,
            "object_position": null,
            "object_fit": null,
            "grid_auto_columns": null,
            "margin": null,
            "display": null,
            "left": null
          }
        },
        "2f7a597afcac4875a78be57bc0d99ce3": {
          "model_module": "@jupyter-widgets/controls",
          "model_name": "HBoxModel",
          "model_module_version": "1.5.0",
          "state": {
            "_view_name": "HBoxView",
            "_dom_classes": [],
            "_model_name": "HBoxModel",
            "_view_module": "@jupyter-widgets/controls",
            "_model_module_version": "1.5.0",
            "_view_count": null,
            "_view_module_version": "1.5.0",
            "box_style": "",
            "layout": "IPY_MODEL_2f612aad434145d0b84ffe77fc0e3a4e",
            "_model_module": "@jupyter-widgets/controls",
            "children": [
              "IPY_MODEL_f3fb7cf01bca4350b1add2ec5f425156",
              "IPY_MODEL_f59f2113a12242c896890f2f34b59e9b",
              "IPY_MODEL_700f3381ee4d4321b534a8d58215691e"
            ]
          }
        },
        "2f612aad434145d0b84ffe77fc0e3a4e": {
          "model_module": "@jupyter-widgets/base",
          "model_name": "LayoutModel",
          "model_module_version": "1.2.0",
          "state": {
            "_view_name": "LayoutView",
            "grid_template_rows": null,
            "right": null,
            "justify_content": null,
            "_view_module": "@jupyter-widgets/base",
            "overflow": null,
            "_model_module_version": "1.2.0",
            "_view_count": null,
            "flex_flow": null,
            "width": null,
            "min_width": null,
            "border": null,
            "align_items": null,
            "bottom": null,
            "_model_module": "@jupyter-widgets/base",
            "top": null,
            "grid_column": null,
            "overflow_y": null,
            "overflow_x": null,
            "grid_auto_flow": null,
            "grid_area": null,
            "grid_template_columns": null,
            "flex": null,
            "_model_name": "LayoutModel",
            "justify_items": null,
            "grid_row": null,
            "max_height": null,
            "align_content": null,
            "visibility": null,
            "align_self": null,
            "height": null,
            "min_height": null,
            "padding": null,
            "grid_auto_rows": null,
            "grid_gap": null,
            "max_width": null,
            "order": null,
            "_view_module_version": "1.2.0",
            "grid_template_areas": null,
            "object_position": null,
            "object_fit": null,
            "grid_auto_columns": null,
            "margin": null,
            "display": null,
            "left": null
          }
        },
        "f3fb7cf01bca4350b1add2ec5f425156": {
          "model_module": "@jupyter-widgets/controls",
          "model_name": "HTMLModel",
          "model_module_version": "1.5.0",
          "state": {
            "_view_name": "HTMLView",
            "style": "IPY_MODEL_5d55bd5b326e42388372605779faeb05",
            "_dom_classes": [],
            "description": "",
            "_model_name": "HTMLModel",
            "placeholder": "​",
            "_view_module": "@jupyter-widgets/controls",
            "_model_module_version": "1.5.0",
            "value": "Downloading: 100%",
            "_view_count": null,
            "_view_module_version": "1.5.0",
            "description_tooltip": null,
            "_model_module": "@jupyter-widgets/controls",
            "layout": "IPY_MODEL_7e3c1415d57a4425a27b8ae4e02d13c1"
          }
        },
        "f59f2113a12242c896890f2f34b59e9b": {
          "model_module": "@jupyter-widgets/controls",
          "model_name": "FloatProgressModel",
          "model_module_version": "1.5.0",
          "state": {
            "_view_name": "ProgressView",
            "style": "IPY_MODEL_4ef1f991e59b4e2d9c2fc3226efa6910",
            "_dom_classes": [],
            "description": "",
            "_model_name": "FloatProgressModel",
            "bar_style": "success",
            "max": 612,
            "_view_module": "@jupyter-widgets/controls",
            "_model_module_version": "1.5.0",
            "value": 612,
            "_view_count": null,
            "_view_module_version": "1.5.0",
            "orientation": "horizontal",
            "min": 0,
            "description_tooltip": null,
            "_model_module": "@jupyter-widgets/controls",
            "layout": "IPY_MODEL_4a06cd5be7614c0e8b89b56d0962ef3b"
          }
        },
        "700f3381ee4d4321b534a8d58215691e": {
          "model_module": "@jupyter-widgets/controls",
          "model_name": "HTMLModel",
          "model_module_version": "1.5.0",
          "state": {
            "_view_name": "HTMLView",
            "style": "IPY_MODEL_bf4e79c8880f4410bf32747bbaf86240",
            "_dom_classes": [],
            "description": "",
            "_model_name": "HTMLModel",
            "placeholder": "​",
            "_view_module": "@jupyter-widgets/controls",
            "_model_module_version": "1.5.0",
            "value": " 612/612 [00:00&lt;00:00, 16.2kB/s]",
            "_view_count": null,
            "_view_module_version": "1.5.0",
            "description_tooltip": null,
            "_model_module": "@jupyter-widgets/controls",
            "layout": "IPY_MODEL_40fb6f2d3e5c4816b3f59ed0c0200e23"
          }
        },
        "5d55bd5b326e42388372605779faeb05": {
          "model_module": "@jupyter-widgets/controls",
          "model_name": "DescriptionStyleModel",
          "model_module_version": "1.5.0",
          "state": {
            "_view_name": "StyleView",
            "_model_name": "DescriptionStyleModel",
            "description_width": "",
            "_view_module": "@jupyter-widgets/base",
            "_model_module_version": "1.5.0",
            "_view_count": null,
            "_view_module_version": "1.2.0",
            "_model_module": "@jupyter-widgets/controls"
          }
        },
        "7e3c1415d57a4425a27b8ae4e02d13c1": {
          "model_module": "@jupyter-widgets/base",
          "model_name": "LayoutModel",
          "model_module_version": "1.2.0",
          "state": {
            "_view_name": "LayoutView",
            "grid_template_rows": null,
            "right": null,
            "justify_content": null,
            "_view_module": "@jupyter-widgets/base",
            "overflow": null,
            "_model_module_version": "1.2.0",
            "_view_count": null,
            "flex_flow": null,
            "width": null,
            "min_width": null,
            "border": null,
            "align_items": null,
            "bottom": null,
            "_model_module": "@jupyter-widgets/base",
            "top": null,
            "grid_column": null,
            "overflow_y": null,
            "overflow_x": null,
            "grid_auto_flow": null,
            "grid_area": null,
            "grid_template_columns": null,
            "flex": null,
            "_model_name": "LayoutModel",
            "justify_items": null,
            "grid_row": null,
            "max_height": null,
            "align_content": null,
            "visibility": null,
            "align_self": null,
            "height": null,
            "min_height": null,
            "padding": null,
            "grid_auto_rows": null,
            "grid_gap": null,
            "max_width": null,
            "order": null,
            "_view_module_version": "1.2.0",
            "grid_template_areas": null,
            "object_position": null,
            "object_fit": null,
            "grid_auto_columns": null,
            "margin": null,
            "display": null,
            "left": null
          }
        },
        "4ef1f991e59b4e2d9c2fc3226efa6910": {
          "model_module": "@jupyter-widgets/controls",
          "model_name": "ProgressStyleModel",
          "model_module_version": "1.5.0",
          "state": {
            "_view_name": "StyleView",
            "_model_name": "ProgressStyleModel",
            "description_width": "",
            "_view_module": "@jupyter-widgets/base",
            "_model_module_version": "1.5.0",
            "_view_count": null,
            "_view_module_version": "1.2.0",
            "bar_color": null,
            "_model_module": "@jupyter-widgets/controls"
          }
        },
        "4a06cd5be7614c0e8b89b56d0962ef3b": {
          "model_module": "@jupyter-widgets/base",
          "model_name": "LayoutModel",
          "model_module_version": "1.2.0",
          "state": {
            "_view_name": "LayoutView",
            "grid_template_rows": null,
            "right": null,
            "justify_content": null,
            "_view_module": "@jupyter-widgets/base",
            "overflow": null,
            "_model_module_version": "1.2.0",
            "_view_count": null,
            "flex_flow": null,
            "width": null,
            "min_width": null,
            "border": null,
            "align_items": null,
            "bottom": null,
            "_model_module": "@jupyter-widgets/base",
            "top": null,
            "grid_column": null,
            "overflow_y": null,
            "overflow_x": null,
            "grid_auto_flow": null,
            "grid_area": null,
            "grid_template_columns": null,
            "flex": null,
            "_model_name": "LayoutModel",
            "justify_items": null,
            "grid_row": null,
            "max_height": null,
            "align_content": null,
            "visibility": null,
            "align_self": null,
            "height": null,
            "min_height": null,
            "padding": null,
            "grid_auto_rows": null,
            "grid_gap": null,
            "max_width": null,
            "order": null,
            "_view_module_version": "1.2.0",
            "grid_template_areas": null,
            "object_position": null,
            "object_fit": null,
            "grid_auto_columns": null,
            "margin": null,
            "display": null,
            "left": null
          }
        },
        "bf4e79c8880f4410bf32747bbaf86240": {
          "model_module": "@jupyter-widgets/controls",
          "model_name": "DescriptionStyleModel",
          "model_module_version": "1.5.0",
          "state": {
            "_view_name": "StyleView",
            "_model_name": "DescriptionStyleModel",
            "description_width": "",
            "_view_module": "@jupyter-widgets/base",
            "_model_module_version": "1.5.0",
            "_view_count": null,
            "_view_module_version": "1.2.0",
            "_model_module": "@jupyter-widgets/controls"
          }
        },
        "40fb6f2d3e5c4816b3f59ed0c0200e23": {
          "model_module": "@jupyter-widgets/base",
          "model_name": "LayoutModel",
          "model_module_version": "1.2.0",
          "state": {
            "_view_name": "LayoutView",
            "grid_template_rows": null,
            "right": null,
            "justify_content": null,
            "_view_module": "@jupyter-widgets/base",
            "overflow": null,
            "_model_module_version": "1.2.0",
            "_view_count": null,
            "flex_flow": null,
            "width": null,
            "min_width": null,
            "border": null,
            "align_items": null,
            "bottom": null,
            "_model_module": "@jupyter-widgets/base",
            "top": null,
            "grid_column": null,
            "overflow_y": null,
            "overflow_x": null,
            "grid_auto_flow": null,
            "grid_area": null,
            "grid_template_columns": null,
            "flex": null,
            "_model_name": "LayoutModel",
            "justify_items": null,
            "grid_row": null,
            "max_height": null,
            "align_content": null,
            "visibility": null,
            "align_self": null,
            "height": null,
            "min_height": null,
            "padding": null,
            "grid_auto_rows": null,
            "grid_gap": null,
            "max_width": null,
            "order": null,
            "_view_module_version": "1.2.0",
            "grid_template_areas": null,
            "object_position": null,
            "object_fit": null,
            "grid_auto_columns": null,
            "margin": null,
            "display": null,
            "left": null
          }
        },
        "74eb2910aee54d498f2f55670bd5d8fb": {
          "model_module": "@jupyter-widgets/controls",
          "model_name": "HBoxModel",
          "model_module_version": "1.5.0",
          "state": {
            "_view_name": "HBoxView",
            "_dom_classes": [],
            "_model_name": "HBoxModel",
            "_view_module": "@jupyter-widgets/controls",
            "_model_module_version": "1.5.0",
            "_view_count": null,
            "_view_module_version": "1.5.0",
            "box_style": "",
            "layout": "IPY_MODEL_09ce8ad4226d43ada353b001e693a61b",
            "_model_module": "@jupyter-widgets/controls",
            "children": [
              "IPY_MODEL_8fb374000b0849e6878361dac5dd3fb8",
              "IPY_MODEL_611870ca8c4c4a37aa0141b7b64db647",
              "IPY_MODEL_6a6e306a8ca54e669e96c40dfae8d1b7"
            ]
          }
        },
        "09ce8ad4226d43ada353b001e693a61b": {
          "model_module": "@jupyter-widgets/base",
          "model_name": "LayoutModel",
          "model_module_version": "1.2.0",
          "state": {
            "_view_name": "LayoutView",
            "grid_template_rows": null,
            "right": null,
            "justify_content": null,
            "_view_module": "@jupyter-widgets/base",
            "overflow": null,
            "_model_module_version": "1.2.0",
            "_view_count": null,
            "flex_flow": null,
            "width": null,
            "min_width": null,
            "border": null,
            "align_items": null,
            "bottom": null,
            "_model_module": "@jupyter-widgets/base",
            "top": null,
            "grid_column": null,
            "overflow_y": null,
            "overflow_x": null,
            "grid_auto_flow": null,
            "grid_area": null,
            "grid_template_columns": null,
            "flex": null,
            "_model_name": "LayoutModel",
            "justify_items": null,
            "grid_row": null,
            "max_height": null,
            "align_content": null,
            "visibility": null,
            "align_self": null,
            "height": null,
            "min_height": null,
            "padding": null,
            "grid_auto_rows": null,
            "grid_gap": null,
            "max_width": null,
            "order": null,
            "_view_module_version": "1.2.0",
            "grid_template_areas": null,
            "object_position": null,
            "object_fit": null,
            "grid_auto_columns": null,
            "margin": null,
            "display": null,
            "left": null
          }
        },
        "8fb374000b0849e6878361dac5dd3fb8": {
          "model_module": "@jupyter-widgets/controls",
          "model_name": "HTMLModel",
          "model_module_version": "1.5.0",
          "state": {
            "_view_name": "HTMLView",
            "style": "IPY_MODEL_c60549cf83454158ac6190218bef9733",
            "_dom_classes": [],
            "description": "",
            "_model_name": "HTMLModel",
            "placeholder": "​",
            "_view_module": "@jupyter-widgets/controls",
            "_model_module_version": "1.5.0",
            "value": "Downloading: 100%",
            "_view_count": null,
            "_view_module_version": "1.5.0",
            "description_tooltip": null,
            "_model_module": "@jupyter-widgets/controls",
            "layout": "IPY_MODEL_4bbfc90b77714275ad207c6863545092"
          }
        },
        "611870ca8c4c4a37aa0141b7b64db647": {
          "model_module": "@jupyter-widgets/controls",
          "model_name": "FloatProgressModel",
          "model_module_version": "1.5.0",
          "state": {
            "_view_name": "ProgressView",
            "style": "IPY_MODEL_987b888217514e2db8661086e2623339",
            "_dom_classes": [],
            "description": "",
            "_model_name": "FloatProgressModel",
            "bar_style": "success",
            "max": 116,
            "_view_module": "@jupyter-widgets/controls",
            "_model_module_version": "1.5.0",
            "value": 116,
            "_view_count": null,
            "_view_module_version": "1.5.0",
            "orientation": "horizontal",
            "min": 0,
            "description_tooltip": null,
            "_model_module": "@jupyter-widgets/controls",
            "layout": "IPY_MODEL_df2388efc9a74921a8b3a0c5eacd7e48"
          }
        },
        "6a6e306a8ca54e669e96c40dfae8d1b7": {
          "model_module": "@jupyter-widgets/controls",
          "model_name": "HTMLModel",
          "model_module_version": "1.5.0",
          "state": {
            "_view_name": "HTMLView",
            "style": "IPY_MODEL_1275fdc674d9482cb717d965865df997",
            "_dom_classes": [],
            "description": "",
            "_model_name": "HTMLModel",
            "placeholder": "​",
            "_view_module": "@jupyter-widgets/controls",
            "_model_module_version": "1.5.0",
            "value": " 116/116 [00:00&lt;00:00, 2.98kB/s]",
            "_view_count": null,
            "_view_module_version": "1.5.0",
            "description_tooltip": null,
            "_model_module": "@jupyter-widgets/controls",
            "layout": "IPY_MODEL_fa49c52666c64444891d0a4117d3d28e"
          }
        },
        "c60549cf83454158ac6190218bef9733": {
          "model_module": "@jupyter-widgets/controls",
          "model_name": "DescriptionStyleModel",
          "model_module_version": "1.5.0",
          "state": {
            "_view_name": "StyleView",
            "_model_name": "DescriptionStyleModel",
            "description_width": "",
            "_view_module": "@jupyter-widgets/base",
            "_model_module_version": "1.5.0",
            "_view_count": null,
            "_view_module_version": "1.2.0",
            "_model_module": "@jupyter-widgets/controls"
          }
        },
        "4bbfc90b77714275ad207c6863545092": {
          "model_module": "@jupyter-widgets/base",
          "model_name": "LayoutModel",
          "model_module_version": "1.2.0",
          "state": {
            "_view_name": "LayoutView",
            "grid_template_rows": null,
            "right": null,
            "justify_content": null,
            "_view_module": "@jupyter-widgets/base",
            "overflow": null,
            "_model_module_version": "1.2.0",
            "_view_count": null,
            "flex_flow": null,
            "width": null,
            "min_width": null,
            "border": null,
            "align_items": null,
            "bottom": null,
            "_model_module": "@jupyter-widgets/base",
            "top": null,
            "grid_column": null,
            "overflow_y": null,
            "overflow_x": null,
            "grid_auto_flow": null,
            "grid_area": null,
            "grid_template_columns": null,
            "flex": null,
            "_model_name": "LayoutModel",
            "justify_items": null,
            "grid_row": null,
            "max_height": null,
            "align_content": null,
            "visibility": null,
            "align_self": null,
            "height": null,
            "min_height": null,
            "padding": null,
            "grid_auto_rows": null,
            "grid_gap": null,
            "max_width": null,
            "order": null,
            "_view_module_version": "1.2.0",
            "grid_template_areas": null,
            "object_position": null,
            "object_fit": null,
            "grid_auto_columns": null,
            "margin": null,
            "display": null,
            "left": null
          }
        },
        "987b888217514e2db8661086e2623339": {
          "model_module": "@jupyter-widgets/controls",
          "model_name": "ProgressStyleModel",
          "model_module_version": "1.5.0",
          "state": {
            "_view_name": "StyleView",
            "_model_name": "ProgressStyleModel",
            "description_width": "",
            "_view_module": "@jupyter-widgets/base",
            "_model_module_version": "1.5.0",
            "_view_count": null,
            "_view_module_version": "1.2.0",
            "bar_color": null,
            "_model_module": "@jupyter-widgets/controls"
          }
        },
        "df2388efc9a74921a8b3a0c5eacd7e48": {
          "model_module": "@jupyter-widgets/base",
          "model_name": "LayoutModel",
          "model_module_version": "1.2.0",
          "state": {
            "_view_name": "LayoutView",
            "grid_template_rows": null,
            "right": null,
            "justify_content": null,
            "_view_module": "@jupyter-widgets/base",
            "overflow": null,
            "_model_module_version": "1.2.0",
            "_view_count": null,
            "flex_flow": null,
            "width": null,
            "min_width": null,
            "border": null,
            "align_items": null,
            "bottom": null,
            "_model_module": "@jupyter-widgets/base",
            "top": null,
            "grid_column": null,
            "overflow_y": null,
            "overflow_x": null,
            "grid_auto_flow": null,
            "grid_area": null,
            "grid_template_columns": null,
            "flex": null,
            "_model_name": "LayoutModel",
            "justify_items": null,
            "grid_row": null,
            "max_height": null,
            "align_content": null,
            "visibility": null,
            "align_self": null,
            "height": null,
            "min_height": null,
            "padding": null,
            "grid_auto_rows": null,
            "grid_gap": null,
            "max_width": null,
            "order": null,
            "_view_module_version": "1.2.0",
            "grid_template_areas": null,
            "object_position": null,
            "object_fit": null,
            "grid_auto_columns": null,
            "margin": null,
            "display": null,
            "left": null
          }
        },
        "1275fdc674d9482cb717d965865df997": {
          "model_module": "@jupyter-widgets/controls",
          "model_name": "DescriptionStyleModel",
          "model_module_version": "1.5.0",
          "state": {
            "_view_name": "StyleView",
            "_model_name": "DescriptionStyleModel",
            "description_width": "",
            "_view_module": "@jupyter-widgets/base",
            "_model_module_version": "1.5.0",
            "_view_count": null,
            "_view_module_version": "1.2.0",
            "_model_module": "@jupyter-widgets/controls"
          }
        },
        "fa49c52666c64444891d0a4117d3d28e": {
          "model_module": "@jupyter-widgets/base",
          "model_name": "LayoutModel",
          "model_module_version": "1.2.0",
          "state": {
            "_view_name": "LayoutView",
            "grid_template_rows": null,
            "right": null,
            "justify_content": null,
            "_view_module": "@jupyter-widgets/base",
            "overflow": null,
            "_model_module_version": "1.2.0",
            "_view_count": null,
            "flex_flow": null,
            "width": null,
            "min_width": null,
            "border": null,
            "align_items": null,
            "bottom": null,
            "_model_module": "@jupyter-widgets/base",
            "top": null,
            "grid_column": null,
            "overflow_y": null,
            "overflow_x": null,
            "grid_auto_flow": null,
            "grid_area": null,
            "grid_template_columns": null,
            "flex": null,
            "_model_name": "LayoutModel",
            "justify_items": null,
            "grid_row": null,
            "max_height": null,
            "align_content": null,
            "visibility": null,
            "align_self": null,
            "height": null,
            "min_height": null,
            "padding": null,
            "grid_auto_rows": null,
            "grid_gap": null,
            "max_width": null,
            "order": null,
            "_view_module_version": "1.2.0",
            "grid_template_areas": null,
            "object_position": null,
            "object_fit": null,
            "grid_auto_columns": null,
            "margin": null,
            "display": null,
            "left": null
          }
        },
        "00cd88ef5fa047f2bdac947692445a10": {
          "model_module": "@jupyter-widgets/controls",
          "model_name": "HBoxModel",
          "model_module_version": "1.5.0",
          "state": {
            "_view_name": "HBoxView",
            "_dom_classes": [],
            "_model_name": "HBoxModel",
            "_view_module": "@jupyter-widgets/controls",
            "_model_module_version": "1.5.0",
            "_view_count": null,
            "_view_module_version": "1.5.0",
            "box_style": "",
            "layout": "IPY_MODEL_baf49b8915174b9c8ffcc8b15aa4d61f",
            "_model_module": "@jupyter-widgets/controls",
            "children": [
              "IPY_MODEL_d2d0ad715eec4077853dc1efd8c0b2df",
              "IPY_MODEL_11d219c4cfb3478ba152393e059384df",
              "IPY_MODEL_0ada950294784f0bb8946614734608a2"
            ]
          }
        },
        "baf49b8915174b9c8ffcc8b15aa4d61f": {
          "model_module": "@jupyter-widgets/base",
          "model_name": "LayoutModel",
          "model_module_version": "1.2.0",
          "state": {
            "_view_name": "LayoutView",
            "grid_template_rows": null,
            "right": null,
            "justify_content": null,
            "_view_module": "@jupyter-widgets/base",
            "overflow": null,
            "_model_module_version": "1.2.0",
            "_view_count": null,
            "flex_flow": null,
            "width": null,
            "min_width": null,
            "border": null,
            "align_items": null,
            "bottom": null,
            "_model_module": "@jupyter-widgets/base",
            "top": null,
            "grid_column": null,
            "overflow_y": null,
            "overflow_x": null,
            "grid_auto_flow": null,
            "grid_area": null,
            "grid_template_columns": null,
            "flex": null,
            "_model_name": "LayoutModel",
            "justify_items": null,
            "grid_row": null,
            "max_height": null,
            "align_content": null,
            "visibility": null,
            "align_self": null,
            "height": null,
            "min_height": null,
            "padding": null,
            "grid_auto_rows": null,
            "grid_gap": null,
            "max_width": null,
            "order": null,
            "_view_module_version": "1.2.0",
            "grid_template_areas": null,
            "object_position": null,
            "object_fit": null,
            "grid_auto_columns": null,
            "margin": null,
            "display": null,
            "left": null
          }
        },
        "d2d0ad715eec4077853dc1efd8c0b2df": {
          "model_module": "@jupyter-widgets/controls",
          "model_name": "HTMLModel",
          "model_module_version": "1.5.0",
          "state": {
            "_view_name": "HTMLView",
            "style": "IPY_MODEL_a3bf15ef33434c8c98593d19bfef6c5c",
            "_dom_classes": [],
            "description": "",
            "_model_name": "HTMLModel",
            "placeholder": "​",
            "_view_module": "@jupyter-widgets/controls",
            "_model_module_version": "1.5.0",
            "value": "Downloading: 100%",
            "_view_count": null,
            "_view_module_version": "1.5.0",
            "description_tooltip": null,
            "_model_module": "@jupyter-widgets/controls",
            "layout": "IPY_MODEL_e721d817ff2e4826b52e7bdbc915f521"
          }
        },
        "11d219c4cfb3478ba152393e059384df": {
          "model_module": "@jupyter-widgets/controls",
          "model_name": "FloatProgressModel",
          "model_module_version": "1.5.0",
          "state": {
            "_view_name": "ProgressView",
            "style": "IPY_MODEL_be686f61d0484ba3b77820fc793f78da",
            "_dom_classes": [],
            "description": "",
            "_model_name": "FloatProgressModel",
            "bar_style": "success",
            "max": 39265,
            "_view_module": "@jupyter-widgets/controls",
            "_model_module_version": "1.5.0",
            "value": 39265,
            "_view_count": null,
            "_view_module_version": "1.5.0",
            "orientation": "horizontal",
            "min": 0,
            "description_tooltip": null,
            "_model_module": "@jupyter-widgets/controls",
            "layout": "IPY_MODEL_912beda003424b8d80fb2324a14be6c1"
          }
        },
        "0ada950294784f0bb8946614734608a2": {
          "model_module": "@jupyter-widgets/controls",
          "model_name": "HTMLModel",
          "model_module_version": "1.5.0",
          "state": {
            "_view_name": "HTMLView",
            "style": "IPY_MODEL_77cd98caf06649d5868c82fa0c511cb7",
            "_dom_classes": [],
            "description": "",
            "_model_name": "HTMLModel",
            "placeholder": "​",
            "_view_module": "@jupyter-widgets/controls",
            "_model_module_version": "1.5.0",
            "value": " 39.3k/39.3k [00:00&lt;00:00, 637kB/s]",
            "_view_count": null,
            "_view_module_version": "1.5.0",
            "description_tooltip": null,
            "_model_module": "@jupyter-widgets/controls",
            "layout": "IPY_MODEL_05c74cdc18634ef8bfe2463268662d7c"
          }
        },
        "a3bf15ef33434c8c98593d19bfef6c5c": {
          "model_module": "@jupyter-widgets/controls",
          "model_name": "DescriptionStyleModel",
          "model_module_version": "1.5.0",
          "state": {
            "_view_name": "StyleView",
            "_model_name": "DescriptionStyleModel",
            "description_width": "",
            "_view_module": "@jupyter-widgets/base",
            "_model_module_version": "1.5.0",
            "_view_count": null,
            "_view_module_version": "1.2.0",
            "_model_module": "@jupyter-widgets/controls"
          }
        },
        "e721d817ff2e4826b52e7bdbc915f521": {
          "model_module": "@jupyter-widgets/base",
          "model_name": "LayoutModel",
          "model_module_version": "1.2.0",
          "state": {
            "_view_name": "LayoutView",
            "grid_template_rows": null,
            "right": null,
            "justify_content": null,
            "_view_module": "@jupyter-widgets/base",
            "overflow": null,
            "_model_module_version": "1.2.0",
            "_view_count": null,
            "flex_flow": null,
            "width": null,
            "min_width": null,
            "border": null,
            "align_items": null,
            "bottom": null,
            "_model_module": "@jupyter-widgets/base",
            "top": null,
            "grid_column": null,
            "overflow_y": null,
            "overflow_x": null,
            "grid_auto_flow": null,
            "grid_area": null,
            "grid_template_columns": null,
            "flex": null,
            "_model_name": "LayoutModel",
            "justify_items": null,
            "grid_row": null,
            "max_height": null,
            "align_content": null,
            "visibility": null,
            "align_self": null,
            "height": null,
            "min_height": null,
            "padding": null,
            "grid_auto_rows": null,
            "grid_gap": null,
            "max_width": null,
            "order": null,
            "_view_module_version": "1.2.0",
            "grid_template_areas": null,
            "object_position": null,
            "object_fit": null,
            "grid_auto_columns": null,
            "margin": null,
            "display": null,
            "left": null
          }
        },
        "be686f61d0484ba3b77820fc793f78da": {
          "model_module": "@jupyter-widgets/controls",
          "model_name": "ProgressStyleModel",
          "model_module_version": "1.5.0",
          "state": {
            "_view_name": "StyleView",
            "_model_name": "ProgressStyleModel",
            "description_width": "",
            "_view_module": "@jupyter-widgets/base",
            "_model_module_version": "1.5.0",
            "_view_count": null,
            "_view_module_version": "1.2.0",
            "bar_color": null,
            "_model_module": "@jupyter-widgets/controls"
          }
        },
        "912beda003424b8d80fb2324a14be6c1": {
          "model_module": "@jupyter-widgets/base",
          "model_name": "LayoutModel",
          "model_module_version": "1.2.0",
          "state": {
            "_view_name": "LayoutView",
            "grid_template_rows": null,
            "right": null,
            "justify_content": null,
            "_view_module": "@jupyter-widgets/base",
            "overflow": null,
            "_model_module_version": "1.2.0",
            "_view_count": null,
            "flex_flow": null,
            "width": null,
            "min_width": null,
            "border": null,
            "align_items": null,
            "bottom": null,
            "_model_module": "@jupyter-widgets/base",
            "top": null,
            "grid_column": null,
            "overflow_y": null,
            "overflow_x": null,
            "grid_auto_flow": null,
            "grid_area": null,
            "grid_template_columns": null,
            "flex": null,
            "_model_name": "LayoutModel",
            "justify_items": null,
            "grid_row": null,
            "max_height": null,
            "align_content": null,
            "visibility": null,
            "align_self": null,
            "height": null,
            "min_height": null,
            "padding": null,
            "grid_auto_rows": null,
            "grid_gap": null,
            "max_width": null,
            "order": null,
            "_view_module_version": "1.2.0",
            "grid_template_areas": null,
            "object_position": null,
            "object_fit": null,
            "grid_auto_columns": null,
            "margin": null,
            "display": null,
            "left": null
          }
        },
        "77cd98caf06649d5868c82fa0c511cb7": {
          "model_module": "@jupyter-widgets/controls",
          "model_name": "DescriptionStyleModel",
          "model_module_version": "1.5.0",
          "state": {
            "_view_name": "StyleView",
            "_model_name": "DescriptionStyleModel",
            "description_width": "",
            "_view_module": "@jupyter-widgets/base",
            "_model_module_version": "1.5.0",
            "_view_count": null,
            "_view_module_version": "1.2.0",
            "_model_module": "@jupyter-widgets/controls"
          }
        },
        "05c74cdc18634ef8bfe2463268662d7c": {
          "model_module": "@jupyter-widgets/base",
          "model_name": "LayoutModel",
          "model_module_version": "1.2.0",
          "state": {
            "_view_name": "LayoutView",
            "grid_template_rows": null,
            "right": null,
            "justify_content": null,
            "_view_module": "@jupyter-widgets/base",
            "overflow": null,
            "_model_module_version": "1.2.0",
            "_view_count": null,
            "flex_flow": null,
            "width": null,
            "min_width": null,
            "border": null,
            "align_items": null,
            "bottom": null,
            "_model_module": "@jupyter-widgets/base",
            "top": null,
            "grid_column": null,
            "overflow_y": null,
            "overflow_x": null,
            "grid_auto_flow": null,
            "grid_area": null,
            "grid_template_columns": null,
            "flex": null,
            "_model_name": "LayoutModel",
            "justify_items": null,
            "grid_row": null,
            "max_height": null,
            "align_content": null,
            "visibility": null,
            "align_self": null,
            "height": null,
            "min_height": null,
            "padding": null,
            "grid_auto_rows": null,
            "grid_gap": null,
            "max_width": null,
            "order": null,
            "_view_module_version": "1.2.0",
            "grid_template_areas": null,
            "object_position": null,
            "object_fit": null,
            "grid_auto_columns": null,
            "margin": null,
            "display": null,
            "left": null
          }
        },
        "dd1c0f9499a04c7fb4afe8c50cdf2e77": {
          "model_module": "@jupyter-widgets/controls",
          "model_name": "HBoxModel",
          "model_module_version": "1.5.0",
          "state": {
            "_view_name": "HBoxView",
            "_dom_classes": [],
            "_model_name": "HBoxModel",
            "_view_module": "@jupyter-widgets/controls",
            "_model_module_version": "1.5.0",
            "_view_count": null,
            "_view_module_version": "1.5.0",
            "box_style": "",
            "layout": "IPY_MODEL_413308d4347f4a3e971f6b594172c919",
            "_model_module": "@jupyter-widgets/controls",
            "children": [
              "IPY_MODEL_df18a4902bf240869676d06d90a98ed4",
              "IPY_MODEL_5a1981b54d1347319e69a64e2fd8784e",
              "IPY_MODEL_897bb998dd8446f3943316988cfe4249"
            ]
          }
        },
        "413308d4347f4a3e971f6b594172c919": {
          "model_module": "@jupyter-widgets/base",
          "model_name": "LayoutModel",
          "model_module_version": "1.2.0",
          "state": {
            "_view_name": "LayoutView",
            "grid_template_rows": null,
            "right": null,
            "justify_content": null,
            "_view_module": "@jupyter-widgets/base",
            "overflow": null,
            "_model_module_version": "1.2.0",
            "_view_count": null,
            "flex_flow": null,
            "width": null,
            "min_width": null,
            "border": null,
            "align_items": null,
            "bottom": null,
            "_model_module": "@jupyter-widgets/base",
            "top": null,
            "grid_column": null,
            "overflow_y": null,
            "overflow_x": null,
            "grid_auto_flow": null,
            "grid_area": null,
            "grid_template_columns": null,
            "flex": null,
            "_model_name": "LayoutModel",
            "justify_items": null,
            "grid_row": null,
            "max_height": null,
            "align_content": null,
            "visibility": null,
            "align_self": null,
            "height": null,
            "min_height": null,
            "padding": null,
            "grid_auto_rows": null,
            "grid_gap": null,
            "max_width": null,
            "order": null,
            "_view_module_version": "1.2.0",
            "grid_template_areas": null,
            "object_position": null,
            "object_fit": null,
            "grid_auto_columns": null,
            "margin": null,
            "display": null,
            "left": null
          }
        },
        "df18a4902bf240869676d06d90a98ed4": {
          "model_module": "@jupyter-widgets/controls",
          "model_name": "HTMLModel",
          "model_module_version": "1.5.0",
          "state": {
            "_view_name": "HTMLView",
            "style": "IPY_MODEL_6b6a399c23ae47ec967a5bc8a73651ef",
            "_dom_classes": [],
            "description": "",
            "_model_name": "HTMLModel",
            "placeholder": "​",
            "_view_module": "@jupyter-widgets/controls",
            "_model_module_version": "1.5.0",
            "value": "Downloading: 100%",
            "_view_count": null,
            "_view_module_version": "1.5.0",
            "description_tooltip": null,
            "_model_module": "@jupyter-widgets/controls",
            "layout": "IPY_MODEL_9f694c07b8dd46fa89e56328c45c7dcd"
          }
        },
        "5a1981b54d1347319e69a64e2fd8784e": {
          "model_module": "@jupyter-widgets/controls",
          "model_name": "FloatProgressModel",
          "model_module_version": "1.5.0",
          "state": {
            "_view_name": "ProgressView",
            "style": "IPY_MODEL_7db88d4cef894cc4b3a1495c468ca9e3",
            "_dom_classes": [],
            "description": "",
            "_model_name": "FloatProgressModel",
            "bar_style": "success",
            "max": 349,
            "_view_module": "@jupyter-widgets/controls",
            "_model_module_version": "1.5.0",
            "value": 349,
            "_view_count": null,
            "_view_module_version": "1.5.0",
            "orientation": "horizontal",
            "min": 0,
            "description_tooltip": null,
            "_model_module": "@jupyter-widgets/controls",
            "layout": "IPY_MODEL_da201a7b43b2411f954118ea1c5236be"
          }
        },
        "897bb998dd8446f3943316988cfe4249": {
          "model_module": "@jupyter-widgets/controls",
          "model_name": "HTMLModel",
          "model_module_version": "1.5.0",
          "state": {
            "_view_name": "HTMLView",
            "style": "IPY_MODEL_5d24bab58acc4df2995346531410cff4",
            "_dom_classes": [],
            "description": "",
            "_model_name": "HTMLModel",
            "placeholder": "​",
            "_view_module": "@jupyter-widgets/controls",
            "_model_module_version": "1.5.0",
            "value": " 349/349 [00:00&lt;00:00, 9.60kB/s]",
            "_view_count": null,
            "_view_module_version": "1.5.0",
            "description_tooltip": null,
            "_model_module": "@jupyter-widgets/controls",
            "layout": "IPY_MODEL_c4494abf56554dcb8f44b1692107df09"
          }
        },
        "6b6a399c23ae47ec967a5bc8a73651ef": {
          "model_module": "@jupyter-widgets/controls",
          "model_name": "DescriptionStyleModel",
          "model_module_version": "1.5.0",
          "state": {
            "_view_name": "StyleView",
            "_model_name": "DescriptionStyleModel",
            "description_width": "",
            "_view_module": "@jupyter-widgets/base",
            "_model_module_version": "1.5.0",
            "_view_count": null,
            "_view_module_version": "1.2.0",
            "_model_module": "@jupyter-widgets/controls"
          }
        },
        "9f694c07b8dd46fa89e56328c45c7dcd": {
          "model_module": "@jupyter-widgets/base",
          "model_name": "LayoutModel",
          "model_module_version": "1.2.0",
          "state": {
            "_view_name": "LayoutView",
            "grid_template_rows": null,
            "right": null,
            "justify_content": null,
            "_view_module": "@jupyter-widgets/base",
            "overflow": null,
            "_model_module_version": "1.2.0",
            "_view_count": null,
            "flex_flow": null,
            "width": null,
            "min_width": null,
            "border": null,
            "align_items": null,
            "bottom": null,
            "_model_module": "@jupyter-widgets/base",
            "top": null,
            "grid_column": null,
            "overflow_y": null,
            "overflow_x": null,
            "grid_auto_flow": null,
            "grid_area": null,
            "grid_template_columns": null,
            "flex": null,
            "_model_name": "LayoutModel",
            "justify_items": null,
            "grid_row": null,
            "max_height": null,
            "align_content": null,
            "visibility": null,
            "align_self": null,
            "height": null,
            "min_height": null,
            "padding": null,
            "grid_auto_rows": null,
            "grid_gap": null,
            "max_width": null,
            "order": null,
            "_view_module_version": "1.2.0",
            "grid_template_areas": null,
            "object_position": null,
            "object_fit": null,
            "grid_auto_columns": null,
            "margin": null,
            "display": null,
            "left": null
          }
        },
        "7db88d4cef894cc4b3a1495c468ca9e3": {
          "model_module": "@jupyter-widgets/controls",
          "model_name": "ProgressStyleModel",
          "model_module_version": "1.5.0",
          "state": {
            "_view_name": "StyleView",
            "_model_name": "ProgressStyleModel",
            "description_width": "",
            "_view_module": "@jupyter-widgets/base",
            "_model_module_version": "1.5.0",
            "_view_count": null,
            "_view_module_version": "1.2.0",
            "bar_color": null,
            "_model_module": "@jupyter-widgets/controls"
          }
        },
        "da201a7b43b2411f954118ea1c5236be": {
          "model_module": "@jupyter-widgets/base",
          "model_name": "LayoutModel",
          "model_module_version": "1.2.0",
          "state": {
            "_view_name": "LayoutView",
            "grid_template_rows": null,
            "right": null,
            "justify_content": null,
            "_view_module": "@jupyter-widgets/base",
            "overflow": null,
            "_model_module_version": "1.2.0",
            "_view_count": null,
            "flex_flow": null,
            "width": null,
            "min_width": null,
            "border": null,
            "align_items": null,
            "bottom": null,
            "_model_module": "@jupyter-widgets/base",
            "top": null,
            "grid_column": null,
            "overflow_y": null,
            "overflow_x": null,
            "grid_auto_flow": null,
            "grid_area": null,
            "grid_template_columns": null,
            "flex": null,
            "_model_name": "LayoutModel",
            "justify_items": null,
            "grid_row": null,
            "max_height": null,
            "align_content": null,
            "visibility": null,
            "align_self": null,
            "height": null,
            "min_height": null,
            "padding": null,
            "grid_auto_rows": null,
            "grid_gap": null,
            "max_width": null,
            "order": null,
            "_view_module_version": "1.2.0",
            "grid_template_areas": null,
            "object_position": null,
            "object_fit": null,
            "grid_auto_columns": null,
            "margin": null,
            "display": null,
            "left": null
          }
        },
        "5d24bab58acc4df2995346531410cff4": {
          "model_module": "@jupyter-widgets/controls",
          "model_name": "DescriptionStyleModel",
          "model_module_version": "1.5.0",
          "state": {
            "_view_name": "StyleView",
            "_model_name": "DescriptionStyleModel",
            "description_width": "",
            "_view_module": "@jupyter-widgets/base",
            "_model_module_version": "1.5.0",
            "_view_count": null,
            "_view_module_version": "1.2.0",
            "_model_module": "@jupyter-widgets/controls"
          }
        },
        "c4494abf56554dcb8f44b1692107df09": {
          "model_module": "@jupyter-widgets/base",
          "model_name": "LayoutModel",
          "model_module_version": "1.2.0",
          "state": {
            "_view_name": "LayoutView",
            "grid_template_rows": null,
            "right": null,
            "justify_content": null,
            "_view_module": "@jupyter-widgets/base",
            "overflow": null,
            "_model_module_version": "1.2.0",
            "_view_count": null,
            "flex_flow": null,
            "width": null,
            "min_width": null,
            "border": null,
            "align_items": null,
            "bottom": null,
            "_model_module": "@jupyter-widgets/base",
            "top": null,
            "grid_column": null,
            "overflow_y": null,
            "overflow_x": null,
            "grid_auto_flow": null,
            "grid_area": null,
            "grid_template_columns": null,
            "flex": null,
            "_model_name": "LayoutModel",
            "justify_items": null,
            "grid_row": null,
            "max_height": null,
            "align_content": null,
            "visibility": null,
            "align_self": null,
            "height": null,
            "min_height": null,
            "padding": null,
            "grid_auto_rows": null,
            "grid_gap": null,
            "max_width": null,
            "order": null,
            "_view_module_version": "1.2.0",
            "grid_template_areas": null,
            "object_position": null,
            "object_fit": null,
            "grid_auto_columns": null,
            "margin": null,
            "display": null,
            "left": null
          }
        },
        "920f1ed6553e434186a43472a1b7bbd9": {
          "model_module": "@jupyter-widgets/controls",
          "model_name": "HBoxModel",
          "model_module_version": "1.5.0",
          "state": {
            "_view_name": "HBoxView",
            "_dom_classes": [],
            "_model_name": "HBoxModel",
            "_view_module": "@jupyter-widgets/controls",
            "_model_module_version": "1.5.0",
            "_view_count": null,
            "_view_module_version": "1.5.0",
            "box_style": "",
            "layout": "IPY_MODEL_045acb564b5745529e6eb6766efa20ac",
            "_model_module": "@jupyter-widgets/controls",
            "children": [
              "IPY_MODEL_1eb2bba5e20142b382c88e16c402c0be",
              "IPY_MODEL_a8baf5c57a5847ff8351cb3e1cb4a546",
              "IPY_MODEL_2d2244e698c944ac8f295cd6a0c7c9ce"
            ]
          }
        },
        "045acb564b5745529e6eb6766efa20ac": {
          "model_module": "@jupyter-widgets/base",
          "model_name": "LayoutModel",
          "model_module_version": "1.2.0",
          "state": {
            "_view_name": "LayoutView",
            "grid_template_rows": null,
            "right": null,
            "justify_content": null,
            "_view_module": "@jupyter-widgets/base",
            "overflow": null,
            "_model_module_version": "1.2.0",
            "_view_count": null,
            "flex_flow": null,
            "width": null,
            "min_width": null,
            "border": null,
            "align_items": null,
            "bottom": null,
            "_model_module": "@jupyter-widgets/base",
            "top": null,
            "grid_column": null,
            "overflow_y": null,
            "overflow_x": null,
            "grid_auto_flow": null,
            "grid_area": null,
            "grid_template_columns": null,
            "flex": null,
            "_model_name": "LayoutModel",
            "justify_items": null,
            "grid_row": null,
            "max_height": null,
            "align_content": null,
            "visibility": null,
            "align_self": null,
            "height": null,
            "min_height": null,
            "padding": null,
            "grid_auto_rows": null,
            "grid_gap": null,
            "max_width": null,
            "order": null,
            "_view_module_version": "1.2.0",
            "grid_template_areas": null,
            "object_position": null,
            "object_fit": null,
            "grid_auto_columns": null,
            "margin": null,
            "display": null,
            "left": null
          }
        },
        "1eb2bba5e20142b382c88e16c402c0be": {
          "model_module": "@jupyter-widgets/controls",
          "model_name": "HTMLModel",
          "model_module_version": "1.5.0",
          "state": {
            "_view_name": "HTMLView",
            "style": "IPY_MODEL_c4e76432e9eb4dca8145f3fc56e4bd13",
            "_dom_classes": [],
            "description": "",
            "_model_name": "HTMLModel",
            "placeholder": "​",
            "_view_module": "@jupyter-widgets/controls",
            "_model_module_version": "1.5.0",
            "value": "Downloading: 100%",
            "_view_count": null,
            "_view_module_version": "1.5.0",
            "description_tooltip": null,
            "_model_module": "@jupyter-widgets/controls",
            "layout": "IPY_MODEL_53a6835cbdca41f096643aba50c58421"
          }
        },
        "a8baf5c57a5847ff8351cb3e1cb4a546": {
          "model_module": "@jupyter-widgets/controls",
          "model_name": "FloatProgressModel",
          "model_module_version": "1.5.0",
          "state": {
            "_view_name": "ProgressView",
            "style": "IPY_MODEL_9dfd0134548948139e48cd6aa065935b",
            "_dom_classes": [],
            "description": "",
            "_model_name": "FloatProgressModel",
            "bar_style": "success",
            "max": 90888945,
            "_view_module": "@jupyter-widgets/controls",
            "_model_module_version": "1.5.0",
            "value": 90888945,
            "_view_count": null,
            "_view_module_version": "1.5.0",
            "orientation": "horizontal",
            "min": 0,
            "description_tooltip": null,
            "_model_module": "@jupyter-widgets/controls",
            "layout": "IPY_MODEL_300cb78fa1f74892a5c3d209cd47d7f7"
          }
        },
        "2d2244e698c944ac8f295cd6a0c7c9ce": {
          "model_module": "@jupyter-widgets/controls",
          "model_name": "HTMLModel",
          "model_module_version": "1.5.0",
          "state": {
            "_view_name": "HTMLView",
            "style": "IPY_MODEL_76d6bc338d194ab7858b9748585075d6",
            "_dom_classes": [],
            "description": "",
            "_model_name": "HTMLModel",
            "placeholder": "​",
            "_view_module": "@jupyter-widgets/controls",
            "_model_module_version": "1.5.0",
            "value": " 90.9M/90.9M [00:04&lt;00:00, 36.1MB/s]",
            "_view_count": null,
            "_view_module_version": "1.5.0",
            "description_tooltip": null,
            "_model_module": "@jupyter-widgets/controls",
            "layout": "IPY_MODEL_08d1185ae7ce4952b9094cbbcdd2c5fe"
          }
        },
        "c4e76432e9eb4dca8145f3fc56e4bd13": {
          "model_module": "@jupyter-widgets/controls",
          "model_name": "DescriptionStyleModel",
          "model_module_version": "1.5.0",
          "state": {
            "_view_name": "StyleView",
            "_model_name": "DescriptionStyleModel",
            "description_width": "",
            "_view_module": "@jupyter-widgets/base",
            "_model_module_version": "1.5.0",
            "_view_count": null,
            "_view_module_version": "1.2.0",
            "_model_module": "@jupyter-widgets/controls"
          }
        },
        "53a6835cbdca41f096643aba50c58421": {
          "model_module": "@jupyter-widgets/base",
          "model_name": "LayoutModel",
          "model_module_version": "1.2.0",
          "state": {
            "_view_name": "LayoutView",
            "grid_template_rows": null,
            "right": null,
            "justify_content": null,
            "_view_module": "@jupyter-widgets/base",
            "overflow": null,
            "_model_module_version": "1.2.0",
            "_view_count": null,
            "flex_flow": null,
            "width": null,
            "min_width": null,
            "border": null,
            "align_items": null,
            "bottom": null,
            "_model_module": "@jupyter-widgets/base",
            "top": null,
            "grid_column": null,
            "overflow_y": null,
            "overflow_x": null,
            "grid_auto_flow": null,
            "grid_area": null,
            "grid_template_columns": null,
            "flex": null,
            "_model_name": "LayoutModel",
            "justify_items": null,
            "grid_row": null,
            "max_height": null,
            "align_content": null,
            "visibility": null,
            "align_self": null,
            "height": null,
            "min_height": null,
            "padding": null,
            "grid_auto_rows": null,
            "grid_gap": null,
            "max_width": null,
            "order": null,
            "_view_module_version": "1.2.0",
            "grid_template_areas": null,
            "object_position": null,
            "object_fit": null,
            "grid_auto_columns": null,
            "margin": null,
            "display": null,
            "left": null
          }
        },
        "9dfd0134548948139e48cd6aa065935b": {
          "model_module": "@jupyter-widgets/controls",
          "model_name": "ProgressStyleModel",
          "model_module_version": "1.5.0",
          "state": {
            "_view_name": "StyleView",
            "_model_name": "ProgressStyleModel",
            "description_width": "",
            "_view_module": "@jupyter-widgets/base",
            "_model_module_version": "1.5.0",
            "_view_count": null,
            "_view_module_version": "1.2.0",
            "bar_color": null,
            "_model_module": "@jupyter-widgets/controls"
          }
        },
        "300cb78fa1f74892a5c3d209cd47d7f7": {
          "model_module": "@jupyter-widgets/base",
          "model_name": "LayoutModel",
          "model_module_version": "1.2.0",
          "state": {
            "_view_name": "LayoutView",
            "grid_template_rows": null,
            "right": null,
            "justify_content": null,
            "_view_module": "@jupyter-widgets/base",
            "overflow": null,
            "_model_module_version": "1.2.0",
            "_view_count": null,
            "flex_flow": null,
            "width": null,
            "min_width": null,
            "border": null,
            "align_items": null,
            "bottom": null,
            "_model_module": "@jupyter-widgets/base",
            "top": null,
            "grid_column": null,
            "overflow_y": null,
            "overflow_x": null,
            "grid_auto_flow": null,
            "grid_area": null,
            "grid_template_columns": null,
            "flex": null,
            "_model_name": "LayoutModel",
            "justify_items": null,
            "grid_row": null,
            "max_height": null,
            "align_content": null,
            "visibility": null,
            "align_self": null,
            "height": null,
            "min_height": null,
            "padding": null,
            "grid_auto_rows": null,
            "grid_gap": null,
            "max_width": null,
            "order": null,
            "_view_module_version": "1.2.0",
            "grid_template_areas": null,
            "object_position": null,
            "object_fit": null,
            "grid_auto_columns": null,
            "margin": null,
            "display": null,
            "left": null
          }
        },
        "76d6bc338d194ab7858b9748585075d6": {
          "model_module": "@jupyter-widgets/controls",
          "model_name": "DescriptionStyleModel",
          "model_module_version": "1.5.0",
          "state": {
            "_view_name": "StyleView",
            "_model_name": "DescriptionStyleModel",
            "description_width": "",
            "_view_module": "@jupyter-widgets/base",
            "_model_module_version": "1.5.0",
            "_view_count": null,
            "_view_module_version": "1.2.0",
            "_model_module": "@jupyter-widgets/controls"
          }
        },
        "08d1185ae7ce4952b9094cbbcdd2c5fe": {
          "model_module": "@jupyter-widgets/base",
          "model_name": "LayoutModel",
          "model_module_version": "1.2.0",
          "state": {
            "_view_name": "LayoutView",
            "grid_template_rows": null,
            "right": null,
            "justify_content": null,
            "_view_module": "@jupyter-widgets/base",
            "overflow": null,
            "_model_module_version": "1.2.0",
            "_view_count": null,
            "flex_flow": null,
            "width": null,
            "min_width": null,
            "border": null,
            "align_items": null,
            "bottom": null,
            "_model_module": "@jupyter-widgets/base",
            "top": null,
            "grid_column": null,
            "overflow_y": null,
            "overflow_x": null,
            "grid_auto_flow": null,
            "grid_area": null,
            "grid_template_columns": null,
            "flex": null,
            "_model_name": "LayoutModel",
            "justify_items": null,
            "grid_row": null,
            "max_height": null,
            "align_content": null,
            "visibility": null,
            "align_self": null,
            "height": null,
            "min_height": null,
            "padding": null,
            "grid_auto_rows": null,
            "grid_gap": null,
            "max_width": null,
            "order": null,
            "_view_module_version": "1.2.0",
            "grid_template_areas": null,
            "object_position": null,
            "object_fit": null,
            "grid_auto_columns": null,
            "margin": null,
            "display": null,
            "left": null
          }
        },
        "3767539bac004840886e8a01343ec5f1": {
          "model_module": "@jupyter-widgets/controls",
          "model_name": "HBoxModel",
          "model_module_version": "1.5.0",
          "state": {
            "_view_name": "HBoxView",
            "_dom_classes": [],
            "_model_name": "HBoxModel",
            "_view_module": "@jupyter-widgets/controls",
            "_model_module_version": "1.5.0",
            "_view_count": null,
            "_view_module_version": "1.5.0",
            "box_style": "",
            "layout": "IPY_MODEL_07846e18175c428da5078418b6008224",
            "_model_module": "@jupyter-widgets/controls",
            "children": [
              "IPY_MODEL_85fc43637b424eb9809513870ce9b6e4",
              "IPY_MODEL_578ea2de15a64bc2a97cfc07fbdfa427",
              "IPY_MODEL_604fa282c48d47489295844648e25b3f"
            ]
          }
        },
        "07846e18175c428da5078418b6008224": {
          "model_module": "@jupyter-widgets/base",
          "model_name": "LayoutModel",
          "model_module_version": "1.2.0",
          "state": {
            "_view_name": "LayoutView",
            "grid_template_rows": null,
            "right": null,
            "justify_content": null,
            "_view_module": "@jupyter-widgets/base",
            "overflow": null,
            "_model_module_version": "1.2.0",
            "_view_count": null,
            "flex_flow": null,
            "width": null,
            "min_width": null,
            "border": null,
            "align_items": null,
            "bottom": null,
            "_model_module": "@jupyter-widgets/base",
            "top": null,
            "grid_column": null,
            "overflow_y": null,
            "overflow_x": null,
            "grid_auto_flow": null,
            "grid_area": null,
            "grid_template_columns": null,
            "flex": null,
            "_model_name": "LayoutModel",
            "justify_items": null,
            "grid_row": null,
            "max_height": null,
            "align_content": null,
            "visibility": null,
            "align_self": null,
            "height": null,
            "min_height": null,
            "padding": null,
            "grid_auto_rows": null,
            "grid_gap": null,
            "max_width": null,
            "order": null,
            "_view_module_version": "1.2.0",
            "grid_template_areas": null,
            "object_position": null,
            "object_fit": null,
            "grid_auto_columns": null,
            "margin": null,
            "display": null,
            "left": null
          }
        },
        "85fc43637b424eb9809513870ce9b6e4": {
          "model_module": "@jupyter-widgets/controls",
          "model_name": "HTMLModel",
          "model_module_version": "1.5.0",
          "state": {
            "_view_name": "HTMLView",
            "style": "IPY_MODEL_93ec8f0b8c404730937ac42fb464c01e",
            "_dom_classes": [],
            "description": "",
            "_model_name": "HTMLModel",
            "placeholder": "​",
            "_view_module": "@jupyter-widgets/controls",
            "_model_module_version": "1.5.0",
            "value": "Downloading: 100%",
            "_view_count": null,
            "_view_module_version": "1.5.0",
            "description_tooltip": null,
            "_model_module": "@jupyter-widgets/controls",
            "layout": "IPY_MODEL_60dadec2b1b8483fbc78536410420d96"
          }
        },
        "578ea2de15a64bc2a97cfc07fbdfa427": {
          "model_module": "@jupyter-widgets/controls",
          "model_name": "FloatProgressModel",
          "model_module_version": "1.5.0",
          "state": {
            "_view_name": "ProgressView",
            "style": "IPY_MODEL_1d93f36706fa47d2b7334717a79c2819",
            "_dom_classes": [],
            "description": "",
            "_model_name": "FloatProgressModel",
            "bar_style": "success",
            "max": 53,
            "_view_module": "@jupyter-widgets/controls",
            "_model_module_version": "1.5.0",
            "value": 53,
            "_view_count": null,
            "_view_module_version": "1.5.0",
            "orientation": "horizontal",
            "min": 0,
            "description_tooltip": null,
            "_model_module": "@jupyter-widgets/controls",
            "layout": "IPY_MODEL_2925bc925f754d399c8486cac9400560"
          }
        },
        "604fa282c48d47489295844648e25b3f": {
          "model_module": "@jupyter-widgets/controls",
          "model_name": "HTMLModel",
          "model_module_version": "1.5.0",
          "state": {
            "_view_name": "HTMLView",
            "style": "IPY_MODEL_d890f566f29d4d729d8055d7b0eee826",
            "_dom_classes": [],
            "description": "",
            "_model_name": "HTMLModel",
            "placeholder": "​",
            "_view_module": "@jupyter-widgets/controls",
            "_model_module_version": "1.5.0",
            "value": " 53.0/53.0 [00:00&lt;00:00, 1.07kB/s]",
            "_view_count": null,
            "_view_module_version": "1.5.0",
            "description_tooltip": null,
            "_model_module": "@jupyter-widgets/controls",
            "layout": "IPY_MODEL_3698d04d63bb40139bb616e9d8a8e154"
          }
        },
        "93ec8f0b8c404730937ac42fb464c01e": {
          "model_module": "@jupyter-widgets/controls",
          "model_name": "DescriptionStyleModel",
          "model_module_version": "1.5.0",
          "state": {
            "_view_name": "StyleView",
            "_model_name": "DescriptionStyleModel",
            "description_width": "",
            "_view_module": "@jupyter-widgets/base",
            "_model_module_version": "1.5.0",
            "_view_count": null,
            "_view_module_version": "1.2.0",
            "_model_module": "@jupyter-widgets/controls"
          }
        },
        "60dadec2b1b8483fbc78536410420d96": {
          "model_module": "@jupyter-widgets/base",
          "model_name": "LayoutModel",
          "model_module_version": "1.2.0",
          "state": {
            "_view_name": "LayoutView",
            "grid_template_rows": null,
            "right": null,
            "justify_content": null,
            "_view_module": "@jupyter-widgets/base",
            "overflow": null,
            "_model_module_version": "1.2.0",
            "_view_count": null,
            "flex_flow": null,
            "width": null,
            "min_width": null,
            "border": null,
            "align_items": null,
            "bottom": null,
            "_model_module": "@jupyter-widgets/base",
            "top": null,
            "grid_column": null,
            "overflow_y": null,
            "overflow_x": null,
            "grid_auto_flow": null,
            "grid_area": null,
            "grid_template_columns": null,
            "flex": null,
            "_model_name": "LayoutModel",
            "justify_items": null,
            "grid_row": null,
            "max_height": null,
            "align_content": null,
            "visibility": null,
            "align_self": null,
            "height": null,
            "min_height": null,
            "padding": null,
            "grid_auto_rows": null,
            "grid_gap": null,
            "max_width": null,
            "order": null,
            "_view_module_version": "1.2.0",
            "grid_template_areas": null,
            "object_position": null,
            "object_fit": null,
            "grid_auto_columns": null,
            "margin": null,
            "display": null,
            "left": null
          }
        },
        "1d93f36706fa47d2b7334717a79c2819": {
          "model_module": "@jupyter-widgets/controls",
          "model_name": "ProgressStyleModel",
          "model_module_version": "1.5.0",
          "state": {
            "_view_name": "StyleView",
            "_model_name": "ProgressStyleModel",
            "description_width": "",
            "_view_module": "@jupyter-widgets/base",
            "_model_module_version": "1.5.0",
            "_view_count": null,
            "_view_module_version": "1.2.0",
            "bar_color": null,
            "_model_module": "@jupyter-widgets/controls"
          }
        },
        "2925bc925f754d399c8486cac9400560": {
          "model_module": "@jupyter-widgets/base",
          "model_name": "LayoutModel",
          "model_module_version": "1.2.0",
          "state": {
            "_view_name": "LayoutView",
            "grid_template_rows": null,
            "right": null,
            "justify_content": null,
            "_view_module": "@jupyter-widgets/base",
            "overflow": null,
            "_model_module_version": "1.2.0",
            "_view_count": null,
            "flex_flow": null,
            "width": null,
            "min_width": null,
            "border": null,
            "align_items": null,
            "bottom": null,
            "_model_module": "@jupyter-widgets/base",
            "top": null,
            "grid_column": null,
            "overflow_y": null,
            "overflow_x": null,
            "grid_auto_flow": null,
            "grid_area": null,
            "grid_template_columns": null,
            "flex": null,
            "_model_name": "LayoutModel",
            "justify_items": null,
            "grid_row": null,
            "max_height": null,
            "align_content": null,
            "visibility": null,
            "align_self": null,
            "height": null,
            "min_height": null,
            "padding": null,
            "grid_auto_rows": null,
            "grid_gap": null,
            "max_width": null,
            "order": null,
            "_view_module_version": "1.2.0",
            "grid_template_areas": null,
            "object_position": null,
            "object_fit": null,
            "grid_auto_columns": null,
            "margin": null,
            "display": null,
            "left": null
          }
        },
        "d890f566f29d4d729d8055d7b0eee826": {
          "model_module": "@jupyter-widgets/controls",
          "model_name": "DescriptionStyleModel",
          "model_module_version": "1.5.0",
          "state": {
            "_view_name": "StyleView",
            "_model_name": "DescriptionStyleModel",
            "description_width": "",
            "_view_module": "@jupyter-widgets/base",
            "_model_module_version": "1.5.0",
            "_view_count": null,
            "_view_module_version": "1.2.0",
            "_model_module": "@jupyter-widgets/controls"
          }
        },
        "3698d04d63bb40139bb616e9d8a8e154": {
          "model_module": "@jupyter-widgets/base",
          "model_name": "LayoutModel",
          "model_module_version": "1.2.0",
          "state": {
            "_view_name": "LayoutView",
            "grid_template_rows": null,
            "right": null,
            "justify_content": null,
            "_view_module": "@jupyter-widgets/base",
            "overflow": null,
            "_model_module_version": "1.2.0",
            "_view_count": null,
            "flex_flow": null,
            "width": null,
            "min_width": null,
            "border": null,
            "align_items": null,
            "bottom": null,
            "_model_module": "@jupyter-widgets/base",
            "top": null,
            "grid_column": null,
            "overflow_y": null,
            "overflow_x": null,
            "grid_auto_flow": null,
            "grid_area": null,
            "grid_template_columns": null,
            "flex": null,
            "_model_name": "LayoutModel",
            "justify_items": null,
            "grid_row": null,
            "max_height": null,
            "align_content": null,
            "visibility": null,
            "align_self": null,
            "height": null,
            "min_height": null,
            "padding": null,
            "grid_auto_rows": null,
            "grid_gap": null,
            "max_width": null,
            "order": null,
            "_view_module_version": "1.2.0",
            "grid_template_areas": null,
            "object_position": null,
            "object_fit": null,
            "grid_auto_columns": null,
            "margin": null,
            "display": null,
            "left": null
          }
        },
        "8cffad84bae54ce6907a187b8101116e": {
          "model_module": "@jupyter-widgets/controls",
          "model_name": "HBoxModel",
          "model_module_version": "1.5.0",
          "state": {
            "_view_name": "HBoxView",
            "_dom_classes": [],
            "_model_name": "HBoxModel",
            "_view_module": "@jupyter-widgets/controls",
            "_model_module_version": "1.5.0",
            "_view_count": null,
            "_view_module_version": "1.5.0",
            "box_style": "",
            "layout": "IPY_MODEL_3be66c345a8b4b4d8a9ee0514ed9964e",
            "_model_module": "@jupyter-widgets/controls",
            "children": [
              "IPY_MODEL_6d5a15ecee704b8f96ec195b5f1a2702",
              "IPY_MODEL_78e0bbd7e9224686a731fd3f2d8bdf98",
              "IPY_MODEL_d9ca690271cc495cab6ca983793f0d48"
            ]
          }
        },
        "3be66c345a8b4b4d8a9ee0514ed9964e": {
          "model_module": "@jupyter-widgets/base",
          "model_name": "LayoutModel",
          "model_module_version": "1.2.0",
          "state": {
            "_view_name": "LayoutView",
            "grid_template_rows": null,
            "right": null,
            "justify_content": null,
            "_view_module": "@jupyter-widgets/base",
            "overflow": null,
            "_model_module_version": "1.2.0",
            "_view_count": null,
            "flex_flow": null,
            "width": null,
            "min_width": null,
            "border": null,
            "align_items": null,
            "bottom": null,
            "_model_module": "@jupyter-widgets/base",
            "top": null,
            "grid_column": null,
            "overflow_y": null,
            "overflow_x": null,
            "grid_auto_flow": null,
            "grid_area": null,
            "grid_template_columns": null,
            "flex": null,
            "_model_name": "LayoutModel",
            "justify_items": null,
            "grid_row": null,
            "max_height": null,
            "align_content": null,
            "visibility": null,
            "align_self": null,
            "height": null,
            "min_height": null,
            "padding": null,
            "grid_auto_rows": null,
            "grid_gap": null,
            "max_width": null,
            "order": null,
            "_view_module_version": "1.2.0",
            "grid_template_areas": null,
            "object_position": null,
            "object_fit": null,
            "grid_auto_columns": null,
            "margin": null,
            "display": null,
            "left": null
          }
        },
        "6d5a15ecee704b8f96ec195b5f1a2702": {
          "model_module": "@jupyter-widgets/controls",
          "model_name": "HTMLModel",
          "model_module_version": "1.5.0",
          "state": {
            "_view_name": "HTMLView",
            "style": "IPY_MODEL_982a3a9d4c3c4297b2bdba0e91ff13b8",
            "_dom_classes": [],
            "description": "",
            "_model_name": "HTMLModel",
            "placeholder": "​",
            "_view_module": "@jupyter-widgets/controls",
            "_model_module_version": "1.5.0",
            "value": "Downloading: 100%",
            "_view_count": null,
            "_view_module_version": "1.5.0",
            "description_tooltip": null,
            "_model_module": "@jupyter-widgets/controls",
            "layout": "IPY_MODEL_f273de5673de486598fa27977f0078d5"
          }
        },
        "78e0bbd7e9224686a731fd3f2d8bdf98": {
          "model_module": "@jupyter-widgets/controls",
          "model_name": "FloatProgressModel",
          "model_module_version": "1.5.0",
          "state": {
            "_view_name": "ProgressView",
            "style": "IPY_MODEL_30d550a9e6f448c19bc972f0fec79875",
            "_dom_classes": [],
            "description": "",
            "_model_name": "FloatProgressModel",
            "bar_style": "success",
            "max": 112,
            "_view_module": "@jupyter-widgets/controls",
            "_model_module_version": "1.5.0",
            "value": 112,
            "_view_count": null,
            "_view_module_version": "1.5.0",
            "orientation": "horizontal",
            "min": 0,
            "description_tooltip": null,
            "_model_module": "@jupyter-widgets/controls",
            "layout": "IPY_MODEL_d4108a89dd9445fc9a5356fb86bddb19"
          }
        },
        "d9ca690271cc495cab6ca983793f0d48": {
          "model_module": "@jupyter-widgets/controls",
          "model_name": "HTMLModel",
          "model_module_version": "1.5.0",
          "state": {
            "_view_name": "HTMLView",
            "style": "IPY_MODEL_9f287fb26837431d937cd056c9e8b3e1",
            "_dom_classes": [],
            "description": "",
            "_model_name": "HTMLModel",
            "placeholder": "​",
            "_view_module": "@jupyter-widgets/controls",
            "_model_module_version": "1.5.0",
            "value": " 112/112 [00:00&lt;00:00, 3.33kB/s]",
            "_view_count": null,
            "_view_module_version": "1.5.0",
            "description_tooltip": null,
            "_model_module": "@jupyter-widgets/controls",
            "layout": "IPY_MODEL_f0572ba76ef848b1b1e8e05ebdeabeab"
          }
        },
        "982a3a9d4c3c4297b2bdba0e91ff13b8": {
          "model_module": "@jupyter-widgets/controls",
          "model_name": "DescriptionStyleModel",
          "model_module_version": "1.5.0",
          "state": {
            "_view_name": "StyleView",
            "_model_name": "DescriptionStyleModel",
            "description_width": "",
            "_view_module": "@jupyter-widgets/base",
            "_model_module_version": "1.5.0",
            "_view_count": null,
            "_view_module_version": "1.2.0",
            "_model_module": "@jupyter-widgets/controls"
          }
        },
        "f273de5673de486598fa27977f0078d5": {
          "model_module": "@jupyter-widgets/base",
          "model_name": "LayoutModel",
          "model_module_version": "1.2.0",
          "state": {
            "_view_name": "LayoutView",
            "grid_template_rows": null,
            "right": null,
            "justify_content": null,
            "_view_module": "@jupyter-widgets/base",
            "overflow": null,
            "_model_module_version": "1.2.0",
            "_view_count": null,
            "flex_flow": null,
            "width": null,
            "min_width": null,
            "border": null,
            "align_items": null,
            "bottom": null,
            "_model_module": "@jupyter-widgets/base",
            "top": null,
            "grid_column": null,
            "overflow_y": null,
            "overflow_x": null,
            "grid_auto_flow": null,
            "grid_area": null,
            "grid_template_columns": null,
            "flex": null,
            "_model_name": "LayoutModel",
            "justify_items": null,
            "grid_row": null,
            "max_height": null,
            "align_content": null,
            "visibility": null,
            "align_self": null,
            "height": null,
            "min_height": null,
            "padding": null,
            "grid_auto_rows": null,
            "grid_gap": null,
            "max_width": null,
            "order": null,
            "_view_module_version": "1.2.0",
            "grid_template_areas": null,
            "object_position": null,
            "object_fit": null,
            "grid_auto_columns": null,
            "margin": null,
            "display": null,
            "left": null
          }
        },
        "30d550a9e6f448c19bc972f0fec79875": {
          "model_module": "@jupyter-widgets/controls",
          "model_name": "ProgressStyleModel",
          "model_module_version": "1.5.0",
          "state": {
            "_view_name": "StyleView",
            "_model_name": "ProgressStyleModel",
            "description_width": "",
            "_view_module": "@jupyter-widgets/base",
            "_model_module_version": "1.5.0",
            "_view_count": null,
            "_view_module_version": "1.2.0",
            "bar_color": null,
            "_model_module": "@jupyter-widgets/controls"
          }
        },
        "d4108a89dd9445fc9a5356fb86bddb19": {
          "model_module": "@jupyter-widgets/base",
          "model_name": "LayoutModel",
          "model_module_version": "1.2.0",
          "state": {
            "_view_name": "LayoutView",
            "grid_template_rows": null,
            "right": null,
            "justify_content": null,
            "_view_module": "@jupyter-widgets/base",
            "overflow": null,
            "_model_module_version": "1.2.0",
            "_view_count": null,
            "flex_flow": null,
            "width": null,
            "min_width": null,
            "border": null,
            "align_items": null,
            "bottom": null,
            "_model_module": "@jupyter-widgets/base",
            "top": null,
            "grid_column": null,
            "overflow_y": null,
            "overflow_x": null,
            "grid_auto_flow": null,
            "grid_area": null,
            "grid_template_columns": null,
            "flex": null,
            "_model_name": "LayoutModel",
            "justify_items": null,
            "grid_row": null,
            "max_height": null,
            "align_content": null,
            "visibility": null,
            "align_self": null,
            "height": null,
            "min_height": null,
            "padding": null,
            "grid_auto_rows": null,
            "grid_gap": null,
            "max_width": null,
            "order": null,
            "_view_module_version": "1.2.0",
            "grid_template_areas": null,
            "object_position": null,
            "object_fit": null,
            "grid_auto_columns": null,
            "margin": null,
            "display": null,
            "left": null
          }
        },
        "9f287fb26837431d937cd056c9e8b3e1": {
          "model_module": "@jupyter-widgets/controls",
          "model_name": "DescriptionStyleModel",
          "model_module_version": "1.5.0",
          "state": {
            "_view_name": "StyleView",
            "_model_name": "DescriptionStyleModel",
            "description_width": "",
            "_view_module": "@jupyter-widgets/base",
            "_model_module_version": "1.5.0",
            "_view_count": null,
            "_view_module_version": "1.2.0",
            "_model_module": "@jupyter-widgets/controls"
          }
        },
        "f0572ba76ef848b1b1e8e05ebdeabeab": {
          "model_module": "@jupyter-widgets/base",
          "model_name": "LayoutModel",
          "model_module_version": "1.2.0",
          "state": {
            "_view_name": "LayoutView",
            "grid_template_rows": null,
            "right": null,
            "justify_content": null,
            "_view_module": "@jupyter-widgets/base",
            "overflow": null,
            "_model_module_version": "1.2.0",
            "_view_count": null,
            "flex_flow": null,
            "width": null,
            "min_width": null,
            "border": null,
            "align_items": null,
            "bottom": null,
            "_model_module": "@jupyter-widgets/base",
            "top": null,
            "grid_column": null,
            "overflow_y": null,
            "overflow_x": null,
            "grid_auto_flow": null,
            "grid_area": null,
            "grid_template_columns": null,
            "flex": null,
            "_model_name": "LayoutModel",
            "justify_items": null,
            "grid_row": null,
            "max_height": null,
            "align_content": null,
            "visibility": null,
            "align_self": null,
            "height": null,
            "min_height": null,
            "padding": null,
            "grid_auto_rows": null,
            "grid_gap": null,
            "max_width": null,
            "order": null,
            "_view_module_version": "1.2.0",
            "grid_template_areas": null,
            "object_position": null,
            "object_fit": null,
            "grid_auto_columns": null,
            "margin": null,
            "display": null,
            "left": null
          }
        },
        "9b1efd19c4664687913a2ea599c155a7": {
          "model_module": "@jupyter-widgets/controls",
          "model_name": "HBoxModel",
          "model_module_version": "1.5.0",
          "state": {
            "_view_name": "HBoxView",
            "_dom_classes": [],
            "_model_name": "HBoxModel",
            "_view_module": "@jupyter-widgets/controls",
            "_model_module_version": "1.5.0",
            "_view_count": null,
            "_view_module_version": "1.5.0",
            "box_style": "",
            "layout": "IPY_MODEL_c928abf65df4494dbe9142693f0de943",
            "_model_module": "@jupyter-widgets/controls",
            "children": [
              "IPY_MODEL_a00c337b284044a6bcb402f5b5136e5a",
              "IPY_MODEL_81cf0a92d46f49bab9831227a5d0de92",
              "IPY_MODEL_4be017b748554e2a804492404c156b85"
            ]
          }
        },
        "c928abf65df4494dbe9142693f0de943": {
          "model_module": "@jupyter-widgets/base",
          "model_name": "LayoutModel",
          "model_module_version": "1.2.0",
          "state": {
            "_view_name": "LayoutView",
            "grid_template_rows": null,
            "right": null,
            "justify_content": null,
            "_view_module": "@jupyter-widgets/base",
            "overflow": null,
            "_model_module_version": "1.2.0",
            "_view_count": null,
            "flex_flow": null,
            "width": null,
            "min_width": null,
            "border": null,
            "align_items": null,
            "bottom": null,
            "_model_module": "@jupyter-widgets/base",
            "top": null,
            "grid_column": null,
            "overflow_y": null,
            "overflow_x": null,
            "grid_auto_flow": null,
            "grid_area": null,
            "grid_template_columns": null,
            "flex": null,
            "_model_name": "LayoutModel",
            "justify_items": null,
            "grid_row": null,
            "max_height": null,
            "align_content": null,
            "visibility": null,
            "align_self": null,
            "height": null,
            "min_height": null,
            "padding": null,
            "grid_auto_rows": null,
            "grid_gap": null,
            "max_width": null,
            "order": null,
            "_view_module_version": "1.2.0",
            "grid_template_areas": null,
            "object_position": null,
            "object_fit": null,
            "grid_auto_columns": null,
            "margin": null,
            "display": null,
            "left": null
          }
        },
        "a00c337b284044a6bcb402f5b5136e5a": {
          "model_module": "@jupyter-widgets/controls",
          "model_name": "HTMLModel",
          "model_module_version": "1.5.0",
          "state": {
            "_view_name": "HTMLView",
            "style": "IPY_MODEL_e6d45ea2b4e24f259f0225fbd3d7a554",
            "_dom_classes": [],
            "description": "",
            "_model_name": "HTMLModel",
            "placeholder": "​",
            "_view_module": "@jupyter-widgets/controls",
            "_model_module_version": "1.5.0",
            "value": "Downloading: 100%",
            "_view_count": null,
            "_view_module_version": "1.5.0",
            "description_tooltip": null,
            "_model_module": "@jupyter-widgets/controls",
            "layout": "IPY_MODEL_eb39c6d11a5f4827b155573653013b88"
          }
        },
        "81cf0a92d46f49bab9831227a5d0de92": {
          "model_module": "@jupyter-widgets/controls",
          "model_name": "FloatProgressModel",
          "model_module_version": "1.5.0",
          "state": {
            "_view_name": "ProgressView",
            "style": "IPY_MODEL_c163cb565e304d26a8de2a09c74097cd",
            "_dom_classes": [],
            "description": "",
            "_model_name": "FloatProgressModel",
            "bar_style": "success",
            "max": 466247,
            "_view_module": "@jupyter-widgets/controls",
            "_model_module_version": "1.5.0",
            "value": 466247,
            "_view_count": null,
            "_view_module_version": "1.5.0",
            "orientation": "horizontal",
            "min": 0,
            "description_tooltip": null,
            "_model_module": "@jupyter-widgets/controls",
            "layout": "IPY_MODEL_55cbfe2bea6146f6a2d39634af45fdf4"
          }
        },
        "4be017b748554e2a804492404c156b85": {
          "model_module": "@jupyter-widgets/controls",
          "model_name": "HTMLModel",
          "model_module_version": "1.5.0",
          "state": {
            "_view_name": "HTMLView",
            "style": "IPY_MODEL_78297833928c4bbaae398d5ad9bdb5e3",
            "_dom_classes": [],
            "description": "",
            "_model_name": "HTMLModel",
            "placeholder": "​",
            "_view_module": "@jupyter-widgets/controls",
            "_model_module_version": "1.5.0",
            "value": " 466k/466k [00:00&lt;00:00, 901kB/s]",
            "_view_count": null,
            "_view_module_version": "1.5.0",
            "description_tooltip": null,
            "_model_module": "@jupyter-widgets/controls",
            "layout": "IPY_MODEL_2b75b4f0c43d483aa01b41edfd98155a"
          }
        },
        "e6d45ea2b4e24f259f0225fbd3d7a554": {
          "model_module": "@jupyter-widgets/controls",
          "model_name": "DescriptionStyleModel",
          "model_module_version": "1.5.0",
          "state": {
            "_view_name": "StyleView",
            "_model_name": "DescriptionStyleModel",
            "description_width": "",
            "_view_module": "@jupyter-widgets/base",
            "_model_module_version": "1.5.0",
            "_view_count": null,
            "_view_module_version": "1.2.0",
            "_model_module": "@jupyter-widgets/controls"
          }
        },
        "eb39c6d11a5f4827b155573653013b88": {
          "model_module": "@jupyter-widgets/base",
          "model_name": "LayoutModel",
          "model_module_version": "1.2.0",
          "state": {
            "_view_name": "LayoutView",
            "grid_template_rows": null,
            "right": null,
            "justify_content": null,
            "_view_module": "@jupyter-widgets/base",
            "overflow": null,
            "_model_module_version": "1.2.0",
            "_view_count": null,
            "flex_flow": null,
            "width": null,
            "min_width": null,
            "border": null,
            "align_items": null,
            "bottom": null,
            "_model_module": "@jupyter-widgets/base",
            "top": null,
            "grid_column": null,
            "overflow_y": null,
            "overflow_x": null,
            "grid_auto_flow": null,
            "grid_area": null,
            "grid_template_columns": null,
            "flex": null,
            "_model_name": "LayoutModel",
            "justify_items": null,
            "grid_row": null,
            "max_height": null,
            "align_content": null,
            "visibility": null,
            "align_self": null,
            "height": null,
            "min_height": null,
            "padding": null,
            "grid_auto_rows": null,
            "grid_gap": null,
            "max_width": null,
            "order": null,
            "_view_module_version": "1.2.0",
            "grid_template_areas": null,
            "object_position": null,
            "object_fit": null,
            "grid_auto_columns": null,
            "margin": null,
            "display": null,
            "left": null
          }
        },
        "c163cb565e304d26a8de2a09c74097cd": {
          "model_module": "@jupyter-widgets/controls",
          "model_name": "ProgressStyleModel",
          "model_module_version": "1.5.0",
          "state": {
            "_view_name": "StyleView",
            "_model_name": "ProgressStyleModel",
            "description_width": "",
            "_view_module": "@jupyter-widgets/base",
            "_model_module_version": "1.5.0",
            "_view_count": null,
            "_view_module_version": "1.2.0",
            "bar_color": null,
            "_model_module": "@jupyter-widgets/controls"
          }
        },
        "55cbfe2bea6146f6a2d39634af45fdf4": {
          "model_module": "@jupyter-widgets/base",
          "model_name": "LayoutModel",
          "model_module_version": "1.2.0",
          "state": {
            "_view_name": "LayoutView",
            "grid_template_rows": null,
            "right": null,
            "justify_content": null,
            "_view_module": "@jupyter-widgets/base",
            "overflow": null,
            "_model_module_version": "1.2.0",
            "_view_count": null,
            "flex_flow": null,
            "width": null,
            "min_width": null,
            "border": null,
            "align_items": null,
            "bottom": null,
            "_model_module": "@jupyter-widgets/base",
            "top": null,
            "grid_column": null,
            "overflow_y": null,
            "overflow_x": null,
            "grid_auto_flow": null,
            "grid_area": null,
            "grid_template_columns": null,
            "flex": null,
            "_model_name": "LayoutModel",
            "justify_items": null,
            "grid_row": null,
            "max_height": null,
            "align_content": null,
            "visibility": null,
            "align_self": null,
            "height": null,
            "min_height": null,
            "padding": null,
            "grid_auto_rows": null,
            "grid_gap": null,
            "max_width": null,
            "order": null,
            "_view_module_version": "1.2.0",
            "grid_template_areas": null,
            "object_position": null,
            "object_fit": null,
            "grid_auto_columns": null,
            "margin": null,
            "display": null,
            "left": null
          }
        },
        "78297833928c4bbaae398d5ad9bdb5e3": {
          "model_module": "@jupyter-widgets/controls",
          "model_name": "DescriptionStyleModel",
          "model_module_version": "1.5.0",
          "state": {
            "_view_name": "StyleView",
            "_model_name": "DescriptionStyleModel",
            "description_width": "",
            "_view_module": "@jupyter-widgets/base",
            "_model_module_version": "1.5.0",
            "_view_count": null,
            "_view_module_version": "1.2.0",
            "_model_module": "@jupyter-widgets/controls"
          }
        },
        "2b75b4f0c43d483aa01b41edfd98155a": {
          "model_module": "@jupyter-widgets/base",
          "model_name": "LayoutModel",
          "model_module_version": "1.2.0",
          "state": {
            "_view_name": "LayoutView",
            "grid_template_rows": null,
            "right": null,
            "justify_content": null,
            "_view_module": "@jupyter-widgets/base",
            "overflow": null,
            "_model_module_version": "1.2.0",
            "_view_count": null,
            "flex_flow": null,
            "width": null,
            "min_width": null,
            "border": null,
            "align_items": null,
            "bottom": null,
            "_model_module": "@jupyter-widgets/base",
            "top": null,
            "grid_column": null,
            "overflow_y": null,
            "overflow_x": null,
            "grid_auto_flow": null,
            "grid_area": null,
            "grid_template_columns": null,
            "flex": null,
            "_model_name": "LayoutModel",
            "justify_items": null,
            "grid_row": null,
            "max_height": null,
            "align_content": null,
            "visibility": null,
            "align_self": null,
            "height": null,
            "min_height": null,
            "padding": null,
            "grid_auto_rows": null,
            "grid_gap": null,
            "max_width": null,
            "order": null,
            "_view_module_version": "1.2.0",
            "grid_template_areas": null,
            "object_position": null,
            "object_fit": null,
            "grid_auto_columns": null,
            "margin": null,
            "display": null,
            "left": null
          }
        },
        "71024ace5b0e4b1e8224bd350b3e7f82": {
          "model_module": "@jupyter-widgets/controls",
          "model_name": "HBoxModel",
          "model_module_version": "1.5.0",
          "state": {
            "_view_name": "HBoxView",
            "_dom_classes": [],
            "_model_name": "HBoxModel",
            "_view_module": "@jupyter-widgets/controls",
            "_model_module_version": "1.5.0",
            "_view_count": null,
            "_view_module_version": "1.5.0",
            "box_style": "",
            "layout": "IPY_MODEL_72786a526e754eb0b26a5bf21ce94da8",
            "_model_module": "@jupyter-widgets/controls",
            "children": [
              "IPY_MODEL_9f0d25fe2bbc4425bc2a3766e6d83dbe",
              "IPY_MODEL_7bc1d0fd93864853a46604bbb17a96d1",
              "IPY_MODEL_5121214f45f5405baef5e4be62aa1dcd"
            ]
          }
        },
        "72786a526e754eb0b26a5bf21ce94da8": {
          "model_module": "@jupyter-widgets/base",
          "model_name": "LayoutModel",
          "model_module_version": "1.2.0",
          "state": {
            "_view_name": "LayoutView",
            "grid_template_rows": null,
            "right": null,
            "justify_content": null,
            "_view_module": "@jupyter-widgets/base",
            "overflow": null,
            "_model_module_version": "1.2.0",
            "_view_count": null,
            "flex_flow": null,
            "width": null,
            "min_width": null,
            "border": null,
            "align_items": null,
            "bottom": null,
            "_model_module": "@jupyter-widgets/base",
            "top": null,
            "grid_column": null,
            "overflow_y": null,
            "overflow_x": null,
            "grid_auto_flow": null,
            "grid_area": null,
            "grid_template_columns": null,
            "flex": null,
            "_model_name": "LayoutModel",
            "justify_items": null,
            "grid_row": null,
            "max_height": null,
            "align_content": null,
            "visibility": null,
            "align_self": null,
            "height": null,
            "min_height": null,
            "padding": null,
            "grid_auto_rows": null,
            "grid_gap": null,
            "max_width": null,
            "order": null,
            "_view_module_version": "1.2.0",
            "grid_template_areas": null,
            "object_position": null,
            "object_fit": null,
            "grid_auto_columns": null,
            "margin": null,
            "display": null,
            "left": null
          }
        },
        "9f0d25fe2bbc4425bc2a3766e6d83dbe": {
          "model_module": "@jupyter-widgets/controls",
          "model_name": "HTMLModel",
          "model_module_version": "1.5.0",
          "state": {
            "_view_name": "HTMLView",
            "style": "IPY_MODEL_c4c062cbb0bb46f1b8979df0045fe2e7",
            "_dom_classes": [],
            "description": "",
            "_model_name": "HTMLModel",
            "placeholder": "​",
            "_view_module": "@jupyter-widgets/controls",
            "_model_module_version": "1.5.0",
            "value": "Downloading: 100%",
            "_view_count": null,
            "_view_module_version": "1.5.0",
            "description_tooltip": null,
            "_model_module": "@jupyter-widgets/controls",
            "layout": "IPY_MODEL_a992750324f24ce381d7143fd8762ece"
          }
        },
        "7bc1d0fd93864853a46604bbb17a96d1": {
          "model_module": "@jupyter-widgets/controls",
          "model_name": "FloatProgressModel",
          "model_module_version": "1.5.0",
          "state": {
            "_view_name": "ProgressView",
            "style": "IPY_MODEL_4f1a286876f94072b3f8a9ba40e37f3d",
            "_dom_classes": [],
            "description": "",
            "_model_name": "FloatProgressModel",
            "bar_style": "success",
            "max": 350,
            "_view_module": "@jupyter-widgets/controls",
            "_model_module_version": "1.5.0",
            "value": 350,
            "_view_count": null,
            "_view_module_version": "1.5.0",
            "orientation": "horizontal",
            "min": 0,
            "description_tooltip": null,
            "_model_module": "@jupyter-widgets/controls",
            "layout": "IPY_MODEL_9558e1c6981c4ee0aae9f5c1d3e0a8a1"
          }
        },
        "5121214f45f5405baef5e4be62aa1dcd": {
          "model_module": "@jupyter-widgets/controls",
          "model_name": "HTMLModel",
          "model_module_version": "1.5.0",
          "state": {
            "_view_name": "HTMLView",
            "style": "IPY_MODEL_7ffb5f0401d2411aa1b0338cc5b03e02",
            "_dom_classes": [],
            "description": "",
            "_model_name": "HTMLModel",
            "placeholder": "​",
            "_view_module": "@jupyter-widgets/controls",
            "_model_module_version": "1.5.0",
            "value": " 350/350 [00:00&lt;00:00, 9.12kB/s]",
            "_view_count": null,
            "_view_module_version": "1.5.0",
            "description_tooltip": null,
            "_model_module": "@jupyter-widgets/controls",
            "layout": "IPY_MODEL_5318de1084d4414cbe84cf97fe0d5b86"
          }
        },
        "c4c062cbb0bb46f1b8979df0045fe2e7": {
          "model_module": "@jupyter-widgets/controls",
          "model_name": "DescriptionStyleModel",
          "model_module_version": "1.5.0",
          "state": {
            "_view_name": "StyleView",
            "_model_name": "DescriptionStyleModel",
            "description_width": "",
            "_view_module": "@jupyter-widgets/base",
            "_model_module_version": "1.5.0",
            "_view_count": null,
            "_view_module_version": "1.2.0",
            "_model_module": "@jupyter-widgets/controls"
          }
        },
        "a992750324f24ce381d7143fd8762ece": {
          "model_module": "@jupyter-widgets/base",
          "model_name": "LayoutModel",
          "model_module_version": "1.2.0",
          "state": {
            "_view_name": "LayoutView",
            "grid_template_rows": null,
            "right": null,
            "justify_content": null,
            "_view_module": "@jupyter-widgets/base",
            "overflow": null,
            "_model_module_version": "1.2.0",
            "_view_count": null,
            "flex_flow": null,
            "width": null,
            "min_width": null,
            "border": null,
            "align_items": null,
            "bottom": null,
            "_model_module": "@jupyter-widgets/base",
            "top": null,
            "grid_column": null,
            "overflow_y": null,
            "overflow_x": null,
            "grid_auto_flow": null,
            "grid_area": null,
            "grid_template_columns": null,
            "flex": null,
            "_model_name": "LayoutModel",
            "justify_items": null,
            "grid_row": null,
            "max_height": null,
            "align_content": null,
            "visibility": null,
            "align_self": null,
            "height": null,
            "min_height": null,
            "padding": null,
            "grid_auto_rows": null,
            "grid_gap": null,
            "max_width": null,
            "order": null,
            "_view_module_version": "1.2.0",
            "grid_template_areas": null,
            "object_position": null,
            "object_fit": null,
            "grid_auto_columns": null,
            "margin": null,
            "display": null,
            "left": null
          }
        },
        "4f1a286876f94072b3f8a9ba40e37f3d": {
          "model_module": "@jupyter-widgets/controls",
          "model_name": "ProgressStyleModel",
          "model_module_version": "1.5.0",
          "state": {
            "_view_name": "StyleView",
            "_model_name": "ProgressStyleModel",
            "description_width": "",
            "_view_module": "@jupyter-widgets/base",
            "_model_module_version": "1.5.0",
            "_view_count": null,
            "_view_module_version": "1.2.0",
            "bar_color": null,
            "_model_module": "@jupyter-widgets/controls"
          }
        },
        "9558e1c6981c4ee0aae9f5c1d3e0a8a1": {
          "model_module": "@jupyter-widgets/base",
          "model_name": "LayoutModel",
          "model_module_version": "1.2.0",
          "state": {
            "_view_name": "LayoutView",
            "grid_template_rows": null,
            "right": null,
            "justify_content": null,
            "_view_module": "@jupyter-widgets/base",
            "overflow": null,
            "_model_module_version": "1.2.0",
            "_view_count": null,
            "flex_flow": null,
            "width": null,
            "min_width": null,
            "border": null,
            "align_items": null,
            "bottom": null,
            "_model_module": "@jupyter-widgets/base",
            "top": null,
            "grid_column": null,
            "overflow_y": null,
            "overflow_x": null,
            "grid_auto_flow": null,
            "grid_area": null,
            "grid_template_columns": null,
            "flex": null,
            "_model_name": "LayoutModel",
            "justify_items": null,
            "grid_row": null,
            "max_height": null,
            "align_content": null,
            "visibility": null,
            "align_self": null,
            "height": null,
            "min_height": null,
            "padding": null,
            "grid_auto_rows": null,
            "grid_gap": null,
            "max_width": null,
            "order": null,
            "_view_module_version": "1.2.0",
            "grid_template_areas": null,
            "object_position": null,
            "object_fit": null,
            "grid_auto_columns": null,
            "margin": null,
            "display": null,
            "left": null
          }
        },
        "7ffb5f0401d2411aa1b0338cc5b03e02": {
          "model_module": "@jupyter-widgets/controls",
          "model_name": "DescriptionStyleModel",
          "model_module_version": "1.5.0",
          "state": {
            "_view_name": "StyleView",
            "_model_name": "DescriptionStyleModel",
            "description_width": "",
            "_view_module": "@jupyter-widgets/base",
            "_model_module_version": "1.5.0",
            "_view_count": null,
            "_view_module_version": "1.2.0",
            "_model_module": "@jupyter-widgets/controls"
          }
        },
        "5318de1084d4414cbe84cf97fe0d5b86": {
          "model_module": "@jupyter-widgets/base",
          "model_name": "LayoutModel",
          "model_module_version": "1.2.0",
          "state": {
            "_view_name": "LayoutView",
            "grid_template_rows": null,
            "right": null,
            "justify_content": null,
            "_view_module": "@jupyter-widgets/base",
            "overflow": null,
            "_model_module_version": "1.2.0",
            "_view_count": null,
            "flex_flow": null,
            "width": null,
            "min_width": null,
            "border": null,
            "align_items": null,
            "bottom": null,
            "_model_module": "@jupyter-widgets/base",
            "top": null,
            "grid_column": null,
            "overflow_y": null,
            "overflow_x": null,
            "grid_auto_flow": null,
            "grid_area": null,
            "grid_template_columns": null,
            "flex": null,
            "_model_name": "LayoutModel",
            "justify_items": null,
            "grid_row": null,
            "max_height": null,
            "align_content": null,
            "visibility": null,
            "align_self": null,
            "height": null,
            "min_height": null,
            "padding": null,
            "grid_auto_rows": null,
            "grid_gap": null,
            "max_width": null,
            "order": null,
            "_view_module_version": "1.2.0",
            "grid_template_areas": null,
            "object_position": null,
            "object_fit": null,
            "grid_auto_columns": null,
            "margin": null,
            "display": null,
            "left": null
          }
        },
        "8d11a859974f494d8c764da3e09aa731": {
          "model_module": "@jupyter-widgets/controls",
          "model_name": "HBoxModel",
          "model_module_version": "1.5.0",
          "state": {
            "_view_name": "HBoxView",
            "_dom_classes": [],
            "_model_name": "HBoxModel",
            "_view_module": "@jupyter-widgets/controls",
            "_model_module_version": "1.5.0",
            "_view_count": null,
            "_view_module_version": "1.5.0",
            "box_style": "",
            "layout": "IPY_MODEL_878920b8b13f409eb68a05e44437e2b2",
            "_model_module": "@jupyter-widgets/controls",
            "children": [
              "IPY_MODEL_b39adff7e1f74ed8a8b183410f8886ed",
              "IPY_MODEL_795669ee8f044b1bbf671519302ff0fd",
              "IPY_MODEL_6fdaf2d922fb4a3eaf1c518e24e3f782"
            ]
          }
        },
        "878920b8b13f409eb68a05e44437e2b2": {
          "model_module": "@jupyter-widgets/base",
          "model_name": "LayoutModel",
          "model_module_version": "1.2.0",
          "state": {
            "_view_name": "LayoutView",
            "grid_template_rows": null,
            "right": null,
            "justify_content": null,
            "_view_module": "@jupyter-widgets/base",
            "overflow": null,
            "_model_module_version": "1.2.0",
            "_view_count": null,
            "flex_flow": null,
            "width": null,
            "min_width": null,
            "border": null,
            "align_items": null,
            "bottom": null,
            "_model_module": "@jupyter-widgets/base",
            "top": null,
            "grid_column": null,
            "overflow_y": null,
            "overflow_x": null,
            "grid_auto_flow": null,
            "grid_area": null,
            "grid_template_columns": null,
            "flex": null,
            "_model_name": "LayoutModel",
            "justify_items": null,
            "grid_row": null,
            "max_height": null,
            "align_content": null,
            "visibility": null,
            "align_self": null,
            "height": null,
            "min_height": null,
            "padding": null,
            "grid_auto_rows": null,
            "grid_gap": null,
            "max_width": null,
            "order": null,
            "_view_module_version": "1.2.0",
            "grid_template_areas": null,
            "object_position": null,
            "object_fit": null,
            "grid_auto_columns": null,
            "margin": null,
            "display": null,
            "left": null
          }
        },
        "b39adff7e1f74ed8a8b183410f8886ed": {
          "model_module": "@jupyter-widgets/controls",
          "model_name": "HTMLModel",
          "model_module_version": "1.5.0",
          "state": {
            "_view_name": "HTMLView",
            "style": "IPY_MODEL_46984ba658a7476c8bccb95e7982265b",
            "_dom_classes": [],
            "description": "",
            "_model_name": "HTMLModel",
            "placeholder": "​",
            "_view_module": "@jupyter-widgets/controls",
            "_model_module_version": "1.5.0",
            "value": "Downloading: 100%",
            "_view_count": null,
            "_view_module_version": "1.5.0",
            "description_tooltip": null,
            "_model_module": "@jupyter-widgets/controls",
            "layout": "IPY_MODEL_95fe01485fe74c8694a7a01f079b1006"
          }
        },
        "795669ee8f044b1bbf671519302ff0fd": {
          "model_module": "@jupyter-widgets/controls",
          "model_name": "FloatProgressModel",
          "model_module_version": "1.5.0",
          "state": {
            "_view_name": "ProgressView",
            "style": "IPY_MODEL_4c759d0c86a9422caa378cbddc06f854",
            "_dom_classes": [],
            "description": "",
            "_model_name": "FloatProgressModel",
            "bar_style": "success",
            "max": 13156,
            "_view_module": "@jupyter-widgets/controls",
            "_model_module_version": "1.5.0",
            "value": 13156,
            "_view_count": null,
            "_view_module_version": "1.5.0",
            "orientation": "horizontal",
            "min": 0,
            "description_tooltip": null,
            "_model_module": "@jupyter-widgets/controls",
            "layout": "IPY_MODEL_ff00b0c3e4bf4db699baa322400a0b12"
          }
        },
        "6fdaf2d922fb4a3eaf1c518e24e3f782": {
          "model_module": "@jupyter-widgets/controls",
          "model_name": "HTMLModel",
          "model_module_version": "1.5.0",
          "state": {
            "_view_name": "HTMLView",
            "style": "IPY_MODEL_31ae42f2c4e4401580dd475ab98234fb",
            "_dom_classes": [],
            "description": "",
            "_model_name": "HTMLModel",
            "placeholder": "​",
            "_view_module": "@jupyter-widgets/controls",
            "_model_module_version": "1.5.0",
            "value": " 13.2k/13.2k [00:00&lt;00:00, 272kB/s]",
            "_view_count": null,
            "_view_module_version": "1.5.0",
            "description_tooltip": null,
            "_model_module": "@jupyter-widgets/controls",
            "layout": "IPY_MODEL_1cb5d964c65e41309ea5cf390b63275f"
          }
        },
        "46984ba658a7476c8bccb95e7982265b": {
          "model_module": "@jupyter-widgets/controls",
          "model_name": "DescriptionStyleModel",
          "model_module_version": "1.5.0",
          "state": {
            "_view_name": "StyleView",
            "_model_name": "DescriptionStyleModel",
            "description_width": "",
            "_view_module": "@jupyter-widgets/base",
            "_model_module_version": "1.5.0",
            "_view_count": null,
            "_view_module_version": "1.2.0",
            "_model_module": "@jupyter-widgets/controls"
          }
        },
        "95fe01485fe74c8694a7a01f079b1006": {
          "model_module": "@jupyter-widgets/base",
          "model_name": "LayoutModel",
          "model_module_version": "1.2.0",
          "state": {
            "_view_name": "LayoutView",
            "grid_template_rows": null,
            "right": null,
            "justify_content": null,
            "_view_module": "@jupyter-widgets/base",
            "overflow": null,
            "_model_module_version": "1.2.0",
            "_view_count": null,
            "flex_flow": null,
            "width": null,
            "min_width": null,
            "border": null,
            "align_items": null,
            "bottom": null,
            "_model_module": "@jupyter-widgets/base",
            "top": null,
            "grid_column": null,
            "overflow_y": null,
            "overflow_x": null,
            "grid_auto_flow": null,
            "grid_area": null,
            "grid_template_columns": null,
            "flex": null,
            "_model_name": "LayoutModel",
            "justify_items": null,
            "grid_row": null,
            "max_height": null,
            "align_content": null,
            "visibility": null,
            "align_self": null,
            "height": null,
            "min_height": null,
            "padding": null,
            "grid_auto_rows": null,
            "grid_gap": null,
            "max_width": null,
            "order": null,
            "_view_module_version": "1.2.0",
            "grid_template_areas": null,
            "object_position": null,
            "object_fit": null,
            "grid_auto_columns": null,
            "margin": null,
            "display": null,
            "left": null
          }
        },
        "4c759d0c86a9422caa378cbddc06f854": {
          "model_module": "@jupyter-widgets/controls",
          "model_name": "ProgressStyleModel",
          "model_module_version": "1.5.0",
          "state": {
            "_view_name": "StyleView",
            "_model_name": "ProgressStyleModel",
            "description_width": "",
            "_view_module": "@jupyter-widgets/base",
            "_model_module_version": "1.5.0",
            "_view_count": null,
            "_view_module_version": "1.2.0",
            "bar_color": null,
            "_model_module": "@jupyter-widgets/controls"
          }
        },
        "ff00b0c3e4bf4db699baa322400a0b12": {
          "model_module": "@jupyter-widgets/base",
          "model_name": "LayoutModel",
          "model_module_version": "1.2.0",
          "state": {
            "_view_name": "LayoutView",
            "grid_template_rows": null,
            "right": null,
            "justify_content": null,
            "_view_module": "@jupyter-widgets/base",
            "overflow": null,
            "_model_module_version": "1.2.0",
            "_view_count": null,
            "flex_flow": null,
            "width": null,
            "min_width": null,
            "border": null,
            "align_items": null,
            "bottom": null,
            "_model_module": "@jupyter-widgets/base",
            "top": null,
            "grid_column": null,
            "overflow_y": null,
            "overflow_x": null,
            "grid_auto_flow": null,
            "grid_area": null,
            "grid_template_columns": null,
            "flex": null,
            "_model_name": "LayoutModel",
            "justify_items": null,
            "grid_row": null,
            "max_height": null,
            "align_content": null,
            "visibility": null,
            "align_self": null,
            "height": null,
            "min_height": null,
            "padding": null,
            "grid_auto_rows": null,
            "grid_gap": null,
            "max_width": null,
            "order": null,
            "_view_module_version": "1.2.0",
            "grid_template_areas": null,
            "object_position": null,
            "object_fit": null,
            "grid_auto_columns": null,
            "margin": null,
            "display": null,
            "left": null
          }
        },
        "31ae42f2c4e4401580dd475ab98234fb": {
          "model_module": "@jupyter-widgets/controls",
          "model_name": "DescriptionStyleModel",
          "model_module_version": "1.5.0",
          "state": {
            "_view_name": "StyleView",
            "_model_name": "DescriptionStyleModel",
            "description_width": "",
            "_view_module": "@jupyter-widgets/base",
            "_model_module_version": "1.5.0",
            "_view_count": null,
            "_view_module_version": "1.2.0",
            "_model_module": "@jupyter-widgets/controls"
          }
        },
        "1cb5d964c65e41309ea5cf390b63275f": {
          "model_module": "@jupyter-widgets/base",
          "model_name": "LayoutModel",
          "model_module_version": "1.2.0",
          "state": {
            "_view_name": "LayoutView",
            "grid_template_rows": null,
            "right": null,
            "justify_content": null,
            "_view_module": "@jupyter-widgets/base",
            "overflow": null,
            "_model_module_version": "1.2.0",
            "_view_count": null,
            "flex_flow": null,
            "width": null,
            "min_width": null,
            "border": null,
            "align_items": null,
            "bottom": null,
            "_model_module": "@jupyter-widgets/base",
            "top": null,
            "grid_column": null,
            "overflow_y": null,
            "overflow_x": null,
            "grid_auto_flow": null,
            "grid_area": null,
            "grid_template_columns": null,
            "flex": null,
            "_model_name": "LayoutModel",
            "justify_items": null,
            "grid_row": null,
            "max_height": null,
            "align_content": null,
            "visibility": null,
            "align_self": null,
            "height": null,
            "min_height": null,
            "padding": null,
            "grid_auto_rows": null,
            "grid_gap": null,
            "max_width": null,
            "order": null,
            "_view_module_version": "1.2.0",
            "grid_template_areas": null,
            "object_position": null,
            "object_fit": null,
            "grid_auto_columns": null,
            "margin": null,
            "display": null,
            "left": null
          }
        },
        "605ee794388445ae8d6f60c05ff47308": {
          "model_module": "@jupyter-widgets/controls",
          "model_name": "HBoxModel",
          "model_module_version": "1.5.0",
          "state": {
            "_view_name": "HBoxView",
            "_dom_classes": [],
            "_model_name": "HBoxModel",
            "_view_module": "@jupyter-widgets/controls",
            "_model_module_version": "1.5.0",
            "_view_count": null,
            "_view_module_version": "1.5.0",
            "box_style": "",
            "layout": "IPY_MODEL_a43bec1c025c47fa9a9d79bb9a6291e5",
            "_model_module": "@jupyter-widgets/controls",
            "children": [
              "IPY_MODEL_ff129c0e9f7f4b3d9170db144b5576b3",
              "IPY_MODEL_07f68da294634e63955ac230463cf328",
              "IPY_MODEL_98b19d2b237a4af09228e6ed64b52872"
            ]
          }
        },
        "a43bec1c025c47fa9a9d79bb9a6291e5": {
          "model_module": "@jupyter-widgets/base",
          "model_name": "LayoutModel",
          "model_module_version": "1.2.0",
          "state": {
            "_view_name": "LayoutView",
            "grid_template_rows": null,
            "right": null,
            "justify_content": null,
            "_view_module": "@jupyter-widgets/base",
            "overflow": null,
            "_model_module_version": "1.2.0",
            "_view_count": null,
            "flex_flow": null,
            "width": null,
            "min_width": null,
            "border": null,
            "align_items": null,
            "bottom": null,
            "_model_module": "@jupyter-widgets/base",
            "top": null,
            "grid_column": null,
            "overflow_y": null,
            "overflow_x": null,
            "grid_auto_flow": null,
            "grid_area": null,
            "grid_template_columns": null,
            "flex": null,
            "_model_name": "LayoutModel",
            "justify_items": null,
            "grid_row": null,
            "max_height": null,
            "align_content": null,
            "visibility": null,
            "align_self": null,
            "height": null,
            "min_height": null,
            "padding": null,
            "grid_auto_rows": null,
            "grid_gap": null,
            "max_width": null,
            "order": null,
            "_view_module_version": "1.2.0",
            "grid_template_areas": null,
            "object_position": null,
            "object_fit": null,
            "grid_auto_columns": null,
            "margin": null,
            "display": null,
            "left": null
          }
        },
        "ff129c0e9f7f4b3d9170db144b5576b3": {
          "model_module": "@jupyter-widgets/controls",
          "model_name": "HTMLModel",
          "model_module_version": "1.5.0",
          "state": {
            "_view_name": "HTMLView",
            "style": "IPY_MODEL_2048baf707e7474d8a268b4ea6059812",
            "_dom_classes": [],
            "description": "",
            "_model_name": "HTMLModel",
            "placeholder": "​",
            "_view_module": "@jupyter-widgets/controls",
            "_model_module_version": "1.5.0",
            "value": "Downloading: 100%",
            "_view_count": null,
            "_view_module_version": "1.5.0",
            "description_tooltip": null,
            "_model_module": "@jupyter-widgets/controls",
            "layout": "IPY_MODEL_bac72e87f62e451c9cba579b797f9ff1"
          }
        },
        "07f68da294634e63955ac230463cf328": {
          "model_module": "@jupyter-widgets/controls",
          "model_name": "FloatProgressModel",
          "model_module_version": "1.5.0",
          "state": {
            "_view_name": "ProgressView",
            "style": "IPY_MODEL_d9ffaabd514c46bd9c22210bc16d4110",
            "_dom_classes": [],
            "description": "",
            "_model_name": "FloatProgressModel",
            "bar_style": "success",
            "max": 231508,
            "_view_module": "@jupyter-widgets/controls",
            "_model_module_version": "1.5.0",
            "value": 231508,
            "_view_count": null,
            "_view_module_version": "1.5.0",
            "orientation": "horizontal",
            "min": 0,
            "description_tooltip": null,
            "_model_module": "@jupyter-widgets/controls",
            "layout": "IPY_MODEL_285e9ec17fd94fa2a265d27f63e92aea"
          }
        },
        "98b19d2b237a4af09228e6ed64b52872": {
          "model_module": "@jupyter-widgets/controls",
          "model_name": "HTMLModel",
          "model_module_version": "1.5.0",
          "state": {
            "_view_name": "HTMLView",
            "style": "IPY_MODEL_0d5fd9ef7bf74c3b8b6e7cec2c865acd",
            "_dom_classes": [],
            "description": "",
            "_model_name": "HTMLModel",
            "placeholder": "​",
            "_view_module": "@jupyter-widgets/controls",
            "_model_module_version": "1.5.0",
            "value": " 232k/232k [00:00&lt;00:00, 895kB/s]",
            "_view_count": null,
            "_view_module_version": "1.5.0",
            "description_tooltip": null,
            "_model_module": "@jupyter-widgets/controls",
            "layout": "IPY_MODEL_fa920a85d68240b48f82cf55d8d9da21"
          }
        },
        "2048baf707e7474d8a268b4ea6059812": {
          "model_module": "@jupyter-widgets/controls",
          "model_name": "DescriptionStyleModel",
          "model_module_version": "1.5.0",
          "state": {
            "_view_name": "StyleView",
            "_model_name": "DescriptionStyleModel",
            "description_width": "",
            "_view_module": "@jupyter-widgets/base",
            "_model_module_version": "1.5.0",
            "_view_count": null,
            "_view_module_version": "1.2.0",
            "_model_module": "@jupyter-widgets/controls"
          }
        },
        "bac72e87f62e451c9cba579b797f9ff1": {
          "model_module": "@jupyter-widgets/base",
          "model_name": "LayoutModel",
          "model_module_version": "1.2.0",
          "state": {
            "_view_name": "LayoutView",
            "grid_template_rows": null,
            "right": null,
            "justify_content": null,
            "_view_module": "@jupyter-widgets/base",
            "overflow": null,
            "_model_module_version": "1.2.0",
            "_view_count": null,
            "flex_flow": null,
            "width": null,
            "min_width": null,
            "border": null,
            "align_items": null,
            "bottom": null,
            "_model_module": "@jupyter-widgets/base",
            "top": null,
            "grid_column": null,
            "overflow_y": null,
            "overflow_x": null,
            "grid_auto_flow": null,
            "grid_area": null,
            "grid_template_columns": null,
            "flex": null,
            "_model_name": "LayoutModel",
            "justify_items": null,
            "grid_row": null,
            "max_height": null,
            "align_content": null,
            "visibility": null,
            "align_self": null,
            "height": null,
            "min_height": null,
            "padding": null,
            "grid_auto_rows": null,
            "grid_gap": null,
            "max_width": null,
            "order": null,
            "_view_module_version": "1.2.0",
            "grid_template_areas": null,
            "object_position": null,
            "object_fit": null,
            "grid_auto_columns": null,
            "margin": null,
            "display": null,
            "left": null
          }
        },
        "d9ffaabd514c46bd9c22210bc16d4110": {
          "model_module": "@jupyter-widgets/controls",
          "model_name": "ProgressStyleModel",
          "model_module_version": "1.5.0",
          "state": {
            "_view_name": "StyleView",
            "_model_name": "ProgressStyleModel",
            "description_width": "",
            "_view_module": "@jupyter-widgets/base",
            "_model_module_version": "1.5.0",
            "_view_count": null,
            "_view_module_version": "1.2.0",
            "bar_color": null,
            "_model_module": "@jupyter-widgets/controls"
          }
        },
        "285e9ec17fd94fa2a265d27f63e92aea": {
          "model_module": "@jupyter-widgets/base",
          "model_name": "LayoutModel",
          "model_module_version": "1.2.0",
          "state": {
            "_view_name": "LayoutView",
            "grid_template_rows": null,
            "right": null,
            "justify_content": null,
            "_view_module": "@jupyter-widgets/base",
            "overflow": null,
            "_model_module_version": "1.2.0",
            "_view_count": null,
            "flex_flow": null,
            "width": null,
            "min_width": null,
            "border": null,
            "align_items": null,
            "bottom": null,
            "_model_module": "@jupyter-widgets/base",
            "top": null,
            "grid_column": null,
            "overflow_y": null,
            "overflow_x": null,
            "grid_auto_flow": null,
            "grid_area": null,
            "grid_template_columns": null,
            "flex": null,
            "_model_name": "LayoutModel",
            "justify_items": null,
            "grid_row": null,
            "max_height": null,
            "align_content": null,
            "visibility": null,
            "align_self": null,
            "height": null,
            "min_height": null,
            "padding": null,
            "grid_auto_rows": null,
            "grid_gap": null,
            "max_width": null,
            "order": null,
            "_view_module_version": "1.2.0",
            "grid_template_areas": null,
            "object_position": null,
            "object_fit": null,
            "grid_auto_columns": null,
            "margin": null,
            "display": null,
            "left": null
          }
        },
        "0d5fd9ef7bf74c3b8b6e7cec2c865acd": {
          "model_module": "@jupyter-widgets/controls",
          "model_name": "DescriptionStyleModel",
          "model_module_version": "1.5.0",
          "state": {
            "_view_name": "StyleView",
            "_model_name": "DescriptionStyleModel",
            "description_width": "",
            "_view_module": "@jupyter-widgets/base",
            "_model_module_version": "1.5.0",
            "_view_count": null,
            "_view_module_version": "1.2.0",
            "_model_module": "@jupyter-widgets/controls"
          }
        },
        "fa920a85d68240b48f82cf55d8d9da21": {
          "model_module": "@jupyter-widgets/base",
          "model_name": "LayoutModel",
          "model_module_version": "1.2.0",
          "state": {
            "_view_name": "LayoutView",
            "grid_template_rows": null,
            "right": null,
            "justify_content": null,
            "_view_module": "@jupyter-widgets/base",
            "overflow": null,
            "_model_module_version": "1.2.0",
            "_view_count": null,
            "flex_flow": null,
            "width": null,
            "min_width": null,
            "border": null,
            "align_items": null,
            "bottom": null,
            "_model_module": "@jupyter-widgets/base",
            "top": null,
            "grid_column": null,
            "overflow_y": null,
            "overflow_x": null,
            "grid_auto_flow": null,
            "grid_area": null,
            "grid_template_columns": null,
            "flex": null,
            "_model_name": "LayoutModel",
            "justify_items": null,
            "grid_row": null,
            "max_height": null,
            "align_content": null,
            "visibility": null,
            "align_self": null,
            "height": null,
            "min_height": null,
            "padding": null,
            "grid_auto_rows": null,
            "grid_gap": null,
            "max_width": null,
            "order": null,
            "_view_module_version": "1.2.0",
            "grid_template_areas": null,
            "object_position": null,
            "object_fit": null,
            "grid_auto_columns": null,
            "margin": null,
            "display": null,
            "left": null
          }
        },
        "49775230811c40f39ce89b3893a95df3": {
          "model_module": "@jupyter-widgets/controls",
          "model_name": "HBoxModel",
          "model_module_version": "1.5.0",
          "state": {
            "_view_name": "HBoxView",
            "_dom_classes": [],
            "_model_name": "HBoxModel",
            "_view_module": "@jupyter-widgets/controls",
            "_model_module_version": "1.5.0",
            "_view_count": null,
            "_view_module_version": "1.5.0",
            "box_style": "",
            "layout": "IPY_MODEL_9d4ac41e9d524e2f8b31b2c311bf1e7b",
            "_model_module": "@jupyter-widgets/controls",
            "children": [
              "IPY_MODEL_83de41d8205541f2845bdfa21ab4f7b0",
              "IPY_MODEL_b5906594269949248fe60ab61278117b",
              "IPY_MODEL_6ea637a0308b4e2e92111891e9b44d70"
            ]
          }
        },
        "9d4ac41e9d524e2f8b31b2c311bf1e7b": {
          "model_module": "@jupyter-widgets/base",
          "model_name": "LayoutModel",
          "model_module_version": "1.2.0",
          "state": {
            "_view_name": "LayoutView",
            "grid_template_rows": null,
            "right": null,
            "justify_content": null,
            "_view_module": "@jupyter-widgets/base",
            "overflow": null,
            "_model_module_version": "1.2.0",
            "_view_count": null,
            "flex_flow": null,
            "width": null,
            "min_width": null,
            "border": null,
            "align_items": null,
            "bottom": null,
            "_model_module": "@jupyter-widgets/base",
            "top": null,
            "grid_column": null,
            "overflow_y": null,
            "overflow_x": null,
            "grid_auto_flow": null,
            "grid_area": null,
            "grid_template_columns": null,
            "flex": null,
            "_model_name": "LayoutModel",
            "justify_items": null,
            "grid_row": null,
            "max_height": null,
            "align_content": null,
            "visibility": null,
            "align_self": null,
            "height": null,
            "min_height": null,
            "padding": null,
            "grid_auto_rows": null,
            "grid_gap": null,
            "max_width": null,
            "order": null,
            "_view_module_version": "1.2.0",
            "grid_template_areas": null,
            "object_position": null,
            "object_fit": null,
            "grid_auto_columns": null,
            "margin": null,
            "display": null,
            "left": null
          }
        },
        "83de41d8205541f2845bdfa21ab4f7b0": {
          "model_module": "@jupyter-widgets/controls",
          "model_name": "HTMLModel",
          "model_module_version": "1.5.0",
          "state": {
            "_view_name": "HTMLView",
            "style": "IPY_MODEL_b413feaabc5c4bb5ba77d304f536fad9",
            "_dom_classes": [],
            "description": "",
            "_model_name": "HTMLModel",
            "placeholder": "​",
            "_view_module": "@jupyter-widgets/controls",
            "_model_module_version": "1.5.0",
            "value": "Downloading: 100%",
            "_view_count": null,
            "_view_module_version": "1.5.0",
            "description_tooltip": null,
            "_model_module": "@jupyter-widgets/controls",
            "layout": "IPY_MODEL_a3105ceae9af42c7bfa1067dcb41cc53"
          }
        },
        "b5906594269949248fe60ab61278117b": {
          "model_module": "@jupyter-widgets/controls",
          "model_name": "FloatProgressModel",
          "model_module_version": "1.5.0",
          "state": {
            "_view_name": "ProgressView",
            "style": "IPY_MODEL_4e28fa66da7f48beb26b53c3879e3cef",
            "_dom_classes": [],
            "description": "",
            "_model_name": "FloatProgressModel",
            "bar_style": "success",
            "max": 190,
            "_view_module": "@jupyter-widgets/controls",
            "_model_module_version": "1.5.0",
            "value": 190,
            "_view_count": null,
            "_view_module_version": "1.5.0",
            "orientation": "horizontal",
            "min": 0,
            "description_tooltip": null,
            "_model_module": "@jupyter-widgets/controls",
            "layout": "IPY_MODEL_1c7e250fba0b401ab143e56983b27bd9"
          }
        },
        "6ea637a0308b4e2e92111891e9b44d70": {
          "model_module": "@jupyter-widgets/controls",
          "model_name": "HTMLModel",
          "model_module_version": "1.5.0",
          "state": {
            "_view_name": "HTMLView",
            "style": "IPY_MODEL_485f3a6e0f08400f85d8e556554ac748",
            "_dom_classes": [],
            "description": "",
            "_model_name": "HTMLModel",
            "placeholder": "​",
            "_view_module": "@jupyter-widgets/controls",
            "_model_module_version": "1.5.0",
            "value": " 190/190 [00:00&lt;00:00, 3.56kB/s]",
            "_view_count": null,
            "_view_module_version": "1.5.0",
            "description_tooltip": null,
            "_model_module": "@jupyter-widgets/controls",
            "layout": "IPY_MODEL_0f7f52a8a3994c218b5705a97f931607"
          }
        },
        "b413feaabc5c4bb5ba77d304f536fad9": {
          "model_module": "@jupyter-widgets/controls",
          "model_name": "DescriptionStyleModel",
          "model_module_version": "1.5.0",
          "state": {
            "_view_name": "StyleView",
            "_model_name": "DescriptionStyleModel",
            "description_width": "",
            "_view_module": "@jupyter-widgets/base",
            "_model_module_version": "1.5.0",
            "_view_count": null,
            "_view_module_version": "1.2.0",
            "_model_module": "@jupyter-widgets/controls"
          }
        },
        "a3105ceae9af42c7bfa1067dcb41cc53": {
          "model_module": "@jupyter-widgets/base",
          "model_name": "LayoutModel",
          "model_module_version": "1.2.0",
          "state": {
            "_view_name": "LayoutView",
            "grid_template_rows": null,
            "right": null,
            "justify_content": null,
            "_view_module": "@jupyter-widgets/base",
            "overflow": null,
            "_model_module_version": "1.2.0",
            "_view_count": null,
            "flex_flow": null,
            "width": null,
            "min_width": null,
            "border": null,
            "align_items": null,
            "bottom": null,
            "_model_module": "@jupyter-widgets/base",
            "top": null,
            "grid_column": null,
            "overflow_y": null,
            "overflow_x": null,
            "grid_auto_flow": null,
            "grid_area": null,
            "grid_template_columns": null,
            "flex": null,
            "_model_name": "LayoutModel",
            "justify_items": null,
            "grid_row": null,
            "max_height": null,
            "align_content": null,
            "visibility": null,
            "align_self": null,
            "height": null,
            "min_height": null,
            "padding": null,
            "grid_auto_rows": null,
            "grid_gap": null,
            "max_width": null,
            "order": null,
            "_view_module_version": "1.2.0",
            "grid_template_areas": null,
            "object_position": null,
            "object_fit": null,
            "grid_auto_columns": null,
            "margin": null,
            "display": null,
            "left": null
          }
        },
        "4e28fa66da7f48beb26b53c3879e3cef": {
          "model_module": "@jupyter-widgets/controls",
          "model_name": "ProgressStyleModel",
          "model_module_version": "1.5.0",
          "state": {
            "_view_name": "StyleView",
            "_model_name": "ProgressStyleModel",
            "description_width": "",
            "_view_module": "@jupyter-widgets/base",
            "_model_module_version": "1.5.0",
            "_view_count": null,
            "_view_module_version": "1.2.0",
            "bar_color": null,
            "_model_module": "@jupyter-widgets/controls"
          }
        },
        "1c7e250fba0b401ab143e56983b27bd9": {
          "model_module": "@jupyter-widgets/base",
          "model_name": "LayoutModel",
          "model_module_version": "1.2.0",
          "state": {
            "_view_name": "LayoutView",
            "grid_template_rows": null,
            "right": null,
            "justify_content": null,
            "_view_module": "@jupyter-widgets/base",
            "overflow": null,
            "_model_module_version": "1.2.0",
            "_view_count": null,
            "flex_flow": null,
            "width": null,
            "min_width": null,
            "border": null,
            "align_items": null,
            "bottom": null,
            "_model_module": "@jupyter-widgets/base",
            "top": null,
            "grid_column": null,
            "overflow_y": null,
            "overflow_x": null,
            "grid_auto_flow": null,
            "grid_area": null,
            "grid_template_columns": null,
            "flex": null,
            "_model_name": "LayoutModel",
            "justify_items": null,
            "grid_row": null,
            "max_height": null,
            "align_content": null,
            "visibility": null,
            "align_self": null,
            "height": null,
            "min_height": null,
            "padding": null,
            "grid_auto_rows": null,
            "grid_gap": null,
            "max_width": null,
            "order": null,
            "_view_module_version": "1.2.0",
            "grid_template_areas": null,
            "object_position": null,
            "object_fit": null,
            "grid_auto_columns": null,
            "margin": null,
            "display": null,
            "left": null
          }
        },
        "485f3a6e0f08400f85d8e556554ac748": {
          "model_module": "@jupyter-widgets/controls",
          "model_name": "DescriptionStyleModel",
          "model_module_version": "1.5.0",
          "state": {
            "_view_name": "StyleView",
            "_model_name": "DescriptionStyleModel",
            "description_width": "",
            "_view_module": "@jupyter-widgets/base",
            "_model_module_version": "1.5.0",
            "_view_count": null,
            "_view_module_version": "1.2.0",
            "_model_module": "@jupyter-widgets/controls"
          }
        },
        "0f7f52a8a3994c218b5705a97f931607": {
          "model_module": "@jupyter-widgets/base",
          "model_name": "LayoutModel",
          "model_module_version": "1.2.0",
          "state": {
            "_view_name": "LayoutView",
            "grid_template_rows": null,
            "right": null,
            "justify_content": null,
            "_view_module": "@jupyter-widgets/base",
            "overflow": null,
            "_model_module_version": "1.2.0",
            "_view_count": null,
            "flex_flow": null,
            "width": null,
            "min_width": null,
            "border": null,
            "align_items": null,
            "bottom": null,
            "_model_module": "@jupyter-widgets/base",
            "top": null,
            "grid_column": null,
            "overflow_y": null,
            "overflow_x": null,
            "grid_auto_flow": null,
            "grid_area": null,
            "grid_template_columns": null,
            "flex": null,
            "_model_name": "LayoutModel",
            "justify_items": null,
            "grid_row": null,
            "max_height": null,
            "align_content": null,
            "visibility": null,
            "align_self": null,
            "height": null,
            "min_height": null,
            "padding": null,
            "grid_auto_rows": null,
            "grid_gap": null,
            "max_width": null,
            "order": null,
            "_view_module_version": "1.2.0",
            "grid_template_areas": null,
            "object_position": null,
            "object_fit": null,
            "grid_auto_columns": null,
            "margin": null,
            "display": null,
            "left": null
          }
        }
      }
    },
    "colab": {
      "name": "disaster_tweets_sentiment",
      "provenance": [],
      "collapsed_sections": [],
      "include_colab_link": true
    }
  },
  "nbformat": 4,
  "nbformat_minor": 5
}